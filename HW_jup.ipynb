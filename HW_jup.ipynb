{
 "cells": [
  {
   "cell_type": "markdown",
   "metadata": {},
   "source": [
    "# HW1\n",
    "Juan Vila"
   ]
  },
  {
   "cell_type": "code",
   "execution_count": 274,
   "metadata": {},
   "outputs": [],
   "source": [
    "#Importing Packeges\n",
    "import pandas as pd\n",
    "import geopandas as gpd\n",
    "import numpy as np\n",
    "import requests\n",
    "from sodapy import Socrata\n",
    "from shapely.geometry import shape\n",
    "from shapely.geometry import Point\n",
    "import censusgeocode as cg\n",
    "\n",
    "#fix parameters\n",
    "#keys\n",
    "census_key = \"59bc19643ed2a3eaabf9848b92e912c3c65b0ab5\"\n",
    "chicago_api_key = \"jx6Btc30ora3Vx9oia6r2H3HG\"\n",
    "user_chicago_api = \"jiv@uchicago.edu\"\n",
    "pass_chicago_api = \"Jiv.12345678\"\n",
    "#data\n",
    "crime_key = \"6zsd-86xi\"\n",
    "community_code = \"igwz-8jzy\"\n",
    "block_code = \"bt9m-d2mf\"\n",
    "census_data  = \"https://api.census.gov/data/2017/acs/acs5?get=NAME,B01001_001E,B17020_002E,B19051_001E&for=tract:*&in=state:17%20county:031\"\n",
    "time_to_work_data  = \"https://api.census.gov/data/2017/acs/acs5?get=NAME,B08303_001E,B08303_002E,B08303_003E,B08303_004E,B08303_005E,B08303_006E,B08303_007E,B08303_008E,B08303_009E,B08303_010E,B08303_011E,B08303_012E,B08303_013E&for=tract:*&in=state:17%20county:031\"\n",
    "\n",
    "\n"
   ]
  },
  {
   "cell_type": "markdown",
   "metadata": {},
   "source": [
    "## Question 1"
   ]
  },
  {
   "cell_type": "markdown",
   "metadata": {},
   "source": [
    "### Question 1 a"
   ]
  },
  {
   "cell_type": "code",
   "execution_count": 164,
   "metadata": {},
   "outputs": [
    {
     "data": {
      "text/plain": [
       "46357"
      ]
     },
     "execution_count": 164,
     "metadata": {},
     "output_type": "execute_result"
    }
   ],
   "source": [
    "#Get Data:\n",
    "#Functions\n",
    "def get_crime_data(data_key, crime=True):\n",
    "    '''\n",
    "    Description: This function its commnicate to the City Chicago Open Data servers and extract information\n",
    "    Input:\n",
    "        Data_key: code that identify the dataset in the chicago open data dataset.\n",
    "        crime:(True) it's for struact specificallly the crime data.\n",
    "    Output:\n",
    "    '''\n",
    "    client = Socrata(\"data.cityofchicago.org\", chicago_api_key, username=user_chicago_api,\n",
    "                     password=pass_chicago_api, timeout=1000)\n",
    "    if crime:\n",
    "        results = client.get(data_key, limit = 7000000, where='year>2016 AND year<2019')\n",
    "    else:\n",
    "        results = client.get(data_key, limit = 1000)\n",
    "    rv = pd.DataFrame.from_records(results)\n",
    "    return rv\n",
    "\n",
    "def get_json_data(key, limit, geo_pandas=True):\n",
    "    '''\n",
    "    Description: This function its commnicate to the City Chicago Open Data servers and extract information and\n",
    "                convert to a pandas frame or geopandas frme.\n",
    "    Input: \n",
    "        key(str): code that identify the dataset in the chicago open data dataset.\n",
    "        limit(int): limit of observations that the we can download from the original json file.\n",
    "        geo_pandas(boolean): if its true use geo pandas instead of pandas\n",
    "    Output:\n",
    "        Dataframe.\n",
    "    '''\n",
    "    http = \"https://data.cityofchicago.org/resource/\"\n",
    "    lim = \"?$limit=\" + str(limit)\n",
    "    json_str = \".json\"\n",
    "    request_str = http + key + json_str + lim\n",
    "    r = requests.get(request_str)\n",
    "    r.raise_for_status()\n",
    "    data = r.json()\n",
    "\n",
    "    if geo_pandas:\n",
    "        for d in data:\n",
    "            d['the_geom'] = shape(d['the_geom'])\n",
    "        rv = gpd.DataFrame(data).set_geometry('the_geom')\n",
    "    else:\n",
    "        rv = pd.DataFrame(data)\n",
    "    return rv\n",
    "\n",
    "#Getting data   \n",
    "gdf_blocks_chicago = get_geojson_data(block_code, 50000)\n",
    "df_crime = get_crime_data(crime_key)\n",
    "df_comm_chicago = get_crime_data(community_code, False)\n",
    "df_crime = df_crime.dropna(subset=['latitude', 'longitude'])\n",
    "df_crime.latitude = df_crime.latitude.astype(dtype=np.float64)\n",
    "df_crime.longitude = df_crime.longitude.astype(dtype=np.float64)\n",
    "df_crime = df_crime.merge(df_comm_chicago, left_on='community_area', right_on='area_num_1')"
   ]
  },
  {
   "cell_type": "markdown",
   "metadata": {},
   "source": [
    "### Question 1 b"
   ]
  },
  {
   "cell_type": "code",
   "execution_count": 222,
   "metadata": {},
   "outputs": [
    {
     "name": "stdout",
     "output_type": "stream",
     "text": [
      "year      2017    2018     All\n",
      "arrest                        \n",
      "False   212919  211160  424079\n",
      "True     52063   52380  104443\n",
      "All     264982  263540  528522\n"
     ]
    }
   ],
   "source": [
    "#Number of arrest by year\n",
    "tab1=pd.crosstab(index=df_crime[\"arrest\"],columns=df_crime[\"year\"], margins=True)\n",
    "print(tab1)"
   ]
  },
  {
   "cell_type": "code",
   "execution_count": 223,
   "metadata": {},
   "outputs": [
    {
     "data": {
      "text/html": [
       "<div>\n",
       "<style scoped>\n",
       "    .dataframe tbody tr th:only-of-type {\n",
       "        vertical-align: middle;\n",
       "    }\n",
       "\n",
       "    .dataframe tbody tr th {\n",
       "        vertical-align: top;\n",
       "    }\n",
       "\n",
       "    .dataframe thead th {\n",
       "        text-align: right;\n",
       "    }\n",
       "</style>\n",
       "<table border=\"1\" class=\"dataframe\">\n",
       "  <thead>\n",
       "    <tr style=\"text-align: right;\">\n",
       "      <th>year</th>\n",
       "      <th>2017</th>\n",
       "      <th>2018</th>\n",
       "      <th>All</th>\n",
       "    </tr>\n",
       "    <tr>\n",
       "      <th>arrest</th>\n",
       "      <th></th>\n",
       "      <th></th>\n",
       "      <th></th>\n",
       "    </tr>\n",
       "  </thead>\n",
       "  <tbody>\n",
       "    <tr>\n",
       "      <th>False</th>\n",
       "      <td>0.803523</td>\n",
       "      <td>0.801245</td>\n",
       "      <td>0.802387</td>\n",
       "    </tr>\n",
       "    <tr>\n",
       "      <th>True</th>\n",
       "      <td>0.196477</td>\n",
       "      <td>0.198755</td>\n",
       "      <td>0.197613</td>\n",
       "    </tr>\n",
       "    <tr>\n",
       "      <th>All</th>\n",
       "      <td>1.000000</td>\n",
       "      <td>1.000000</td>\n",
       "      <td>1.000000</td>\n",
       "    </tr>\n",
       "  </tbody>\n",
       "</table>\n",
       "</div>"
      ],
      "text/plain": [
       "year        2017      2018       All\n",
       "arrest                              \n",
       "False   0.803523  0.801245  0.802387\n",
       "True    0.196477  0.198755  0.197613\n",
       "All     1.000000  1.000000  1.000000"
      ]
     },
     "execution_count": 223,
     "metadata": {},
     "output_type": "execute_result"
    }
   ],
   "source": [
    "#% of arrest by year\n",
    "tab1/tab1.loc[\"All\"]"
   ]
  },
  {
   "cell_type": "code",
   "execution_count": 224,
   "metadata": {},
   "outputs": [
    {
     "data": {
      "text/html": [
       "<div>\n",
       "<style scoped>\n",
       "    .dataframe tbody tr th:only-of-type {\n",
       "        vertical-align: middle;\n",
       "    }\n",
       "\n",
       "    .dataframe tbody tr th {\n",
       "        vertical-align: top;\n",
       "    }\n",
       "\n",
       "    .dataframe thead tr th {\n",
       "        text-align: left;\n",
       "    }\n",
       "\n",
       "    .dataframe thead tr:last-of-type th {\n",
       "        text-align: right;\n",
       "    }\n",
       "</style>\n",
       "<table border=\"1\" class=\"dataframe\">\n",
       "  <thead>\n",
       "    <tr>\n",
       "      <th>year</th>\n",
       "      <th colspan=\"2\" halign=\"left\">2017</th>\n",
       "      <th colspan=\"2\" halign=\"left\">2018</th>\n",
       "      <th>All</th>\n",
       "    </tr>\n",
       "    <tr>\n",
       "      <th>arrest</th>\n",
       "      <th>False</th>\n",
       "      <th>True</th>\n",
       "      <th>False</th>\n",
       "      <th>True</th>\n",
       "      <th></th>\n",
       "    </tr>\n",
       "    <tr>\n",
       "      <th>community</th>\n",
       "      <th></th>\n",
       "      <th></th>\n",
       "      <th></th>\n",
       "      <th></th>\n",
       "      <th></th>\n",
       "    </tr>\n",
       "  </thead>\n",
       "  <tbody>\n",
       "    <tr>\n",
       "      <th>ALBANY PARK</th>\n",
       "      <td>2208</td>\n",
       "      <td>242</td>\n",
       "      <td>2120</td>\n",
       "      <td>272</td>\n",
       "      <td>4842</td>\n",
       "    </tr>\n",
       "    <tr>\n",
       "      <th>ARCHER HEIGHTS</th>\n",
       "      <td>722</td>\n",
       "      <td>114</td>\n",
       "      <td>706</td>\n",
       "      <td>105</td>\n",
       "      <td>1647</td>\n",
       "    </tr>\n",
       "    <tr>\n",
       "      <th>ARMOUR SQUARE</th>\n",
       "      <td>851</td>\n",
       "      <td>159</td>\n",
       "      <td>860</td>\n",
       "      <td>136</td>\n",
       "      <td>2006</td>\n",
       "    </tr>\n",
       "    <tr>\n",
       "      <th>ASHBURN</th>\n",
       "      <td>2178</td>\n",
       "      <td>288</td>\n",
       "      <td>2137</td>\n",
       "      <td>246</td>\n",
       "      <td>4849</td>\n",
       "    </tr>\n",
       "    <tr>\n",
       "      <th>AUBURN GRESHAM</th>\n",
       "      <td>5711</td>\n",
       "      <td>1751</td>\n",
       "      <td>5528</td>\n",
       "      <td>1785</td>\n",
       "      <td>14775</td>\n",
       "    </tr>\n",
       "    <tr>\n",
       "      <th>AUSTIN</th>\n",
       "      <td>11329</td>\n",
       "      <td>3945</td>\n",
       "      <td>11127</td>\n",
       "      <td>3819</td>\n",
       "      <td>30220</td>\n",
       "    </tr>\n",
       "    <tr>\n",
       "      <th>AVALON PARK</th>\n",
       "      <td>1067</td>\n",
       "      <td>204</td>\n",
       "      <td>948</td>\n",
       "      <td>203</td>\n",
       "      <td>2422</td>\n",
       "    </tr>\n",
       "    <tr>\n",
       "      <th>AVONDALE</th>\n",
       "      <td>2015</td>\n",
       "      <td>301</td>\n",
       "      <td>2049</td>\n",
       "      <td>250</td>\n",
       "      <td>4615</td>\n",
       "    </tr>\n",
       "    <tr>\n",
       "      <th>BELMONT CRAGIN</th>\n",
       "      <td>3777</td>\n",
       "      <td>767</td>\n",
       "      <td>3625</td>\n",
       "      <td>703</td>\n",
       "      <td>8872</td>\n",
       "    </tr>\n",
       "    <tr>\n",
       "      <th>BEVERLY</th>\n",
       "      <td>775</td>\n",
       "      <td>102</td>\n",
       "      <td>810</td>\n",
       "      <td>88</td>\n",
       "      <td>1775</td>\n",
       "    </tr>\n",
       "    <tr>\n",
       "      <th>BRIDGEPORT</th>\n",
       "      <td>1306</td>\n",
       "      <td>178</td>\n",
       "      <td>1280</td>\n",
       "      <td>211</td>\n",
       "      <td>2975</td>\n",
       "    </tr>\n",
       "    <tr>\n",
       "      <th>BRIGHTON PARK</th>\n",
       "      <td>1767</td>\n",
       "      <td>426</td>\n",
       "      <td>1782</td>\n",
       "      <td>382</td>\n",
       "      <td>4357</td>\n",
       "    </tr>\n",
       "    <tr>\n",
       "      <th>BURNSIDE</th>\n",
       "      <td>292</td>\n",
       "      <td>73</td>\n",
       "      <td>285</td>\n",
       "      <td>96</td>\n",
       "      <td>746</td>\n",
       "    </tr>\n",
       "    <tr>\n",
       "      <th>CALUMET HEIGHTS</th>\n",
       "      <td>1159</td>\n",
       "      <td>188</td>\n",
       "      <td>1136</td>\n",
       "      <td>239</td>\n",
       "      <td>2722</td>\n",
       "    </tr>\n",
       "    <tr>\n",
       "      <th>CHATHAM</th>\n",
       "      <td>4937</td>\n",
       "      <td>1410</td>\n",
       "      <td>4940</td>\n",
       "      <td>1523</td>\n",
       "      <td>12810</td>\n",
       "    </tr>\n",
       "    <tr>\n",
       "      <th>CHICAGO LAWN</th>\n",
       "      <td>4643</td>\n",
       "      <td>1053</td>\n",
       "      <td>4649</td>\n",
       "      <td>987</td>\n",
       "      <td>11332</td>\n",
       "    </tr>\n",
       "    <tr>\n",
       "      <th>CLEARING</th>\n",
       "      <td>775</td>\n",
       "      <td>106</td>\n",
       "      <td>849</td>\n",
       "      <td>95</td>\n",
       "      <td>1825</td>\n",
       "    </tr>\n",
       "    <tr>\n",
       "      <th>DOUGLAS</th>\n",
       "      <td>2025</td>\n",
       "      <td>553</td>\n",
       "      <td>2194</td>\n",
       "      <td>478</td>\n",
       "      <td>5250</td>\n",
       "    </tr>\n",
       "    <tr>\n",
       "      <th>DUNNING</th>\n",
       "      <td>1273</td>\n",
       "      <td>226</td>\n",
       "      <td>1309</td>\n",
       "      <td>181</td>\n",
       "      <td>2989</td>\n",
       "    </tr>\n",
       "    <tr>\n",
       "      <th>EAST GARFIELD PARK</th>\n",
       "      <td>3304</td>\n",
       "      <td>1408</td>\n",
       "      <td>3582</td>\n",
       "      <td>1298</td>\n",
       "      <td>9592</td>\n",
       "    </tr>\n",
       "    <tr>\n",
       "      <th>EAST SIDE</th>\n",
       "      <td>963</td>\n",
       "      <td>241</td>\n",
       "      <td>854</td>\n",
       "      <td>237</td>\n",
       "      <td>2295</td>\n",
       "    </tr>\n",
       "    <tr>\n",
       "      <th>EDGEWATER</th>\n",
       "      <td>2189</td>\n",
       "      <td>399</td>\n",
       "      <td>2344</td>\n",
       "      <td>377</td>\n",
       "      <td>5309</td>\n",
       "    </tr>\n",
       "    <tr>\n",
       "      <th>EDISON PARK</th>\n",
       "      <td>231</td>\n",
       "      <td>37</td>\n",
       "      <td>229</td>\n",
       "      <td>21</td>\n",
       "      <td>518</td>\n",
       "    </tr>\n",
       "    <tr>\n",
       "      <th>ENGLEWOOD</th>\n",
       "      <td>4408</td>\n",
       "      <td>1487</td>\n",
       "      <td>4637</td>\n",
       "      <td>1538</td>\n",
       "      <td>12070</td>\n",
       "    </tr>\n",
       "    <tr>\n",
       "      <th>FOREST GLEN</th>\n",
       "      <td>499</td>\n",
       "      <td>40</td>\n",
       "      <td>450</td>\n",
       "      <td>36</td>\n",
       "      <td>1025</td>\n",
       "    </tr>\n",
       "    <tr>\n",
       "      <th>FULLER PARK</th>\n",
       "      <td>700</td>\n",
       "      <td>174</td>\n",
       "      <td>634</td>\n",
       "      <td>197</td>\n",
       "      <td>1705</td>\n",
       "    </tr>\n",
       "    <tr>\n",
       "      <th>GAGE PARK</th>\n",
       "      <td>1850</td>\n",
       "      <td>430</td>\n",
       "      <td>1668</td>\n",
       "      <td>385</td>\n",
       "      <td>4333</td>\n",
       "    </tr>\n",
       "    <tr>\n",
       "      <th>GARFIELD RIDGE</th>\n",
       "      <td>1587</td>\n",
       "      <td>312</td>\n",
       "      <td>1673</td>\n",
       "      <td>391</td>\n",
       "      <td>3963</td>\n",
       "    </tr>\n",
       "    <tr>\n",
       "      <th>GRAND BOULEVARD</th>\n",
       "      <td>2814</td>\n",
       "      <td>582</td>\n",
       "      <td>2670</td>\n",
       "      <td>535</td>\n",
       "      <td>6601</td>\n",
       "    </tr>\n",
       "    <tr>\n",
       "      <th>GREATER GRAND CROSSING</th>\n",
       "      <td>5103</td>\n",
       "      <td>1315</td>\n",
       "      <td>4857</td>\n",
       "      <td>1440</td>\n",
       "      <td>12715</td>\n",
       "    </tr>\n",
       "    <tr>\n",
       "      <th>...</th>\n",
       "      <td>...</td>\n",
       "      <td>...</td>\n",
       "      <td>...</td>\n",
       "      <td>...</td>\n",
       "      <td>...</td>\n",
       "    </tr>\n",
       "    <tr>\n",
       "      <th>NEAR SOUTH SIDE</th>\n",
       "      <td>1597</td>\n",
       "      <td>297</td>\n",
       "      <td>1543</td>\n",
       "      <td>265</td>\n",
       "      <td>3702</td>\n",
       "    </tr>\n",
       "    <tr>\n",
       "      <th>NEAR WEST SIDE</th>\n",
       "      <td>7673</td>\n",
       "      <td>1267</td>\n",
       "      <td>7910</td>\n",
       "      <td>1353</td>\n",
       "      <td>18203</td>\n",
       "    </tr>\n",
       "    <tr>\n",
       "      <th>NEW CITY</th>\n",
       "      <td>3485</td>\n",
       "      <td>1121</td>\n",
       "      <td>3228</td>\n",
       "      <td>959</td>\n",
       "      <td>8793</td>\n",
       "    </tr>\n",
       "    <tr>\n",
       "      <th>NORTH CENTER</th>\n",
       "      <td>1251</td>\n",
       "      <td>143</td>\n",
       "      <td>1178</td>\n",
       "      <td>120</td>\n",
       "      <td>2692</td>\n",
       "    </tr>\n",
       "    <tr>\n",
       "      <th>NORTH LAWNDALE</th>\n",
       "      <td>5721</td>\n",
       "      <td>3253</td>\n",
       "      <td>5647</td>\n",
       "      <td>3589</td>\n",
       "      <td>18210</td>\n",
       "    </tr>\n",
       "    <tr>\n",
       "      <th>NORTH PARK</th>\n",
       "      <td>818</td>\n",
       "      <td>135</td>\n",
       "      <td>885</td>\n",
       "      <td>106</td>\n",
       "      <td>1944</td>\n",
       "    </tr>\n",
       "    <tr>\n",
       "      <th>NORWOOD PARK</th>\n",
       "      <td>952</td>\n",
       "      <td>129</td>\n",
       "      <td>1048</td>\n",
       "      <td>104</td>\n",
       "      <td>2233</td>\n",
       "    </tr>\n",
       "    <tr>\n",
       "      <th>OAKLAND</th>\n",
       "      <td>631</td>\n",
       "      <td>39</td>\n",
       "      <td>599</td>\n",
       "      <td>39</td>\n",
       "      <td>1308</td>\n",
       "    </tr>\n",
       "    <tr>\n",
       "      <th>OHARE</th>\n",
       "      <td>1165</td>\n",
       "      <td>471</td>\n",
       "      <td>1230</td>\n",
       "      <td>344</td>\n",
       "      <td>3210</td>\n",
       "    </tr>\n",
       "    <tr>\n",
       "      <th>PORTAGE PARK</th>\n",
       "      <td>2835</td>\n",
       "      <td>493</td>\n",
       "      <td>2754</td>\n",
       "      <td>409</td>\n",
       "      <td>6491</td>\n",
       "    </tr>\n",
       "    <tr>\n",
       "      <th>PULLMAN</th>\n",
       "      <td>731</td>\n",
       "      <td>356</td>\n",
       "      <td>827</td>\n",
       "      <td>369</td>\n",
       "      <td>2283</td>\n",
       "    </tr>\n",
       "    <tr>\n",
       "      <th>RIVERDALE</th>\n",
       "      <td>1038</td>\n",
       "      <td>301</td>\n",
       "      <td>1042</td>\n",
       "      <td>302</td>\n",
       "      <td>2683</td>\n",
       "    </tr>\n",
       "    <tr>\n",
       "      <th>ROGERS PARK</th>\n",
       "      <td>3444</td>\n",
       "      <td>641</td>\n",
       "      <td>3118</td>\n",
       "      <td>635</td>\n",
       "      <td>7838</td>\n",
       "    </tr>\n",
       "    <tr>\n",
       "      <th>ROSELAND</th>\n",
       "      <td>5206</td>\n",
       "      <td>1682</td>\n",
       "      <td>5133</td>\n",
       "      <td>1715</td>\n",
       "      <td>13736</td>\n",
       "    </tr>\n",
       "    <tr>\n",
       "      <th>SOUTH CHICAGO</th>\n",
       "      <td>3499</td>\n",
       "      <td>1034</td>\n",
       "      <td>3284</td>\n",
       "      <td>1007</td>\n",
       "      <td>8824</td>\n",
       "    </tr>\n",
       "    <tr>\n",
       "      <th>SOUTH DEERING</th>\n",
       "      <td>1338</td>\n",
       "      <td>405</td>\n",
       "      <td>1314</td>\n",
       "      <td>421</td>\n",
       "      <td>3478</td>\n",
       "    </tr>\n",
       "    <tr>\n",
       "      <th>SOUTH LAWNDALE</th>\n",
       "      <td>3563</td>\n",
       "      <td>926</td>\n",
       "      <td>3458</td>\n",
       "      <td>1049</td>\n",
       "      <td>8996</td>\n",
       "    </tr>\n",
       "    <tr>\n",
       "      <th>SOUTH SHORE</th>\n",
       "      <td>6915</td>\n",
       "      <td>1673</td>\n",
       "      <td>6843</td>\n",
       "      <td>1745</td>\n",
       "      <td>17176</td>\n",
       "    </tr>\n",
       "    <tr>\n",
       "      <th>UPTOWN</th>\n",
       "      <td>2896</td>\n",
       "      <td>617</td>\n",
       "      <td>2978</td>\n",
       "      <td>599</td>\n",
       "      <td>7090</td>\n",
       "    </tr>\n",
       "    <tr>\n",
       "      <th>WASHINGTON HEIGHTS</th>\n",
       "      <td>2540</td>\n",
       "      <td>514</td>\n",
       "      <td>2563</td>\n",
       "      <td>590</td>\n",
       "      <td>6207</td>\n",
       "    </tr>\n",
       "    <tr>\n",
       "      <th>WASHINGTON PARK</th>\n",
       "      <td>2269</td>\n",
       "      <td>432</td>\n",
       "      <td>2318</td>\n",
       "      <td>465</td>\n",
       "      <td>5484</td>\n",
       "    </tr>\n",
       "    <tr>\n",
       "      <th>WEST ELSDON</th>\n",
       "      <td>881</td>\n",
       "      <td>128</td>\n",
       "      <td>866</td>\n",
       "      <td>142</td>\n",
       "      <td>2017</td>\n",
       "    </tr>\n",
       "    <tr>\n",
       "      <th>WEST ENGLEWOOD</th>\n",
       "      <td>5064</td>\n",
       "      <td>1838</td>\n",
       "      <td>5256</td>\n",
       "      <td>1775</td>\n",
       "      <td>13933</td>\n",
       "    </tr>\n",
       "    <tr>\n",
       "      <th>WEST GARFIELD PARK</th>\n",
       "      <td>3310</td>\n",
       "      <td>2029</td>\n",
       "      <td>3528</td>\n",
       "      <td>2099</td>\n",
       "      <td>10966</td>\n",
       "    </tr>\n",
       "    <tr>\n",
       "      <th>WEST LAWN</th>\n",
       "      <td>1487</td>\n",
       "      <td>370</td>\n",
       "      <td>1483</td>\n",
       "      <td>285</td>\n",
       "      <td>3625</td>\n",
       "    </tr>\n",
       "    <tr>\n",
       "      <th>WEST PULLMAN</th>\n",
       "      <td>3085</td>\n",
       "      <td>874</td>\n",
       "      <td>3171</td>\n",
       "      <td>845</td>\n",
       "      <td>7975</td>\n",
       "    </tr>\n",
       "    <tr>\n",
       "      <th>WEST RIDGE</th>\n",
       "      <td>3105</td>\n",
       "      <td>443</td>\n",
       "      <td>3060</td>\n",
       "      <td>426</td>\n",
       "      <td>7034</td>\n",
       "    </tr>\n",
       "    <tr>\n",
       "      <th>WEST TOWN</th>\n",
       "      <td>7390</td>\n",
       "      <td>829</td>\n",
       "      <td>6408</td>\n",
       "      <td>762</td>\n",
       "      <td>15389</td>\n",
       "    </tr>\n",
       "    <tr>\n",
       "      <th>WOODLAWN</th>\n",
       "      <td>3062</td>\n",
       "      <td>739</td>\n",
       "      <td>2696</td>\n",
       "      <td>746</td>\n",
       "      <td>7243</td>\n",
       "    </tr>\n",
       "    <tr>\n",
       "      <th>All</th>\n",
       "      <td>212919</td>\n",
       "      <td>52063</td>\n",
       "      <td>211160</td>\n",
       "      <td>52380</td>\n",
       "      <td>528522</td>\n",
       "    </tr>\n",
       "  </tbody>\n",
       "</table>\n",
       "<p>78 rows × 5 columns</p>\n",
       "</div>"
      ],
      "text/plain": [
       "year                      2017           2018            All\n",
       "arrest                   False   True   False   True        \n",
       "community                                                   \n",
       "ALBANY PARK               2208    242    2120    272    4842\n",
       "ARCHER HEIGHTS             722    114     706    105    1647\n",
       "ARMOUR SQUARE              851    159     860    136    2006\n",
       "ASHBURN                   2178    288    2137    246    4849\n",
       "AUBURN GRESHAM            5711   1751    5528   1785   14775\n",
       "AUSTIN                   11329   3945   11127   3819   30220\n",
       "AVALON PARK               1067    204     948    203    2422\n",
       "AVONDALE                  2015    301    2049    250    4615\n",
       "BELMONT CRAGIN            3777    767    3625    703    8872\n",
       "BEVERLY                    775    102     810     88    1775\n",
       "BRIDGEPORT                1306    178    1280    211    2975\n",
       "BRIGHTON PARK             1767    426    1782    382    4357\n",
       "BURNSIDE                   292     73     285     96     746\n",
       "CALUMET HEIGHTS           1159    188    1136    239    2722\n",
       "CHATHAM                   4937   1410    4940   1523   12810\n",
       "CHICAGO LAWN              4643   1053    4649    987   11332\n",
       "CLEARING                   775    106     849     95    1825\n",
       "DOUGLAS                   2025    553    2194    478    5250\n",
       "DUNNING                   1273    226    1309    181    2989\n",
       "EAST GARFIELD PARK        3304   1408    3582   1298    9592\n",
       "EAST SIDE                  963    241     854    237    2295\n",
       "EDGEWATER                 2189    399    2344    377    5309\n",
       "EDISON PARK                231     37     229     21     518\n",
       "ENGLEWOOD                 4408   1487    4637   1538   12070\n",
       "FOREST GLEN                499     40     450     36    1025\n",
       "FULLER PARK                700    174     634    197    1705\n",
       "GAGE PARK                 1850    430    1668    385    4333\n",
       "GARFIELD RIDGE            1587    312    1673    391    3963\n",
       "GRAND BOULEVARD           2814    582    2670    535    6601\n",
       "GREATER GRAND CROSSING    5103   1315    4857   1440   12715\n",
       "...                        ...    ...     ...    ...     ...\n",
       "NEAR SOUTH SIDE           1597    297    1543    265    3702\n",
       "NEAR WEST SIDE            7673   1267    7910   1353   18203\n",
       "NEW CITY                  3485   1121    3228    959    8793\n",
       "NORTH CENTER              1251    143    1178    120    2692\n",
       "NORTH LAWNDALE            5721   3253    5647   3589   18210\n",
       "NORTH PARK                 818    135     885    106    1944\n",
       "NORWOOD PARK               952    129    1048    104    2233\n",
       "OAKLAND                    631     39     599     39    1308\n",
       "OHARE                     1165    471    1230    344    3210\n",
       "PORTAGE PARK              2835    493    2754    409    6491\n",
       "PULLMAN                    731    356     827    369    2283\n",
       "RIVERDALE                 1038    301    1042    302    2683\n",
       "ROGERS PARK               3444    641    3118    635    7838\n",
       "ROSELAND                  5206   1682    5133   1715   13736\n",
       "SOUTH CHICAGO             3499   1034    3284   1007    8824\n",
       "SOUTH DEERING             1338    405    1314    421    3478\n",
       "SOUTH LAWNDALE            3563    926    3458   1049    8996\n",
       "SOUTH SHORE               6915   1673    6843   1745   17176\n",
       "UPTOWN                    2896    617    2978    599    7090\n",
       "WASHINGTON HEIGHTS        2540    514    2563    590    6207\n",
       "WASHINGTON PARK           2269    432    2318    465    5484\n",
       "WEST ELSDON                881    128     866    142    2017\n",
       "WEST ENGLEWOOD            5064   1838    5256   1775   13933\n",
       "WEST GARFIELD PARK        3310   2029    3528   2099   10966\n",
       "WEST LAWN                 1487    370    1483    285    3625\n",
       "WEST PULLMAN              3085    874    3171    845    7975\n",
       "WEST RIDGE                3105    443    3060    426    7034\n",
       "WEST TOWN                 7390    829    6408    762   15389\n",
       "WOODLAWN                  3062    739    2696    746    7243\n",
       "All                     212919  52063  211160  52380  528522\n",
       "\n",
       "[78 rows x 5 columns]"
      ]
     },
     "execution_count": 224,
     "metadata": {},
     "output_type": "execute_result"
    }
   ],
   "source": [
    "#total of incidnets and arrests by year and community\n",
    "tab5 = pd.crosstab(index=df_crime[\"community\"], columns=[df_crime[\"year\"],df_crime[\"arrest\"]],margins=True) \n",
    "tab5"
   ]
  },
  {
   "cell_type": "code",
   "execution_count": 225,
   "metadata": {
    "scrolled": true
   },
   "outputs": [
    {
     "data": {
      "text/plain": [
       "community\n",
       "AUSTIN             14946\n",
       "NEAR NORTH SIDE    12845\n",
       "LOOP               10666\n",
       "NEAR WEST SIDE      9263\n",
       "NORTH LAWNDALE      9236\n",
       "SOUTH SHORE         8588\n",
       "HUMBOLDT PARK       7983\n",
       "AUBURN GRESHAM      7313\n",
       "WEST TOWN           7170\n",
       "WEST ENGLEWOOD      7031\n",
       "Name: arrest, dtype: int64"
      ]
     },
     "execution_count": 225,
     "metadata": {},
     "output_type": "execute_result"
    }
   ],
   "source": [
    "#top 10 communities by number of incidents in 2018\n",
    "tab2_2018 = df_crime[(df_crime['year']  == '2018')].groupby(['community'])['arrest'].count().nlargest(10)\n",
    "tab2_2018"
   ]
  },
  {
   "cell_type": "code",
   "execution_count": 160,
   "metadata": {},
   "outputs": [
    {
     "data": {
      "text/plain": [
       "community\n",
       "AUSTIN             15274\n",
       "NEAR NORTH SIDE    12115\n",
       "LOOP               10474\n",
       "NORTH LAWNDALE      8973\n",
       "NEAR WEST SIDE      8940\n",
       "SOUTH SHORE         8588\n",
       "WEST TOWN           8219\n",
       "HUMBOLDT PARK       8006\n",
       "AUBURN GRESHAM      7462\n",
       "WEST ENGLEWOOD      6902\n",
       "Name: arrest, dtype: int64"
      ]
     },
     "execution_count": 160,
     "metadata": {},
     "output_type": "execute_result"
    }
   ],
   "source": [
    "#top 10 communities by number of incidents in 2017\n",
    "tab2_2017 = df_crime[(df_crime['year']  == '2017')].groupby(['community'])['arrest'].count().nlargest(10)\n",
    "tab2_2017"
   ]
  },
  {
   "cell_type": "code",
   "execution_count": 227,
   "metadata": {},
   "outputs": [
    {
     "data": {
      "text/plain": [
       "community\n",
       "AUSTIN                3819.0\n",
       "NORTH LAWNDALE        3589.0\n",
       "HUMBOLDT PARK         2846.0\n",
       "WEST GARFIELD PARK    2099.0\n",
       "NEAR NORTH SIDE       2098.0\n",
       "AUBURN GRESHAM        1785.0\n",
       "WEST ENGLEWOOD        1775.0\n",
       "SOUTH SHORE           1745.0\n",
       "ROSELAND              1715.0\n",
       "LOOP                  1612.0\n",
       "Name: arrest, dtype: float64"
      ]
     },
     "execution_count": 227,
     "metadata": {},
     "output_type": "execute_result"
    }
   ],
   "source": [
    "#top 10 communities by number of arrests in 2018\n",
    "tab3_2018 = df_crime[(df_crime['year']  == '2018')].groupby(['community'])['arrest'].sum().nlargest(10)\n",
    "tab3_2018"
   ]
  },
  {
   "cell_type": "code",
   "execution_count": 228,
   "metadata": {},
   "outputs": [
    {
     "data": {
      "text/plain": [
       "community\n",
       "AUSTIN                3945.0\n",
       "NORTH LAWNDALE        3253.0\n",
       "HUMBOLDT PARK         2313.0\n",
       "NEAR NORTH SIDE       2134.0\n",
       "WEST GARFIELD PARK    2029.0\n",
       "WEST ENGLEWOOD        1838.0\n",
       "AUBURN GRESHAM        1751.0\n",
       "ROSELAND              1682.0\n",
       "SOUTH SHORE           1673.0\n",
       "LOOP                  1622.0\n",
       "Name: arrest, dtype: float64"
      ]
     },
     "execution_count": 228,
     "metadata": {},
     "output_type": "execute_result"
    }
   ],
   "source": [
    "#top 10 communities by number of arrests in 2017\n",
    "tab3_2017 = df_crime[(df_crime['year']  == '2017')].groupby(['community'])['arrest'].sum().nlargest(10)\n",
    "tab3_2017"
   ]
  },
  {
   "cell_type": "code",
   "execution_count": 229,
   "metadata": {},
   "outputs": [
    {
     "data": {
      "text/html": [
       "<div>\n",
       "<style scoped>\n",
       "    .dataframe tbody tr th:only-of-type {\n",
       "        vertical-align: middle;\n",
       "    }\n",
       "\n",
       "    .dataframe tbody tr th {\n",
       "        vertical-align: top;\n",
       "    }\n",
       "\n",
       "    .dataframe thead th {\n",
       "        text-align: right;\n",
       "    }\n",
       "</style>\n",
       "<table border=\"1\" class=\"dataframe\">\n",
       "  <thead>\n",
       "    <tr style=\"text-align: right;\">\n",
       "      <th></th>\n",
       "      <th>Non-Arrested</th>\n",
       "      <th>Arrested</th>\n",
       "      <th>Total</th>\n",
       "    </tr>\n",
       "    <tr>\n",
       "      <th>community</th>\n",
       "      <th></th>\n",
       "      <th></th>\n",
       "      <th></th>\n",
       "    </tr>\n",
       "  </thead>\n",
       "  <tbody>\n",
       "    <tr>\n",
       "      <th>NORTH LAWNDALE</th>\n",
       "      <td>0.611412</td>\n",
       "      <td>0.388588</td>\n",
       "      <td>1.0</td>\n",
       "    </tr>\n",
       "    <tr>\n",
       "      <th>WEST GARFIELD PARK</th>\n",
       "      <td>0.626977</td>\n",
       "      <td>0.373023</td>\n",
       "      <td>1.0</td>\n",
       "    </tr>\n",
       "    <tr>\n",
       "      <th>HUMBOLDT PARK</th>\n",
       "      <td>0.643492</td>\n",
       "      <td>0.356508</td>\n",
       "      <td>1.0</td>\n",
       "    </tr>\n",
       "    <tr>\n",
       "      <th>PULLMAN</th>\n",
       "      <td>0.691472</td>\n",
       "      <td>0.308528</td>\n",
       "      <td>1.0</td>\n",
       "    </tr>\n",
       "    <tr>\n",
       "      <th>EAST GARFIELD PARK</th>\n",
       "      <td>0.734016</td>\n",
       "      <td>0.265984</td>\n",
       "      <td>1.0</td>\n",
       "    </tr>\n",
       "    <tr>\n",
       "      <th>AUSTIN</th>\n",
       "      <td>0.744480</td>\n",
       "      <td>0.255520</td>\n",
       "      <td>1.0</td>\n",
       "    </tr>\n",
       "    <tr>\n",
       "      <th>WEST ENGLEWOOD</th>\n",
       "      <td>0.747547</td>\n",
       "      <td>0.252453</td>\n",
       "      <td>1.0</td>\n",
       "    </tr>\n",
       "    <tr>\n",
       "      <th>BURNSIDE</th>\n",
       "      <td>0.748031</td>\n",
       "      <td>0.251969</td>\n",
       "      <td>1.0</td>\n",
       "    </tr>\n",
       "    <tr>\n",
       "      <th>ROSELAND</th>\n",
       "      <td>0.749562</td>\n",
       "      <td>0.250438</td>\n",
       "      <td>1.0</td>\n",
       "    </tr>\n",
       "    <tr>\n",
       "      <th>ENGLEWOOD</th>\n",
       "      <td>0.750931</td>\n",
       "      <td>0.249069</td>\n",
       "      <td>1.0</td>\n",
       "    </tr>\n",
       "  </tbody>\n",
       "</table>\n",
       "</div>"
      ],
      "text/plain": [
       "                    Non-Arrested  Arrested  Total\n",
       "community                                        \n",
       "NORTH LAWNDALE          0.611412  0.388588    1.0\n",
       "WEST GARFIELD PARK      0.626977  0.373023    1.0\n",
       "HUMBOLDT PARK           0.643492  0.356508    1.0\n",
       "PULLMAN                 0.691472  0.308528    1.0\n",
       "EAST GARFIELD PARK      0.734016  0.265984    1.0\n",
       "AUSTIN                  0.744480  0.255520    1.0\n",
       "WEST ENGLEWOOD          0.747547  0.252453    1.0\n",
       "BURNSIDE                0.748031  0.251969    1.0\n",
       "ROSELAND                0.749562  0.250438    1.0\n",
       "ENGLEWOOD               0.750931  0.249069    1.0"
      ]
     },
     "execution_count": 229,
     "metadata": {},
     "output_type": "execute_result"
    }
   ],
   "source": [
    "#Top 10 communities when a call generate an arrest as porcentange of the total of incidents in 2018\n",
    "crime_2018 = df_crime[(df_crime['year']  == '2018')]\n",
    "tab4_2018=pd.crosstab(index=crime_2018[\"community\"], columns = crime_2018['arrest'], margins=True)\n",
    "tab4_2018.columns = [\"Non-Arrested\",\"Arrested\", \"Total\"]\n",
    "tab4_2018 = tab4_2018/tab4_2018.loc[\"All\",\"Total\"]\n",
    "tab4_2018 = tab4_2018.div(tab4_2018[\"Total\"], axis=0)\n",
    "tab4_2018.sort_values(\"Arrested\",ascending=False).head(10)"
   ]
  },
  {
   "cell_type": "code",
   "execution_count": 271,
   "metadata": {},
   "outputs": [
    {
     "data": {
      "text/html": [
       "<div>\n",
       "<style scoped>\n",
       "    .dataframe tbody tr th:only-of-type {\n",
       "        vertical-align: middle;\n",
       "    }\n",
       "\n",
       "    .dataframe tbody tr th {\n",
       "        vertical-align: top;\n",
       "    }\n",
       "\n",
       "    .dataframe thead th {\n",
       "        text-align: right;\n",
       "    }\n",
       "</style>\n",
       "<table border=\"1\" class=\"dataframe\">\n",
       "  <thead>\n",
       "    <tr style=\"text-align: right;\">\n",
       "      <th></th>\n",
       "      <th>Non-Arrested</th>\n",
       "      <th>Arrested</th>\n",
       "      <th>Total</th>\n",
       "    </tr>\n",
       "    <tr>\n",
       "      <th>community</th>\n",
       "      <th></th>\n",
       "      <th></th>\n",
       "      <th></th>\n",
       "    </tr>\n",
       "  </thead>\n",
       "  <tbody>\n",
       "    <tr>\n",
       "      <th>WEST GARFIELD PARK</th>\n",
       "      <td>0.619966</td>\n",
       "      <td>0.380034</td>\n",
       "      <td>1.0</td>\n",
       "    </tr>\n",
       "    <tr>\n",
       "      <th>NORTH LAWNDALE</th>\n",
       "      <td>0.637468</td>\n",
       "      <td>0.362532</td>\n",
       "      <td>1.0</td>\n",
       "    </tr>\n",
       "    <tr>\n",
       "      <th>PULLMAN</th>\n",
       "      <td>0.672493</td>\n",
       "      <td>0.327507</td>\n",
       "      <td>1.0</td>\n",
       "    </tr>\n",
       "    <tr>\n",
       "      <th>EAST GARFIELD PARK</th>\n",
       "      <td>0.701188</td>\n",
       "      <td>0.298812</td>\n",
       "      <td>1.0</td>\n",
       "    </tr>\n",
       "    <tr>\n",
       "      <th>HUMBOLDT PARK</th>\n",
       "      <td>0.711092</td>\n",
       "      <td>0.288908</td>\n",
       "      <td>1.0</td>\n",
       "    </tr>\n",
       "    <tr>\n",
       "      <th>OHARE</th>\n",
       "      <td>0.712103</td>\n",
       "      <td>0.287897</td>\n",
       "      <td>1.0</td>\n",
       "    </tr>\n",
       "    <tr>\n",
       "      <th>WEST ENGLEWOOD</th>\n",
       "      <td>0.733700</td>\n",
       "      <td>0.266300</td>\n",
       "      <td>1.0</td>\n",
       "    </tr>\n",
       "    <tr>\n",
       "      <th>AUSTIN</th>\n",
       "      <td>0.741718</td>\n",
       "      <td>0.258282</td>\n",
       "      <td>1.0</td>\n",
       "    </tr>\n",
       "    <tr>\n",
       "      <th>ENGLEWOOD</th>\n",
       "      <td>0.747752</td>\n",
       "      <td>0.252248</td>\n",
       "      <td>1.0</td>\n",
       "    </tr>\n",
       "    <tr>\n",
       "      <th>ROSELAND</th>\n",
       "      <td>0.755807</td>\n",
       "      <td>0.244193</td>\n",
       "      <td>1.0</td>\n",
       "    </tr>\n",
       "  </tbody>\n",
       "</table>\n",
       "</div>"
      ],
      "text/plain": [
       "                    Non-Arrested  Arrested  Total\n",
       "community                                        \n",
       "WEST GARFIELD PARK      0.619966  0.380034    1.0\n",
       "NORTH LAWNDALE          0.637468  0.362532    1.0\n",
       "PULLMAN                 0.672493  0.327507    1.0\n",
       "EAST GARFIELD PARK      0.701188  0.298812    1.0\n",
       "HUMBOLDT PARK           0.711092  0.288908    1.0\n",
       "OHARE                   0.712103  0.287897    1.0\n",
       "WEST ENGLEWOOD          0.733700  0.266300    1.0\n",
       "AUSTIN                  0.741718  0.258282    1.0\n",
       "ENGLEWOOD               0.747752  0.252248    1.0\n",
       "ROSELAND                0.755807  0.244193    1.0"
      ]
     },
     "execution_count": 271,
     "metadata": {},
     "output_type": "execute_result"
    }
   ],
   "source": [
    "#Top 10 communities when a call generate an arrest as porcentange of the total of incidents in 2017\n",
    "crime_2017 = df_crime[(df_crime['year']  == '2017')]\n",
    "tab4_2017 = pd.crosstab(index=crime_2017[\"community\"], columns = crime_2017['arrest'], margins=True)\n",
    "tab4_2017.columns = [\"Non-Arrested\",\"Arrested\", \"Total\"]\n",
    "tab4_2017 = tab4_2017/tab4_2017.loc[\"All\",\"Total\"]\n",
    "tab4_2017 = tab4_2017.div(tab4_2017[\"Total\"], axis=0)\n",
    "tab4_2017.sort_values(\"Arrested\",ascending=False).head(10)"
   ]
  },
  {
   "cell_type": "code",
   "execution_count": 230,
   "metadata": {},
   "outputs": [
    {
     "data": {
      "text/plain": [
       "primary_type\n",
       "THEFT                                64025\n",
       "BATTERY                              49719\n",
       "CRIMINAL DAMAGE                      27700\n",
       "ASSAULT                              20341\n",
       "DECEPTIVE PRACTICE                   17862\n",
       "OTHER OFFENSE                        16970\n",
       "NARCOTICS                            12797\n",
       "BURGLARY                             11687\n",
       "MOTOR VEHICLE THEFT                   9964\n",
       "ROBBERY                               9680\n",
       "CRIMINAL TRESPASS                     6881\n",
       "WEAPONS VIOLATION                     5444\n",
       "OFFENSE INVOLVING CHILDREN            2174\n",
       "CRIM SEXUAL ASSAULT                   1588\n",
       "PUBLIC PEACE VIOLATION                1362\n",
       "INTERFERENCE WITH PUBLIC OFFICER      1305\n",
       "SEX OFFENSE                           1061\n",
       "PROSTITUTION                           717\n",
       "HOMICIDE                               586\n",
       "ARSON                                  372\n",
       "LIQUOR LAW VIOLATION                   265\n",
       "GAMBLING                               201\n",
       "STALKING                               201\n",
       "KIDNAPPING                             169\n",
       "INTIMIDATION                           166\n",
       "CONCEALED CARRY LICENSE VIOLATION      148\n",
       "OBSCENITY                               86\n",
       "NON-CRIMINAL                            37\n",
       "PUBLIC INDECENCY                        14\n",
       "HUMAN TRAFFICKING                       14\n",
       "NON-CRIMINAL (SUBJECT SPECIFIED)         3\n",
       "OTHER NARCOTIC VIOLATION                 1\n",
       "Name: arrest, dtype: int64"
      ]
     },
     "execution_count": 230,
     "metadata": {},
     "output_type": "execute_result"
    }
   ],
   "source": [
    "tab6_2018 = df_crime[(df_crime['year']=='2018')].groupby(['primary_type'])['arrest'].count().nlargest(32)\n",
    "tab6_2018"
   ]
  },
  {
   "cell_type": "code",
   "execution_count": 231,
   "metadata": {},
   "outputs": [
    {
     "data": {
      "text/plain": [
       "primary_type\n",
       "THEFT                                63586\n",
       "BATTERY                              49137\n",
       "CRIMINAL DAMAGE                      28955\n",
       "ASSAULT                              19251\n",
       "DECEPTIVE PRACTICE                   17768\n",
       "OTHER OFFENSE                        16965\n",
       "BURGLARY                             12947\n",
       "ROBBERY                              11869\n",
       "NARCOTICS                            11475\n",
       "MOTOR VEHICLE THEFT                  11367\n",
       "CRIMINAL TRESPASS                     6799\n",
       "WEAPONS VIOLATION                     4682\n",
       "OFFENSE INVOLVING CHILDREN            2145\n",
       "CRIM SEXUAL ASSAULT                   1541\n",
       "PUBLIC PEACE VIOLATION                1496\n",
       "INTERFERENCE WITH PUBLIC OFFICER      1083\n",
       "SEX OFFENSE                            939\n",
       "PROSTITUTION                           734\n",
       "HOMICIDE                               676\n",
       "ARSON                                  444\n",
       "GAMBLING                               191\n",
       "LIQUOR LAW VIOLATION                   191\n",
       "KIDNAPPING                             190\n",
       "STALKING                               184\n",
       "INTIMIDATION                           150\n",
       "OBSCENITY                               80\n",
       "CONCEALED CARRY LICENSE VIOLATION       69\n",
       "NON-CRIMINAL                            37\n",
       "OTHER NARCOTIC VIOLATION                11\n",
       "PUBLIC INDECENCY                        10\n",
       "HUMAN TRAFFICKING                        8\n",
       "NON-CRIMINAL (SUBJECT SPECIFIED)         2\n",
       "Name: arrest, dtype: int64"
      ]
     },
     "execution_count": 231,
     "metadata": {},
     "output_type": "execute_result"
    }
   ],
   "source": [
    "tab6_2017 = df_crime[(df_crime['year']=='2017')].groupby(['primary_type'])['arrest'].count().nlargest(32)\n",
    "tab6_2017"
   ]
  },
  {
   "cell_type": "code",
   "execution_count": 273,
   "metadata": {},
   "outputs": [
    {
     "data": {
      "text/html": [
       "<div>\n",
       "<style scoped>\n",
       "    .dataframe tbody tr th:only-of-type {\n",
       "        vertical-align: middle;\n",
       "    }\n",
       "\n",
       "    .dataframe tbody tr th {\n",
       "        vertical-align: top;\n",
       "    }\n",
       "\n",
       "    .dataframe thead th {\n",
       "        text-align: right;\n",
       "    }\n",
       "</style>\n",
       "<table border=\"1\" class=\"dataframe\">\n",
       "  <thead>\n",
       "    <tr style=\"text-align: right;\">\n",
       "      <th></th>\n",
       "      <th>Non-Arrested</th>\n",
       "      <th>Arrested</th>\n",
       "      <th>Total</th>\n",
       "    </tr>\n",
       "    <tr>\n",
       "      <th>primary_type</th>\n",
       "      <th></th>\n",
       "      <th></th>\n",
       "      <th></th>\n",
       "    </tr>\n",
       "  </thead>\n",
       "  <tbody>\n",
       "    <tr>\n",
       "      <th>LIQUOR LAW VIOLATION</th>\n",
       "      <td>0.000000</td>\n",
       "      <td>1.000000</td>\n",
       "      <td>1.0</td>\n",
       "    </tr>\n",
       "    <tr>\n",
       "      <th>PROSTITUTION</th>\n",
       "      <td>0.000000</td>\n",
       "      <td>1.000000</td>\n",
       "      <td>1.0</td>\n",
       "    </tr>\n",
       "    <tr>\n",
       "      <th>GAMBLING</th>\n",
       "      <td>0.000000</td>\n",
       "      <td>1.000000</td>\n",
       "      <td>1.0</td>\n",
       "    </tr>\n",
       "    <tr>\n",
       "      <th>PUBLIC INDECENCY</th>\n",
       "      <td>0.000000</td>\n",
       "      <td>1.000000</td>\n",
       "      <td>1.0</td>\n",
       "    </tr>\n",
       "    <tr>\n",
       "      <th>NARCOTICS</th>\n",
       "      <td>0.000469</td>\n",
       "      <td>0.999531</td>\n",
       "      <td>1.0</td>\n",
       "    </tr>\n",
       "    <tr>\n",
       "      <th>CONCEALED CARRY LICENSE VIOLATION</th>\n",
       "      <td>0.027027</td>\n",
       "      <td>0.972973</td>\n",
       "      <td>1.0</td>\n",
       "    </tr>\n",
       "    <tr>\n",
       "      <th>INTERFERENCE WITH PUBLIC OFFICER</th>\n",
       "      <td>0.045977</td>\n",
       "      <td>0.954023</td>\n",
       "      <td>1.0</td>\n",
       "    </tr>\n",
       "    <tr>\n",
       "      <th>OBSCENITY</th>\n",
       "      <td>0.186047</td>\n",
       "      <td>0.813953</td>\n",
       "      <td>1.0</td>\n",
       "    </tr>\n",
       "    <tr>\n",
       "      <th>WEAPONS VIOLATION</th>\n",
       "      <td>0.302351</td>\n",
       "      <td>0.697649</td>\n",
       "      <td>1.0</td>\n",
       "    </tr>\n",
       "    <tr>\n",
       "      <th>PUBLIC PEACE VIOLATION</th>\n",
       "      <td>0.394273</td>\n",
       "      <td>0.605727</td>\n",
       "      <td>1.0</td>\n",
       "    </tr>\n",
       "  </tbody>\n",
       "</table>\n",
       "</div>"
      ],
      "text/plain": [
       "                                   Non-Arrested  Arrested  Total\n",
       "primary_type                                                    \n",
       "LIQUOR LAW VIOLATION                   0.000000  1.000000    1.0\n",
       "PROSTITUTION                           0.000000  1.000000    1.0\n",
       "GAMBLING                               0.000000  1.000000    1.0\n",
       "PUBLIC INDECENCY                       0.000000  1.000000    1.0\n",
       "NARCOTICS                              0.000469  0.999531    1.0\n",
       "CONCEALED CARRY LICENSE VIOLATION      0.027027  0.972973    1.0\n",
       "INTERFERENCE WITH PUBLIC OFFICER       0.045977  0.954023    1.0\n",
       "OBSCENITY                              0.186047  0.813953    1.0\n",
       "WEAPONS VIOLATION                      0.302351  0.697649    1.0\n",
       "PUBLIC PEACE VIOLATION                 0.394273  0.605727    1.0"
      ]
     },
     "execution_count": 273,
     "metadata": {},
     "output_type": "execute_result"
    }
   ],
   "source": [
    "#Top 10 types of crime when a call generate an arrest as porcentange of the total of incidents in 2018\n",
    "crime_2018 = df_crime[(df_crime['year']  == '2018')]\n",
    "tab7_2018=pd.crosstab(index=crime_2018['primary_type'], columns = crime_2018['arrest'], margins=True)\n",
    "tab7_2018.columns = [\"Non-Arrested\",\"Arrested\", \"Total\"]\n",
    "tab7_2018 = tab7_2018/tab7_2018.loc[\"All\",\"Total\"]\n",
    "tab7_2018 = tab7_2018.div(tab7_2018[\"Total\"], axis=0)\n",
    "tab7_2018.sort_values(\"Arrested\",ascending=False).head(10)"
   ]
  },
  {
   "cell_type": "code",
   "execution_count": 292,
   "metadata": {},
   "outputs": [
    {
     "data": {
      "text/html": [
       "<div>\n",
       "<style scoped>\n",
       "    .dataframe tbody tr th:only-of-type {\n",
       "        vertical-align: middle;\n",
       "    }\n",
       "\n",
       "    .dataframe tbody tr th {\n",
       "        vertical-align: top;\n",
       "    }\n",
       "\n",
       "    .dataframe thead th {\n",
       "        text-align: right;\n",
       "    }\n",
       "</style>\n",
       "<table border=\"1\" class=\"dataframe\">\n",
       "  <thead>\n",
       "    <tr style=\"text-align: right;\">\n",
       "      <th></th>\n",
       "      <th>Non-Arrested</th>\n",
       "      <th>Arrested</th>\n",
       "      <th>Total</th>\n",
       "    </tr>\n",
       "    <tr>\n",
       "      <th>primary_type</th>\n",
       "      <th></th>\n",
       "      <th></th>\n",
       "      <th></th>\n",
       "    </tr>\n",
       "  </thead>\n",
       "  <tbody>\n",
       "    <tr>\n",
       "      <th>PROSTITUTION</th>\n",
       "      <td>0.000000</td>\n",
       "      <td>1.000000</td>\n",
       "      <td>1.0</td>\n",
       "    </tr>\n",
       "    <tr>\n",
       "      <th>GAMBLING</th>\n",
       "      <td>0.000000</td>\n",
       "      <td>1.000000</td>\n",
       "      <td>1.0</td>\n",
       "    </tr>\n",
       "    <tr>\n",
       "      <th>LIQUOR LAW VIOLATION</th>\n",
       "      <td>0.000000</td>\n",
       "      <td>1.000000</td>\n",
       "      <td>1.0</td>\n",
       "    </tr>\n",
       "    <tr>\n",
       "      <th>PUBLIC INDECENCY</th>\n",
       "      <td>0.000000</td>\n",
       "      <td>1.000000</td>\n",
       "      <td>1.0</td>\n",
       "    </tr>\n",
       "    <tr>\n",
       "      <th>NARCOTICS</th>\n",
       "      <td>0.000436</td>\n",
       "      <td>0.999564</td>\n",
       "      <td>1.0</td>\n",
       "    </tr>\n",
       "    <tr>\n",
       "      <th>CONCEALED CARRY LICENSE VIOLATION</th>\n",
       "      <td>0.043478</td>\n",
       "      <td>0.956522</td>\n",
       "      <td>1.0</td>\n",
       "    </tr>\n",
       "    <tr>\n",
       "      <th>INTERFERENCE WITH PUBLIC OFFICER</th>\n",
       "      <td>0.048938</td>\n",
       "      <td>0.951062</td>\n",
       "      <td>1.0</td>\n",
       "    </tr>\n",
       "    <tr>\n",
       "      <th>OBSCENITY</th>\n",
       "      <td>0.212500</td>\n",
       "      <td>0.787500</td>\n",
       "      <td>1.0</td>\n",
       "    </tr>\n",
       "    <tr>\n",
       "      <th>WEAPONS VIOLATION</th>\n",
       "      <td>0.214865</td>\n",
       "      <td>0.785135</td>\n",
       "      <td>1.0</td>\n",
       "    </tr>\n",
       "    <tr>\n",
       "      <th>PUBLIC PEACE VIOLATION</th>\n",
       "      <td>0.317513</td>\n",
       "      <td>0.682487</td>\n",
       "      <td>1.0</td>\n",
       "    </tr>\n",
       "  </tbody>\n",
       "</table>\n",
       "</div>"
      ],
      "text/plain": [
       "                                   Non-Arrested  Arrested  Total\n",
       "primary_type                                                    \n",
       "PROSTITUTION                           0.000000  1.000000    1.0\n",
       "GAMBLING                               0.000000  1.000000    1.0\n",
       "LIQUOR LAW VIOLATION                   0.000000  1.000000    1.0\n",
       "PUBLIC INDECENCY                       0.000000  1.000000    1.0\n",
       "NARCOTICS                              0.000436  0.999564    1.0\n",
       "CONCEALED CARRY LICENSE VIOLATION      0.043478  0.956522    1.0\n",
       "INTERFERENCE WITH PUBLIC OFFICER       0.048938  0.951062    1.0\n",
       "OBSCENITY                              0.212500  0.787500    1.0\n",
       "WEAPONS VIOLATION                      0.214865  0.785135    1.0\n",
       "PUBLIC PEACE VIOLATION                 0.317513  0.682487    1.0"
      ]
     },
     "execution_count": 292,
     "metadata": {},
     "output_type": "execute_result"
    }
   ],
   "source": [
    "#Top 10 types of crime when a call generate an arrest as porcentange of the total of incidents in 2017\n",
    "crime_2017 = df_crime[(df_crime['year']  == '2017')]\n",
    "tab7_2017=pd.crosstab(index=crime_2017['primary_type'], columns = crime_2017['arrest'], margins=True)\n",
    "tab7_2017.columns = [\"Non-Arrested\",\"Arrested\", \"Total\"]\n",
    "tab7_2017 = tab7_2017/tab7_2017.loc[\"All\",\"Total\"]\n",
    "tab7_2017 = tab7_2017.div(tab7_2017[\"Total\"], axis=0)\n",
    "tab7_2017.sort_values(\"Arrested\",ascending=False).head(10)"
   ]
  },
  {
   "cell_type": "markdown",
   "metadata": {},
   "source": [
    "## Question 2"
   ]
  },
  {
   "cell_type": "code",
   "execution_count": 52,
   "metadata": {},
   "outputs": [],
   "source": [
    "#Spatial merging.\n",
    "geometry = [Point(xy) for xy in zip(df_crime.longitude, df_crime.latitude)]\n",
    "df_crime = df_crime.drop(['longitude', 'latitude'], axis=1)\n",
    "crs = {'init': 'epsg:4326'}\n",
    "gdf_crime = gpd.GeoDataFrame(df_crime, crs=crs, geometry=geometry)\n",
    "crime_with_blocks = gpd.sjoin(gdf_blocks_chicago, gdf_crime, how=\"inner\", op='intersects')"
   ]
  },
  {
   "cell_type": "code",
   "execution_count": 130,
   "metadata": {},
   "outputs": [],
   "source": [
    "#Importing census data\n",
    "#income and poverty\n",
    "df_census = pd.read_json(census_data)\n",
    "df_census.columns = df_census.iloc[0]\n",
    "df_census = df_census.reindex(df_census.index.drop(0))\n",
    "df_census.B17020_002E = df_census.B17020_002E.astype(dtype=np.float64)#number of poor people\n",
    "df_census.B01001_001E = df_census.B01001_001E.astype(dtype=np.float64)#population\n",
    "df_census.B19051_001E = df_census.B19051_001E.astype(dtype=np.float64)#average earnings\n",
    "df_census['pseudo_pov_rate'] = df_census['B17020_002E']/df_census['B01001_001E']\n",
    "\n",
    "#time to work\n",
    "df_ttw = pd.read_json(time_to_work_data)\n",
    "df_ttw.columns = df_ttw.iloc[0]\n",
    "df_ttw = df_ttw.reindex(df_ttw.index.drop(0))\n",
    "df_ttw.B08303_001E = df_ttw.B08303_001E.astype(dtype=np.float64)#total\n",
    "df_ttw.B08303_002E = df_ttw.B08303_002E.astype(dtype=np.float64) * 2.5\n",
    "df_ttw.B08303_003E = df_ttw.B08303_003E.astype(dtype=np.float64) * 7.5\n",
    "df_ttw.B08303_004E = df_ttw.B08303_004E.astype(dtype=np.float64) * 12.5\n",
    "df_ttw.B08303_005E = df_ttw.B08303_005E.astype(dtype=np.float64) * 17.5\n",
    "df_ttw.B08303_006E = df_ttw.B08303_006E.astype(dtype=np.float64) * 22.5\n",
    "df_ttw.B08303_007E = df_ttw.B08303_007E.astype(dtype=np.float64) * 27.5\n",
    "df_ttw.B08303_008E = df_ttw.B08303_008E.astype(dtype=np.float64) * 32.5\n",
    "df_ttw.B08303_009E = df_ttw.B08303_009E.astype(dtype=np.float64) * 37.5\n",
    "df_ttw.B08303_010E = df_ttw.B08303_010E.astype(dtype=np.float64) * 42.5\n",
    "df_ttw.B08303_011E = df_ttw.B08303_011E.astype(dtype=np.float64) * 52.5\n",
    "df_ttw.B08303_012E = df_ttw.B08303_012E.astype(dtype=np.float64) * 75\n",
    "df_ttw.B08303_013E = df_ttw.B08303_013E.astype(dtype=np.float64) * 90\n",
    "\n",
    "df_ttw['average_time'] = df_ttw.B08303_002E + df_ttw.B08303_003E + df_ttw.B08303_004E + df_ttw.B08303_005E + df_ttw.B08303_006E + df_ttw.B08303_007E + df_ttw.B08303_008E + df_ttw.B08303_009E + df_ttw.B08303_010E + df_ttw.B08303_011E + df_ttw.B08303_012E + df_ttw.B08303_013E\n",
    "df_ttw['average_time'] = df_ttw['average_time']/df_ttw['B08303_001E']\n",
    "\n",
    "#merging with crime data\n",
    "crime_with_blocks = crime_with_blocks.merge(df_ttw, left_on='tractce10', right_on='tract')\n",
    "crime_with_blocks = crime_with_blocks.merge(df_census, left_on='tractce10', right_on='tract')\n",
    "\n",
    "\n"
   ]
  },
  {
   "cell_type": "markdown",
   "metadata": {},
   "source": [
    "### Q2-p1"
   ]
  },
  {
   "cell_type": "code",
   "execution_count": 139,
   "metadata": {},
   "outputs": [
    {
     "data": {
      "text/plain": [
       "count    98285.000000\n",
       "mean         0.282587\n",
       "std          0.143196\n",
       "min          0.004437\n",
       "25%          0.166633\n",
       "50%          0.279943\n",
       "75%          0.384096\n",
       "max          0.736909\n",
       "Name: pseudo_pov_rate, dtype: float64"
      ]
     },
     "execution_count": 139,
     "metadata": {},
     "output_type": "execute_result"
    }
   ],
   "source": [
    "crime_with_blocks[(crime_with_blocks['primary_type'] == 'BATTERY')].pseudo_pov_rate.describe()"
   ]
  },
  {
   "cell_type": "code",
   "execution_count": 148,
   "metadata": {},
   "outputs": [
    {
     "data": {
      "text/plain": [
       "count    425786.000000\n",
       "mean          0.244890\n",
       "std           0.143551\n",
       "min           0.004437\n",
       "25%           0.125938\n",
       "50%           0.229087\n",
       "75%           0.342600\n",
       "max           0.736909\n",
       "Name: pseudo_pov_rate, dtype: float64"
      ]
     },
     "execution_count": 148,
     "metadata": {},
     "output_type": "execute_result"
    }
   ],
   "source": [
    "crime_with_blocks[(crime_with_blocks['primary_type'] != 'BATTERY')].pseudo_pov_rate.describe()"
   ]
  },
  {
   "cell_type": "code",
   "execution_count": 141,
   "metadata": {},
   "outputs": [
    {
     "data": {
      "text/plain": [
       "count    98285.000000\n",
       "mean        40.434745\n",
       "std          5.899585\n",
       "min         20.351382\n",
       "25%         36.986375\n",
       "50%         40.958333\n",
       "75%         43.986920\n",
       "max         60.885762\n",
       "Name: average_time, dtype: float64"
      ]
     },
     "execution_count": 141,
     "metadata": {},
     "output_type": "execute_result"
    }
   ],
   "source": [
    "crime_with_blocks[(crime_with_blocks['primary_type'] == 'BATTERY')].average_time.describe()"
   ]
  },
  {
   "cell_type": "code",
   "execution_count": 149,
   "metadata": {},
   "outputs": [
    {
     "data": {
      "text/plain": [
       "count    425786.000000\n",
       "mean         38.954815\n",
       "std           6.399348\n",
       "min          20.351382\n",
       "25%          35.227273\n",
       "50%          39.656411\n",
       "75%          43.424339\n",
       "max          60.885762\n",
       "Name: average_time, dtype: float64"
      ]
     },
     "execution_count": 149,
     "metadata": {},
     "output_type": "execute_result"
    }
   ],
   "source": [
    "crime_with_blocks[(crime_with_blocks['primary_type'] != 'BATTERY')].average_time.describe() "
   ]
  },
  {
   "cell_type": "code",
   "execution_count": 144,
   "metadata": {},
   "outputs": [
    {
     "data": {
      "text/plain": [
       "count    98617.000000\n",
       "mean      1451.545545\n",
       "std       1081.787312\n",
       "min          0.000000\n",
       "25%        816.000000\n",
       "50%       1275.000000\n",
       "75%       1790.000000\n",
       "max      11012.000000\n",
       "Name: B19051_001E, dtype: float64"
      ]
     },
     "execution_count": 144,
     "metadata": {},
     "output_type": "execute_result"
    }
   ],
   "source": [
    "crime_with_blocks[(crime_with_blocks['primary_type'] == 'BATTERY')].B19051_001E.describe()"
   ]
  },
  {
   "cell_type": "code",
   "execution_count": 147,
   "metadata": {},
   "outputs": [
    {
     "data": {
      "text/plain": [
       "count    428595.000000\n",
       "mean       1633.186626\n",
       "std        1328.136587\n",
       "min           0.000000\n",
       "25%         883.000000\n",
       "50%        1370.000000\n",
       "75%        1902.000000\n",
       "max       11012.000000\n",
       "Name: B19051_001E, dtype: float64"
      ]
     },
     "execution_count": 147,
     "metadata": {},
     "output_type": "execute_result"
    }
   ],
   "source": [
    "crime_with_blocks.B19051_001E[(crime_with_blocks['primary_type'] != 'BATTERY')].describe()"
   ]
  },
  {
   "cell_type": "markdown",
   "metadata": {},
   "source": [
    "Answer 1 part 2: we can see that for the primary type battery for both years, that in general it's occurs in more poorer blocks, with less income and more time in traveling to the different workplace where people works. This means that in general battery occurs in lower income neigborhoods. "
   ]
  },
  {
   "cell_type": "markdown",
   "metadata": {},
   "source": [
    "### Q2-p2"
   ]
  },
  {
   "cell_type": "code",
   "execution_count": 151,
   "metadata": {},
   "outputs": [
    {
     "data": {
      "text/plain": [
       "count    1262.000000\n",
       "mean        0.324374\n",
       "std         0.131785\n",
       "min         0.026226\n",
       "25%         0.229087\n",
       "50%         0.332072\n",
       "75%         0.405901\n",
       "max         0.736909\n",
       "Name: pseudo_pov_rate, dtype: float64"
      ]
     },
     "execution_count": 151,
     "metadata": {},
     "output_type": "execute_result"
    }
   ],
   "source": [
    "crime_with_blocks[(crime_with_blocks['primary_type'] == 'HOMICIDE')].pseudo_pov_rate.describe()"
   ]
  },
  {
   "cell_type": "code",
   "execution_count": 152,
   "metadata": {},
   "outputs": [
    {
     "data": {
      "text/plain": [
       "count    522809.000000\n",
       "mean          0.251785\n",
       "std           0.144222\n",
       "min           0.004437\n",
       "25%           0.129438\n",
       "50%           0.237299\n",
       "75%           0.348978\n",
       "max           0.736909\n",
       "Name: pseudo_pov_rate, dtype: float64"
      ]
     },
     "execution_count": 152,
     "metadata": {},
     "output_type": "execute_result"
    }
   ],
   "source": [
    "crime_with_blocks[(crime_with_blocks['primary_type'] != 'HOMICIDE')].pseudo_pov_rate.describe()"
   ]
  },
  {
   "cell_type": "code",
   "execution_count": 153,
   "metadata": {},
   "outputs": [
    {
     "data": {
      "text/plain": [
       "count    1262.000000\n",
       "mean       41.359278\n",
       "std         5.078144\n",
       "min        22.666359\n",
       "25%        38.094466\n",
       "50%        41.665387\n",
       "75%        44.191729\n",
       "max        60.885762\n",
       "Name: average_time, dtype: float64"
      ]
     },
     "execution_count": 153,
     "metadata": {},
     "output_type": "execute_result"
    }
   ],
   "source": [
    "crime_with_blocks[(crime_with_blocks['primary_type'] == 'HOMICIDE')].average_time.describe() "
   ]
  },
  {
   "cell_type": "code",
   "execution_count": 154,
   "metadata": {},
   "outputs": [
    {
     "data": {
      "text/plain": [
       "count    522809.000000\n",
       "mean         39.227229\n",
       "std           6.336900\n",
       "min          20.351382\n",
       "25%          35.408228\n",
       "50%          39.954568\n",
       "75%          43.565369\n",
       "max          60.885762\n",
       "Name: average_time, dtype: float64"
      ]
     },
     "execution_count": 154,
     "metadata": {},
     "output_type": "execute_result"
    }
   ],
   "source": [
    "crime_with_blocks[(crime_with_blocks['primary_type'] != 'HOMICIDE')].average_time.describe() "
   ]
  },
  {
   "cell_type": "code",
   "execution_count": 155,
   "metadata": {},
   "outputs": [
    {
     "data": {
      "text/plain": [
       "count    1262.000000\n",
       "mean     1241.383518\n",
       "std       615.871543\n",
       "min       200.000000\n",
       "25%       760.000000\n",
       "50%      1176.000000\n",
       "75%      1614.000000\n",
       "max      4720.000000\n",
       "Name: B19051_001E, dtype: float64"
      ]
     },
     "execution_count": 155,
     "metadata": {},
     "output_type": "execute_result"
    }
   ],
   "source": [
    "crime_with_blocks[(crime_with_blocks['primary_type'] == 'HOMICIDE')].B19051_001E.describe()"
   ]
  },
  {
   "cell_type": "code",
   "execution_count": 156,
   "metadata": {},
   "outputs": [
    {
     "data": {
      "text/plain": [
       "count    525950.000000\n",
       "mean       1600.068567\n",
       "std        1288.670484\n",
       "min           0.000000\n",
       "25%         872.000000\n",
       "50%        1361.000000\n",
       "75%        1872.000000\n",
       "max       11012.000000\n",
       "Name: B19051_001E, dtype: float64"
      ]
     },
     "execution_count": 156,
     "metadata": {},
     "output_type": "execute_result"
    }
   ],
   "source": [
    "crime_with_blocks[(crime_with_blocks['primary_type'] != 'HOMICIDE')].B19051_001E.describe()"
   ]
  },
  {
   "cell_type": "markdown",
   "metadata": {},
   "source": [
    "Answer 2 part 2: we can see that for the primary type homicide for both years, that in general this results are consistent with the presented in the previous part where we can see that block were a homicide ocurrs are more poor, have less income and they have to travel longest time to work. This implies that those blocks were this kind of crimes ocurr are more poor."
   ]
  },
  {
   "cell_type": "markdown",
   "metadata": {},
   "source": [
    "### Q2-p3"
   ]
  },
  {
   "cell_type": "markdown",
   "metadata": {},
   "source": [
    "#### Homicide"
   ]
  },
  {
   "cell_type": "markdown",
   "metadata": {},
   "source": [
    "##### Homicide by tracks by poverty, income and transportation time to work\n"
   ]
  },
  {
   "cell_type": "code",
   "execution_count": 190,
   "metadata": {},
   "outputs": [
    {
     "data": {
      "text/plain": [
       "count    586.000000\n",
       "mean       0.334290\n",
       "std        0.134652\n",
       "min        0.026226\n",
       "25%        0.237761\n",
       "50%        0.337407\n",
       "75%        0.418401\n",
       "max        0.718363\n",
       "Name: pseudo_pov_rate, dtype: float64"
      ]
     },
     "execution_count": 190,
     "metadata": {},
     "output_type": "execute_result"
    }
   ],
   "source": [
    "#Descriptive stats of homicide in 2018 for poverty\n",
    "crime_with_blocks[(crime_with_blocks['primary_type'] == 'HOMICIDE') & (crime_with_blocks['year']=='2018')].pseudo_pov_rate.describe()\n"
   ]
  },
  {
   "cell_type": "code",
   "execution_count": 170,
   "metadata": {},
   "outputs": [
    {
     "data": {
      "text/plain": [
       "count    676.000000\n",
       "mean       0.315779\n",
       "std        0.128731\n",
       "min        0.026727\n",
       "25%        0.218448\n",
       "50%        0.315394\n",
       "75%        0.398927\n",
       "max        0.736909\n",
       "Name: pseudo_pov_rate, dtype: float64"
      ]
     },
     "execution_count": 170,
     "metadata": {},
     "output_type": "execute_result"
    }
   ],
   "source": [
    "#Descriptive stats of homicide in 2017 for poverty\n",
    "crime_with_blocks[(crime_with_blocks['primary_type'] == 'HOMICIDE') & (crime_with_blocks['year']=='2017')].pseudo_pov_rate.describe()\n"
   ]
  },
  {
   "cell_type": "code",
   "execution_count": 171,
   "metadata": {},
   "outputs": [
    {
     "data": {
      "text/plain": [
       "count    586.000000\n",
       "mean      41.595395\n",
       "std        5.281571\n",
       "min       22.666359\n",
       "25%       38.323428\n",
       "50%       42.125261\n",
       "75%       44.484448\n",
       "max       55.613208\n",
       "Name: average_time, dtype: float64"
      ]
     },
     "execution_count": 171,
     "metadata": {},
     "output_type": "execute_result"
    }
   ],
   "source": [
    "#Descriptive stats of homicide in 2018 for average time\n",
    "crime_with_blocks[(crime_with_blocks['primary_type'] == 'HOMICIDE') & (crime_with_blocks['year']=='2018')].average_time.describe()\n"
   ]
  },
  {
   "cell_type": "code",
   "execution_count": 172,
   "metadata": {},
   "outputs": [
    {
     "data": {
      "text/plain": [
       "count    676.000000\n",
       "mean      41.154598\n",
       "std        4.889678\n",
       "min       26.207294\n",
       "25%       37.789256\n",
       "50%       41.483645\n",
       "75%       44.020678\n",
       "max       60.885762\n",
       "Name: average_time, dtype: float64"
      ]
     },
     "execution_count": 172,
     "metadata": {},
     "output_type": "execute_result"
    }
   ],
   "source": [
    "#Descriptive stats of homicide in 2017 for average time\n",
    "crime_with_blocks[(crime_with_blocks['primary_type'] == 'HOMICIDE') & (crime_with_blocks['year']=='2017')].average_time.describe()"
   ]
  },
  {
   "cell_type": "code",
   "execution_count": 174,
   "metadata": {},
   "outputs": [
    {
     "data": {
      "text/plain": [
       "count     586.000000\n",
       "mean     1200.747440\n",
       "std       606.872279\n",
       "min       296.000000\n",
       "25%       743.000000\n",
       "50%      1122.500000\n",
       "75%      1601.000000\n",
       "max      4720.000000\n",
       "Name: B19051_001E, dtype: float64"
      ]
     },
     "execution_count": 174,
     "metadata": {},
     "output_type": "execute_result"
    }
   ],
   "source": [
    "#Descriptive stats of homicide in 2018 for earnings\n",
    "crime_with_blocks[(crime_with_blocks['primary_type'] == 'HOMICIDE') & (crime_with_blocks['year']=='2018')].B19051_001E.describe()"
   ]
  },
  {
   "cell_type": "code",
   "execution_count": 175,
   "metadata": {},
   "outputs": [
    {
     "data": {
      "text/plain": [
       "count     676.000000\n",
       "mean     1276.609467\n",
       "std       621.868178\n",
       "min       200.000000\n",
       "25%       799.000000\n",
       "50%      1210.000000\n",
       "75%      1629.000000\n",
       "max      4213.000000\n",
       "Name: B19051_001E, dtype: float64"
      ]
     },
     "execution_count": 175,
     "metadata": {},
     "output_type": "execute_result"
    }
   ],
   "source": [
    "#Descriptive stats of homicide in 2017 for earnings\n",
    "crime_with_blocks[(crime_with_blocks['primary_type'] == 'HOMICIDE') & (crime_with_blocks['year']=='2017')].B19051_001E.describe()"
   ]
  },
  {
   "cell_type": "markdown",
   "metadata": {},
   "source": [
    "#### Rate of arrest for homicide"
   ]
  },
  {
   "cell_type": "code",
   "execution_count": 179,
   "metadata": {},
   "outputs": [
    {
     "data": {
      "text/html": [
       "<div>\n",
       "<style scoped>\n",
       "    .dataframe tbody tr th:only-of-type {\n",
       "        vertical-align: middle;\n",
       "    }\n",
       "\n",
       "    .dataframe tbody tr th {\n",
       "        vertical-align: top;\n",
       "    }\n",
       "\n",
       "    .dataframe thead th {\n",
       "        text-align: right;\n",
       "    }\n",
       "</style>\n",
       "<table border=\"1\" class=\"dataframe\">\n",
       "  <thead>\n",
       "    <tr style=\"text-align: right;\">\n",
       "      <th></th>\n",
       "      <th>Non-Arrested</th>\n",
       "      <th>Arrested</th>\n",
       "      <th>Total</th>\n",
       "    </tr>\n",
       "    <tr>\n",
       "      <th>primary_type</th>\n",
       "      <th></th>\n",
       "      <th></th>\n",
       "      <th></th>\n",
       "    </tr>\n",
       "  </thead>\n",
       "  <tbody>\n",
       "    <tr>\n",
       "      <th>HOMICIDE</th>\n",
       "      <td>0.730375</td>\n",
       "      <td>0.269625</td>\n",
       "      <td>1.0</td>\n",
       "    </tr>\n",
       "    <tr>\n",
       "      <th>All</th>\n",
       "      <td>0.730375</td>\n",
       "      <td>0.269625</td>\n",
       "      <td>1.0</td>\n",
       "    </tr>\n",
       "  </tbody>\n",
       "</table>\n",
       "</div>"
      ],
      "text/plain": [
       "              Non-Arrested  Arrested  Total\n",
       "primary_type                               \n",
       "HOMICIDE          0.730375  0.269625    1.0\n",
       "All               0.730375  0.269625    1.0"
      ]
     },
     "execution_count": 179,
     "metadata": {},
     "output_type": "execute_result"
    }
   ],
   "source": [
    "#rate of arrest by homicide in 2018\n",
    "crime_2018_geo_hom = crime_with_blocks[(crime_with_blocks['year']  == '2018') & (crime_with_blocks['primary_type'] == 'HOMICIDE')]\n",
    "tab8_2018 = pd.crosstab(index=crime_2018_geo_hom['primary_type'], columns = crime_2018_geo_hom['arrest'], margins=True)\n",
    "tab8_2018.columns = [\"Non-Arrested\",\"Arrested\", \"Total\"]\n",
    "tab8_2018 = tab8_2018/tab8_2018.loc[\"All\",\"Total\"]\n",
    "tab8_2018 = tab8_2018.div(tab8_2018[\"Total\"], axis=0)\n",
    "tab8_2018.sort_values(\"Arrested\",ascending=False)"
   ]
  },
  {
   "cell_type": "code",
   "execution_count": 181,
   "metadata": {},
   "outputs": [
    {
     "data": {
      "text/html": [
       "<div>\n",
       "<style scoped>\n",
       "    .dataframe tbody tr th:only-of-type {\n",
       "        vertical-align: middle;\n",
       "    }\n",
       "\n",
       "    .dataframe tbody tr th {\n",
       "        vertical-align: top;\n",
       "    }\n",
       "\n",
       "    .dataframe thead th {\n",
       "        text-align: right;\n",
       "    }\n",
       "</style>\n",
       "<table border=\"1\" class=\"dataframe\">\n",
       "  <thead>\n",
       "    <tr style=\"text-align: right;\">\n",
       "      <th></th>\n",
       "      <th>Non-Arrested</th>\n",
       "      <th>Arrested</th>\n",
       "      <th>Total</th>\n",
       "    </tr>\n",
       "    <tr>\n",
       "      <th>primary_type</th>\n",
       "      <th></th>\n",
       "      <th></th>\n",
       "      <th></th>\n",
       "    </tr>\n",
       "  </thead>\n",
       "  <tbody>\n",
       "    <tr>\n",
       "      <th>HOMICIDE</th>\n",
       "      <td>0.748521</td>\n",
       "      <td>0.251479</td>\n",
       "      <td>1.0</td>\n",
       "    </tr>\n",
       "    <tr>\n",
       "      <th>All</th>\n",
       "      <td>0.748521</td>\n",
       "      <td>0.251479</td>\n",
       "      <td>1.0</td>\n",
       "    </tr>\n",
       "  </tbody>\n",
       "</table>\n",
       "</div>"
      ],
      "text/plain": [
       "              Non-Arrested  Arrested  Total\n",
       "primary_type                               \n",
       "HOMICIDE          0.748521  0.251479    1.0\n",
       "All               0.748521  0.251479    1.0"
      ]
     },
     "execution_count": 181,
     "metadata": {},
     "output_type": "execute_result"
    }
   ],
   "source": [
    "#rate of arrest by homicide in 2017\n",
    "crime_2017_geo_hom = crime_with_blocks[(crime_with_blocks['year']  == '2017') & (crime_with_blocks['primary_type'] == 'HOMICIDE')]\n",
    "tab8_2017 =pd.crosstab(index=crime_2017_geo_hom['primary_type'], columns = crime_2017_geo_hom['arrest'], margins=True)\n",
    "tab8_2017.columns = [\"Non-Arrested\",\"Arrested\", \"Total\"]\n",
    "tab8_2017 = tab8_2017/tab8_2017.loc[\"All\",\"Total\"]\n",
    "tab8_2017 = tab8_2017.div(tab8_2017[\"Total\"], axis=0)\n",
    "tab8_2017.sort_values(\"Arrested\",ascending=False)\n"
   ]
  },
  {
   "cell_type": "markdown",
   "metadata": {},
   "source": [
    "#### Number of Homicides in the top 10 neighborhoods with homicides"
   ]
  },
  {
   "cell_type": "code",
   "execution_count": 182,
   "metadata": {},
   "outputs": [
    {
     "data": {
      "text/plain": [
       "community\n",
       "AUSTIN                    82\n",
       "NORTH LAWNDALE            43\n",
       "ROSELAND                  36\n",
       "SOUTH SHORE               33\n",
       "HUMBOLDT PARK             30\n",
       "ENGLEWOOD                 29\n",
       "AUBURN GRESHAM            28\n",
       "BRIGHTON PARK             23\n",
       "GREATER GRAND CROSSING    22\n",
       "EAST GARFIELD PARK        21\n",
       "Name: arrest, dtype: int64"
      ]
     },
     "execution_count": 182,
     "metadata": {},
     "output_type": "execute_result"
    }
   ],
   "source": [
    "#top 10 communities by number of homicides in 2017\n",
    "tab9_2017 = crime_with_blocks[(crime_with_blocks['year']  == '2017')& (crime_with_blocks['primary_type'] == 'HOMICIDE')].groupby(['community'])['arrest'].count().nlargest(10)\n",
    "tab9_2017"
   ]
  },
  {
   "cell_type": "code",
   "execution_count": 184,
   "metadata": {
    "scrolled": true
   },
   "outputs": [
    {
     "data": {
      "text/plain": [
       "community\n",
       "AUSTIN                56\n",
       "ENGLEWOOD             33\n",
       "NORTH LAWNDALE        32\n",
       "WEST GARFIELD PARK    26\n",
       "WEST PULLMAN          26\n",
       "SOUTH SHORE           25\n",
       "AUBURN GRESHAM        23\n",
       "NEW CITY              23\n",
       "WEST ENGLEWOOD        23\n",
       "EAST GARFIELD PARK    22\n",
       "Name: arrest, dtype: int64"
      ]
     },
     "execution_count": 184,
     "metadata": {},
     "output_type": "execute_result"
    }
   ],
   "source": [
    "#top 10 communities by number of homicides in 2017\n",
    "tab9_2018 = crime_with_blocks[(crime_with_blocks['year']  == '2018')& (crime_with_blocks['primary_type'] == 'HOMICIDE')].groupby(['community'])['arrest'].count().nlargest(10)\n",
    "tab9_2018"
   ]
  },
  {
   "cell_type": "code",
   "execution_count": 183,
   "metadata": {},
   "outputs": [
    {
     "data": {
      "text/plain": [
       "community\n",
       "AUSTIN            22.0\n",
       "NORTH LAWNDALE    14.0\n",
       "SOUTH SHORE       11.0\n",
       "BRIGHTON PARK      7.0\n",
       "NEAR WEST SIDE     6.0\n",
       "WEST ENGLEWOOD     6.0\n",
       "WOODLAWN           6.0\n",
       "ENGLEWOOD          5.0\n",
       "HUMBOLDT PARK      5.0\n",
       "NEW CITY           5.0\n",
       "Name: arrest, dtype: float64"
      ]
     },
     "execution_count": 183,
     "metadata": {},
     "output_type": "execute_result"
    }
   ],
   "source": [
    "#top 10 communities by number of homicides arrest in 2017\n",
    "tab10_2017 = crime_with_blocks[(crime_with_blocks['year']  == '2017')& (crime_with_blocks['primary_type'] == 'HOMICIDE')].groupby(['community'])['arrest'].sum().nlargest(10)\n",
    "tab10_2017"
   ]
  },
  {
   "cell_type": "code",
   "execution_count": 185,
   "metadata": {},
   "outputs": [
    {
     "data": {
      "text/plain": [
       "community\n",
       "NORTH LAWNDALE            10.0\n",
       "AUSTIN                     9.0\n",
       "BELMONT CRAGIN             7.0\n",
       "GREATER GRAND CROSSING     7.0\n",
       "ROSELAND                   7.0\n",
       "SOUTH SHORE                7.0\n",
       "WEST ENGLEWOOD             6.0\n",
       "CHATHAM                    5.0\n",
       "CHICAGO LAWN               5.0\n",
       "ENGLEWOOD                  5.0\n",
       "Name: arrest, dtype: float64"
      ]
     },
     "execution_count": 185,
     "metadata": {},
     "output_type": "execute_result"
    }
   ],
   "source": [
    "#top 10 communities by number of homicides arrest in 2018\n",
    "tab10_2018 = crime_with_blocks[(crime_with_blocks['year']  == '2018')& (crime_with_blocks['primary_type'] == 'HOMICIDE')].groupby(['community'])['arrest'].sum().nlargest(10)\n",
    "tab10_2018"
   ]
  },
  {
   "cell_type": "markdown",
   "metadata": {},
   "source": [
    "ANS respecto to Homicide: We dont see great variation over time taking the data from ACS survey. This make sense because we dont have any variation in the ACS data due to the source. When we see rate of arrest of a homicide case we don't see mucha difference between year 2018 and 2017. Finally when we compare in which neigborhoods the homicide ocurrs we see some differences. In 2018 the homicide increases in 90 cases in respect to 2017 and the number of murders with some arrest diminish from 82 to 56. Part of the increase is related to the neighborhood of austin and north lawdale."
   ]
  },
  {
   "cell_type": "markdown",
   "metadata": {},
   "source": [
    "#### Battery"
   ]
  },
  {
   "cell_type": "code",
   "execution_count": 191,
   "metadata": {},
   "outputs": [
    {
     "data": {
      "text/plain": [
       "count    49428.000000\n",
       "mean         0.280820\n",
       "std          0.142766\n",
       "min          0.004437\n",
       "25%          0.164809\n",
       "50%          0.275822\n",
       "75%          0.380064\n",
       "max          0.736909\n",
       "Name: pseudo_pov_rate, dtype: float64"
      ]
     },
     "execution_count": 191,
     "metadata": {},
     "output_type": "execute_result"
    }
   ],
   "source": [
    "#Descriptive stats of battery in 2018 for poverty\n",
    "crime_with_blocks[(crime_with_blocks['primary_type'] == 'BATTERY') & (crime_with_blocks['year'] == '2018')].pseudo_pov_rate.describe()"
   ]
  },
  {
   "cell_type": "code",
   "execution_count": 192,
   "metadata": {},
   "outputs": [
    {
     "data": {
      "text/plain": [
       "count    48857.000000\n",
       "mean         0.284376\n",
       "std          0.143608\n",
       "min          0.004437\n",
       "25%          0.166633\n",
       "50%          0.280150\n",
       "75%          0.388186\n",
       "max          0.736909\n",
       "Name: pseudo_pov_rate, dtype: float64"
      ]
     },
     "execution_count": 192,
     "metadata": {},
     "output_type": "execute_result"
    }
   ],
   "source": [
    "#Descriptive stats of battery in 2017 for poverty\n",
    "crime_with_blocks[(crime_with_blocks['primary_type'] == 'BATTERY') & (crime_with_blocks['year'] == '2017')].pseudo_pov_rate.describe()\n"
   ]
  },
  {
   "cell_type": "code",
   "execution_count": 194,
   "metadata": {},
   "outputs": [
    {
     "data": {
      "text/plain": [
       "count    49428.000000\n",
       "mean        40.384336\n",
       "std          5.926920\n",
       "min         20.351382\n",
       "25%         36.881443\n",
       "50%         40.953398\n",
       "75%         43.977612\n",
       "max         60.885762\n",
       "Name: average_time, dtype: float64"
      ]
     },
     "execution_count": 194,
     "metadata": {},
     "output_type": "execute_result"
    }
   ],
   "source": [
    "#Descriptive stats of battery in 2018 for transport time\n",
    "crime_with_blocks[(crime_with_blocks['primary_type'] == 'BATTERY') & (crime_with_blocks['year'] == '2018')].average_time.describe()\n"
   ]
  },
  {
   "cell_type": "code",
   "execution_count": 195,
   "metadata": {},
   "outputs": [
    {
     "data": {
      "text/plain": [
       "count    48857.000000\n",
       "mean        40.485742\n",
       "std          5.871421\n",
       "min         20.351382\n",
       "25%         37.092444\n",
       "50%         40.995096\n",
       "75%         43.986920\n",
       "max         60.885762\n",
       "Name: average_time, dtype: float64"
      ]
     },
     "execution_count": 195,
     "metadata": {},
     "output_type": "execute_result"
    }
   ],
   "source": [
    "#Descriptive stats of battery in 2017 for transport time\n",
    "crime_with_blocks[(crime_with_blocks['primary_type'] == 'BATTERY') & (crime_with_blocks['year'] == '2017')].average_time.describe()\n"
   ]
  },
  {
   "cell_type": "code",
   "execution_count": 196,
   "metadata": {},
   "outputs": [
    {
     "data": {
      "text/plain": [
       "count    49597.000000\n",
       "mean      1460.001714\n",
       "std       1081.084763\n",
       "min          0.000000\n",
       "25%        816.000000\n",
       "50%       1275.000000\n",
       "75%       1812.000000\n",
       "max      11012.000000\n",
       "Name: B19051_001E, dtype: float64"
      ]
     },
     "execution_count": 196,
     "metadata": {},
     "output_type": "execute_result"
    }
   ],
   "source": [
    "#Descriptive stats of battery in 2018 for average earnings\n",
    "crime_with_blocks[(crime_with_blocks['primary_type'] == 'BATTERY') & (crime_with_blocks['year'] == '2018')].B19051_001E.describe()"
   ]
  },
  {
   "cell_type": "code",
   "execution_count": 197,
   "metadata": {},
   "outputs": [
    {
     "data": {
      "text/plain": [
       "count    49020.000000\n",
       "mean      1442.989841\n",
       "std       1082.441463\n",
       "min          0.000000\n",
       "25%        816.000000\n",
       "50%       1272.000000\n",
       "75%       1788.000000\n",
       "max      11012.000000\n",
       "Name: B19051_001E, dtype: float64"
      ]
     },
     "execution_count": 197,
     "metadata": {},
     "output_type": "execute_result"
    }
   ],
   "source": [
    "#Descriptive stats of battery in 2017 for average earnings\n",
    "crime_with_blocks[(crime_with_blocks['primary_type'] == 'BATTERY') & (crime_with_blocks['year'] == '2017')].B19051_001E.describe()"
   ]
  },
  {
   "cell_type": "markdown",
   "metadata": {},
   "source": [
    "There is no difference in the result comparing by ACS data between years."
   ]
  },
  {
   "cell_type": "markdown",
   "metadata": {},
   "source": [
    "#### Rate of arrest for battery"
   ]
  },
  {
   "cell_type": "code",
   "execution_count": 200,
   "metadata": {},
   "outputs": [
    {
     "data": {
      "text/html": [
       "<div>\n",
       "<style scoped>\n",
       "    .dataframe tbody tr th:only-of-type {\n",
       "        vertical-align: middle;\n",
       "    }\n",
       "\n",
       "    .dataframe tbody tr th {\n",
       "        vertical-align: top;\n",
       "    }\n",
       "\n",
       "    .dataframe thead th {\n",
       "        text-align: right;\n",
       "    }\n",
       "</style>\n",
       "<table border=\"1\" class=\"dataframe\">\n",
       "  <thead>\n",
       "    <tr style=\"text-align: right;\">\n",
       "      <th></th>\n",
       "      <th>Non-Arrested</th>\n",
       "      <th>Arrested</th>\n",
       "      <th>Total</th>\n",
       "    </tr>\n",
       "    <tr>\n",
       "      <th>primary_type</th>\n",
       "      <th></th>\n",
       "      <th></th>\n",
       "      <th></th>\n",
       "    </tr>\n",
       "  </thead>\n",
       "  <tbody>\n",
       "    <tr>\n",
       "      <th>BATTERY</th>\n",
       "      <td>0.79529</td>\n",
       "      <td>0.20471</td>\n",
       "      <td>1.0</td>\n",
       "    </tr>\n",
       "    <tr>\n",
       "      <th>All</th>\n",
       "      <td>0.79529</td>\n",
       "      <td>0.20471</td>\n",
       "      <td>1.0</td>\n",
       "    </tr>\n",
       "  </tbody>\n",
       "</table>\n",
       "</div>"
      ],
      "text/plain": [
       "              Non-Arrested  Arrested  Total\n",
       "primary_type                               \n",
       "BATTERY            0.79529   0.20471    1.0\n",
       "All                0.79529   0.20471    1.0"
      ]
     },
     "execution_count": 200,
     "metadata": {},
     "output_type": "execute_result"
    }
   ],
   "source": [
    "#rate of arrest by battery in 2018\n",
    "crime_2018_geo_hom = crime_with_blocks[(crime_with_blocks['year']  == '2018') & (crime_with_blocks['primary_type'] == 'BATTERY')]\n",
    "tab11_2018 = pd.crosstab(index=crime_2018_geo_hom['primary_type'], columns = crime_2018_geo_hom['arrest'], margins=True)\n",
    "tab11_2018.columns = [\"Non-Arrested\",\"Arrested\", \"Total\"]\n",
    "tab11_2018 = tab11_2018/tab11_2018.loc[\"All\",\"Total\"]\n",
    "tab11_2018 = tab11_2018.div(tab11_2018[\"Total\"], axis=0)\n",
    "tab11_2018.sort_values(\"Arrested\",ascending=False)"
   ]
  },
  {
   "cell_type": "code",
   "execution_count": 204,
   "metadata": {},
   "outputs": [
    {
     "data": {
      "text/html": [
       "<div>\n",
       "<style scoped>\n",
       "    .dataframe tbody tr th:only-of-type {\n",
       "        vertical-align: middle;\n",
       "    }\n",
       "\n",
       "    .dataframe tbody tr th {\n",
       "        vertical-align: top;\n",
       "    }\n",
       "\n",
       "    .dataframe thead th {\n",
       "        text-align: right;\n",
       "    }\n",
       "</style>\n",
       "<table border=\"1\" class=\"dataframe\">\n",
       "  <thead>\n",
       "    <tr style=\"text-align: right;\">\n",
       "      <th></th>\n",
       "      <th>Non-Arrested</th>\n",
       "      <th>Arrested</th>\n",
       "      <th>Total</th>\n",
       "    </tr>\n",
       "    <tr>\n",
       "      <th>primary_type</th>\n",
       "      <th></th>\n",
       "      <th></th>\n",
       "      <th></th>\n",
       "    </tr>\n",
       "  </thead>\n",
       "  <tbody>\n",
       "    <tr>\n",
       "      <th>BATTERY</th>\n",
       "      <td>0.795022</td>\n",
       "      <td>0.204978</td>\n",
       "      <td>1.0</td>\n",
       "    </tr>\n",
       "    <tr>\n",
       "      <th>All</th>\n",
       "      <td>0.795022</td>\n",
       "      <td>0.204978</td>\n",
       "      <td>1.0</td>\n",
       "    </tr>\n",
       "  </tbody>\n",
       "</table>\n",
       "</div>"
      ],
      "text/plain": [
       "              Non-Arrested  Arrested  Total\n",
       "primary_type                               \n",
       "BATTERY           0.795022  0.204978    1.0\n",
       "All               0.795022  0.204978    1.0"
      ]
     },
     "execution_count": 204,
     "metadata": {},
     "output_type": "execute_result"
    }
   ],
   "source": [
    "#rate of arrest by battery in 2017\n",
    "crime_2017_geo_hom = crime_with_blocks[(crime_with_blocks['year']  == '2017') & (crime_with_blocks['primary_type'] == 'BATTERY')]\n",
    "tab11_2017 = pd.crosstab(index=crime_2017_geo_hom['primary_type'], columns = crime_2017_geo_hom['arrest'], margins=True)\n",
    "tab11_2017.columns = [\"Non-Arrested\",\"Arrested\", \"Total\"]\n",
    "tab11_2017 = tab11_2017/tab11_2017.loc[\"All\",\"Total\"]\n",
    "tab11_2017 = tab11_2017.div(tab11_2017[\"Total\"], axis=0)\n",
    "tab11_2017.sort_values(\"Arrested\",ascending=False)"
   ]
  },
  {
   "cell_type": "markdown",
   "metadata": {},
   "source": [
    "#### Number of battery in the top 10 neighborhoods with battery"
   ]
  },
  {
   "cell_type": "code",
   "execution_count": 209,
   "metadata": {},
   "outputs": [
    {
     "data": {
      "text/plain": [
       "community\n",
       "AUSTIN                    3290\n",
       "SOUTH SHORE               2154\n",
       "NORTH LAWNDALE            2016\n",
       "AUBURN GRESHAM            1681\n",
       "WEST ENGLEWOOD            1625\n",
       "GREATER GRAND CROSSING    1584\n",
       "HUMBOLDT PARK             1566\n",
       "ENGLEWOOD                 1482\n",
       "ROSELAND                  1448\n",
       "NEAR NORTH SIDE           1386\n",
       "Name: arrest, dtype: int64"
      ]
     },
     "execution_count": 209,
     "metadata": {},
     "output_type": "execute_result"
    }
   ],
   "source": [
    "#top 10 communities by number of battery in 2017\n",
    "tab12_2017 = crime_with_blocks[(crime_with_blocks['year']  == '2017')& (crime_with_blocks['primary_type'] == 'BATTERY')].groupby(['community'])['arrest'].count().nlargest(10)\n",
    "tab12_2017"
   ]
  },
  {
   "cell_type": "code",
   "execution_count": 208,
   "metadata": {},
   "outputs": [
    {
     "data": {
      "text/plain": [
       "community\n",
       "AUSTIN                    3313\n",
       "SOUTH SHORE               2024\n",
       "NORTH LAWNDALE            1928\n",
       "WEST ENGLEWOOD            1662\n",
       "AUBURN GRESHAM            1656\n",
       "HUMBOLDT PARK             1620\n",
       "ENGLEWOOD                 1564\n",
       "NEAR NORTH SIDE           1563\n",
       "GREATER GRAND CROSSING    1540\n",
       "ROSELAND                  1465\n",
       "Name: arrest, dtype: int64"
      ]
     },
     "execution_count": 208,
     "metadata": {},
     "output_type": "execute_result"
    }
   ],
   "source": [
    "#top 10 communities by number of battery in 2018\n",
    "tab12_2018 = crime_with_blocks[(crime_with_blocks['year']  == '2018')& (crime_with_blocks['primary_type'] == 'BATTERY')].groupby(['community'])['arrest'].count().nlargest(10)\n",
    "tab12_2018"
   ]
  },
  {
   "cell_type": "code",
   "execution_count": 207,
   "metadata": {},
   "outputs": [
    {
     "data": {
      "text/plain": [
       "community\n",
       "AUSTIN                    612.0\n",
       "SOUTH SHORE               450.0\n",
       "NEAR NORTH SIDE           401.0\n",
       "AUBURN GRESHAM            355.0\n",
       "NORTH LAWNDALE            348.0\n",
       "ROSELAND                  333.0\n",
       "GREATER GRAND CROSSING    329.0\n",
       "WEST ENGLEWOOD            297.0\n",
       "CHATHAM                   285.0\n",
       "ENGLEWOOD                 269.0\n",
       "Name: arrest, dtype: float64"
      ]
     },
     "execution_count": 207,
     "metadata": {},
     "output_type": "execute_result"
    }
   ],
   "source": [
    "#top 10 communities by number of battery arrest in 2017\n",
    "tab13_2017 = crime_with_blocks[(crime_with_blocks['year']  == '2017')& (crime_with_blocks['primary_type'] == 'BATTERY')].groupby(['community'])['arrest'].sum().nlargest(10)\n",
    "tab13_2017"
   ]
  },
  {
   "cell_type": "code",
   "execution_count": 210,
   "metadata": {},
   "outputs": [
    {
     "data": {
      "text/plain": [
       "community\n",
       "AUSTIN                    605.0\n",
       "SOUTH SHORE               437.0\n",
       "NEAR NORTH SIDE           409.0\n",
       "AUBURN GRESHAM            379.0\n",
       "NORTH LAWNDALE            341.0\n",
       "GREATER GRAND CROSSING    336.0\n",
       "WEST ENGLEWOOD            328.0\n",
       "ROSELAND                  319.0\n",
       "CHATHAM                   307.0\n",
       "HUMBOLDT PARK             289.0\n",
       "Name: arrest, dtype: float64"
      ]
     },
     "execution_count": 210,
     "metadata": {},
     "output_type": "execute_result"
    }
   ],
   "source": [
    "#top 10 communities by number of battery arrest in 2018\n",
    "tab13_2018 = crime_with_blocks[(crime_with_blocks['year']  == '2018')& (crime_with_blocks['primary_type'] == 'BATTERY')].groupby(['community'])['arrest'].sum().nlargest(10)\n",
    "tab13_2018"
   ]
  },
  {
   "cell_type": "markdown",
   "metadata": {},
   "source": [
    "In general we don't see any big difference between years in battery in any variable."
   ]
  },
  {
   "cell_type": "markdown",
   "metadata": {},
   "source": [
    "### Q2-p4"
   ]
  },
  {
   "cell_type": "code",
   "execution_count": 211,
   "metadata": {},
   "outputs": [
    {
     "data": {
      "text/plain": [
       "count    35012.000000\n",
       "mean         0.196544\n",
       "std          0.132547\n",
       "min          0.004437\n",
       "25%          0.092195\n",
       "50%          0.157025\n",
       "75%          0.280386\n",
       "max          0.736909\n",
       "Name: pseudo_pov_rate, dtype: float64"
      ]
     },
     "execution_count": 211,
     "metadata": {},
     "output_type": "execute_result"
    }
   ],
   "source": [
    "#Descriptive stats of deceptive practice for poverty\n",
    "crime_with_blocks[(crime_with_blocks['primary_type'] == 'DECEPTIVE PRACTICE')].pseudo_pov_rate.describe()"
   ]
  },
  {
   "cell_type": "code",
   "execution_count": 212,
   "metadata": {},
   "outputs": [
    {
     "data": {
      "text/plain": [
       "count    1988.000000\n",
       "mean        0.237314\n",
       "std         0.143708\n",
       "min         0.004437\n",
       "25%         0.122753\n",
       "50%         0.211667\n",
       "75%         0.339912\n",
       "max         0.736909\n",
       "Name: pseudo_pov_rate, dtype: float64"
      ]
     },
     "execution_count": 212,
     "metadata": {},
     "output_type": "execute_result"
    }
   ],
   "source": [
    "#Descriptive stats of deceptive practice for poverty\n",
    "crime_with_blocks[(crime_with_blocks['primary_type'] == 'SEX OFFENSE')].pseudo_pov_rate.describe()"
   ]
  },
  {
   "cell_type": "code",
   "execution_count": 213,
   "metadata": {},
   "outputs": [
    {
     "data": {
      "text/plain": [
       "count    35521.000000\n",
       "mean      2007.739309\n",
       "std       1706.024030\n",
       "min          0.000000\n",
       "25%       1013.000000\n",
       "50%       1576.000000\n",
       "75%       2416.000000\n",
       "max      11012.000000\n",
       "Name: B19051_001E, dtype: float64"
      ]
     },
     "execution_count": 213,
     "metadata": {},
     "output_type": "execute_result"
    }
   ],
   "source": [
    "#Descriptive stats of deceptive practice for poverty\n",
    "crime_with_blocks[(crime_with_blocks['primary_type'] == 'DECEPTIVE PRACTICE')].B19051_001E.describe()"
   ]
  },
  {
   "cell_type": "code",
   "execution_count": 214,
   "metadata": {},
   "outputs": [
    {
     "data": {
      "text/plain": [
       "count     1998.000000\n",
       "mean      1632.624625\n",
       "std       1366.452911\n",
       "min          0.000000\n",
       "25%        928.000000\n",
       "50%       1380.500000\n",
       "75%       1904.000000\n",
       "max      11012.000000\n",
       "Name: B19051_001E, dtype: float64"
      ]
     },
     "execution_count": 214,
     "metadata": {},
     "output_type": "execute_result"
    }
   ],
   "source": [
    "#Descriptive stats of deceptive practice for poverty\n",
    "crime_with_blocks[(crime_with_blocks['primary_type'] == 'SEX OFFENSE')].B19051_001E.describe()"
   ]
  },
  {
   "cell_type": "markdown",
   "metadata": {},
   "source": [
    "Reviewing this two statistics we can see that deceptive practice is a crime commited in places of higher income than sex offense, we can see the poverty rate that have some difference but the more differece came from the difference in earning."
   ]
  },
  {
   "cell_type": "markdown",
   "metadata": {},
   "source": [
    "## Question 3"
   ]
  },
  {
   "cell_type": "markdown",
   "metadata": {},
   "source": [
    "### Q3-p1"
   ]
  },
  {
   "cell_type": "raw",
   "metadata": {},
   "source": [
    "From the previous part we know that crimes diminish in a small amount, but we have a increment in high violence crime as homicides between 2017 and 2018."
   ]
  },
  {
   "cell_type": "markdown",
   "metadata": {},
   "source": [
    "### Q3-p2"
   ]
  },
  {
   "cell_type": "raw",
   "metadata": {},
   "source": [
    "#Crime is a major issue in our neighborhoods over the last four years, and\n",
    "the data shows just that.\n",
    "Let’s break down the Chicago Police Department’s report for the month\n",
    "leading up to July 26, 2018, compared to the same week in 2017:\n",
    "• Robberies -- up 21 percent over the same time-frame in 2017\n",
    "• Aggravated batteries -- up 136 percent\n",
    "• Burglaries -- an increase of 50 percent\n",
    "• Motor vehicle theft -- up 41 percent.\n",
    "All told, crime rose 16 percent in the same 28-day time period in just one\n",
    "year. But take a look at the year-to-date number and you’ll see how crime\n",
    "has affected our local neighborhoods in a four-year period:\n",
    "• Rose 10 percent since 2017\n",
    "• Rose 22 percent since 2016"
   ]
  },
  {
   "cell_type": "code",
   "execution_count": 256,
   "metadata": {},
   "outputs": [],
   "source": [
    "#Extracting data\n",
    "df_ward43 = crime_with_blocks[(crime_with_blocks[\"ward\"] == \"43\")]\n",
    "df_w_w34_2018 = df_ward43[(df_ward43['date'] > '2018-07-19') & (df_ward43['date'] < '2018-07-27')]\n",
    "df_m_w34_2018 = df_ward43[(df_ward43['date'] > '2018-06-27') & (df_ward43['date'] < '2018-07-27')]\n",
    "df_w_w34_2017 = df_ward43[(df_ward43['date'] > '2017-07-19') & (df_ward43['date'] < '2017-07-27')]\n",
    "df_m_w34_2017 = df_ward43[(df_ward43['date'] > '2017-06-27') & (df_ward43['date'] < '2017-07-27')]\n",
    "df_m_w34 = df_m_w34_2017.append(df_m_w34_2018)\n",
    "df_w_w34 = df_w_w34_2017.append(df_w_w34_2018)\n",
    "#filters\n",
    "battery_filter_w43y = (df_ward43['primary_type'] == 'BATTERY')\n",
    "battery_filter_w43m = (df_m_w34['primary_type'] == 'BATTERY')\n",
    "battery_filter_w43w = (df_w_w34['primary_type'] == 'BATTERY')\n",
    "bulglary_filter_w43y = (df_ward43['primary_type'] == 'BURGLARY')\n",
    "bulglary_filter_w43m = (df_m_w34['primary_type'] == 'BURGLARY')\n",
    "bulglary_filter_w43w = (df_w_w34['primary_type'] == 'BURGLARY')\n",
    "mvt_filter_w43y = (df_ward43['primary_type'] == 'MOTOR VEHICLE THEFT')\n",
    "mvt_filter_w43m = (df_m_w34['primary_type'] == 'MOTOR VEHICLE THEFT')\n",
    "mvt_filter_w43w = (df_w_w34['primary_type'] == 'MOTOR VEHICLE THEFT')\n",
    "rob_filter_w43y = (df_ward43['primary_type'] == 'ROBBERY')\n",
    "rob_filter_w43m = (df_m_w34['primary_type'] == 'ROBBERY')\n",
    "rob_filter_w43w = (df_w_w34['primary_type'] == 'ROBBERY')"
   ]
  },
  {
   "cell_type": "code",
   "execution_count": 244,
   "metadata": {},
   "outputs": [
    {
     "name": "stdout",
     "output_type": "stream",
     "text": [
      "year    2017  2018   All\n",
      "arrest                  \n",
      "False   3628  3905  7533\n",
      "True     326   337   663\n",
      "All     3954  4242  8196\n"
     ]
    }
   ],
   "source": [
    "#Number of arrest and calls by year in ward43\n",
    "tab14_year=pd.crosstab(index=df_ward43[\"arrest\"],columns=df_ward43[\"year\"], margins=True)\n",
    "print(tab14_year)"
   ]
  },
  {
   "cell_type": "code",
   "execution_count": 240,
   "metadata": {},
   "outputs": [
    {
     "name": "stdout",
     "output_type": "stream",
     "text": [
      "year    2017  2018  All\n",
      "arrest                 \n",
      "False    326   349  675\n",
      "True      37    41   78\n",
      "All      363   390  753\n"
     ]
    }
   ],
   "source": [
    "#Number of arrest and calls by month in ward43\n",
    "tab14_month=pd.crosstab(index=df_m_w34[\"arrest\"],columns=df_m_w34[\"year\"], margins=True)\n",
    "print(tab14_month)"
   ]
  },
  {
   "cell_type": "code",
   "execution_count": 241,
   "metadata": {},
   "outputs": [
    {
     "name": "stdout",
     "output_type": "stream",
     "text": [
      "year    2017  2018  All\n",
      "arrest                 \n",
      "False    102    99  201\n",
      "True       7     8   15\n",
      "All      109   107  216\n"
     ]
    }
   ],
   "source": [
    "#Number of arrest and calls by week in ward43\n",
    "tab14_week=pd.crosstab(index=df_w_w34[\"arrest\"],columns=df_w_w34[\"year\"], margins=True)\n",
    "print(tab14_week)"
   ]
  },
  {
   "cell_type": "code",
   "execution_count": 247,
   "metadata": {},
   "outputs": [
    {
     "name": "stdout",
     "output_type": "stream",
     "text": [
      "year    2017  2018  All\n",
      "arrest                 \n",
      "False    278   275  553\n",
      "True      81    67  148\n",
      "All      359   342  701\n"
     ]
    }
   ],
   "source": [
    "#Number of battery incidents and  arrests by year in ward43\n",
    "\n",
    "tab14_battery_y=pd.crosstab(index=df_ward43[battery_filter_w43y].arrest,columns=df_ward43[battery_filter_w43y].year, margins=True)\n",
    "print(tab14_battery_y)"
   ]
  },
  {
   "cell_type": "code",
   "execution_count": 250,
   "metadata": {},
   "outputs": [
    {
     "name": "stdout",
     "output_type": "stream",
     "text": [
      "year    2017  2018  All\n",
      "arrest                 \n",
      "False     31    25   56\n",
      "True      10    10   20\n",
      "All       41    35   76\n"
     ]
    }
   ],
   "source": [
    "#Number of battery incidents and  arrests in the month in ward43\n",
    "tab14_battery_m=pd.crosstab(index=df_m_w34[battery_filter_w43m].arrest,columns=df_m_w34[battery_filter_w43m].year, margins=True)\n",
    "print(tab14_battery_m)"
   ]
  },
  {
   "cell_type": "code",
   "execution_count": 252,
   "metadata": {},
   "outputs": [
    {
     "name": "stdout",
     "output_type": "stream",
     "text": [
      "year    2017  2018  All\n",
      "arrest                 \n",
      "False     16     9   25\n",
      "True       1     2    3\n",
      "All       17    11   28\n"
     ]
    }
   ],
   "source": [
    "#Number of battery incidents and  arrests in the week in ward43\n",
    "tab14_battery_w=pd.crosstab(index=df_w_w34[battery_filter_w43w].arrest,columns=df_w_w34[battery_filter_w43w].year, margins=True)\n",
    "print(tab14_battery_w)"
   ]
  },
  {
   "cell_type": "code",
   "execution_count": 254,
   "metadata": {},
   "outputs": [
    {
     "name": "stdout",
     "output_type": "stream",
     "text": [
      "year    2017  2018  All\n",
      "arrest                 \n",
      "False    153   175  328\n",
      "True      11     9   20\n",
      "All      164   184  348\n"
     ]
    }
   ],
   "source": [
    "#Number of burglary incidents and  arrests by year in ward43\n",
    "tab14_burglary_y=pd.crosstab(index=df_ward43[bulglary_filter_w43y].arrest,columns=df_ward43[bulglary_filter_w43y].year, margins=True)\n",
    "print(tab14_burglary_y)"
   ]
  },
  {
   "cell_type": "code",
   "execution_count": 258,
   "metadata": {},
   "outputs": [
    {
     "name": "stdout",
     "output_type": "stream",
     "text": [
      "year    2017  2018  All\n",
      "arrest                 \n",
      "False     15    12   27\n",
      "True       1     2    3\n",
      "All       16    14   30\n"
     ]
    }
   ],
   "source": [
    "#Number of burglary incidents and  arrests by month in ward43\n",
    "tab14_burglary_m=pd.crosstab(index=df_m_w34[bulglary_filter_w43m].arrest,columns=df_m_w34[bulglary_filter_w43m].year, margins=True)\n",
    "print(tab14_burglary_m)"
   ]
  },
  {
   "cell_type": "code",
   "execution_count": 260,
   "metadata": {},
   "outputs": [
    {
     "name": "stdout",
     "output_type": "stream",
     "text": [
      "year    2017  2018  All\n",
      "arrest                 \n",
      "False      3     2    5\n",
      "True       0     1    1\n",
      "All        3     3    6\n"
     ]
    }
   ],
   "source": [
    "#Number of burglary incidents and  arrests by week in ward43\n",
    "tab14_burglary_w=pd.crosstab(index=df_w_w34[bulglary_filter_w43w].arrest,columns=df_w_w34[bulglary_filter_w43w].year, margins=True)\n",
    "print(tab14_burglary_w)"
   ]
  },
  {
   "cell_type": "code",
   "execution_count": 261,
   "metadata": {},
   "outputs": [
    {
     "name": "stdout",
     "output_type": "stream",
     "text": [
      "year    2017  2018  All\n",
      "arrest                 \n",
      "False    149   129  278\n",
      "True      12    10   22\n",
      "All      161   139  300\n"
     ]
    }
   ],
   "source": [
    "#Number of Motor Vehicule Theft incidents and  arrests by year in ward43\n",
    "tab14_mvt_y=pd.crosstab(index=df_ward43[mvt_filter_w43y].arrest,columns=df_ward43[mvt_filter_w43y].year, margins=True)\n",
    "print(tab14_mvt_y)"
   ]
  },
  {
   "cell_type": "code",
   "execution_count": 263,
   "metadata": {},
   "outputs": [
    {
     "name": "stdout",
     "output_type": "stream",
     "text": [
      "year    2017  2018  All\n",
      "arrest                 \n",
      "False      6    10   16\n",
      "All        6    10   16\n"
     ]
    }
   ],
   "source": [
    "#Number of Motor Vehicule Theft incidents and  arrests by month in ward43\n",
    "tab14_mvt_m=pd.crosstab(index=df_m_w34[mvt_filter_w43m].arrest,columns=df_m_w34[mvt_filter_w43m].year, margins=True)\n",
    "print(tab14_mvt_m)"
   ]
  },
  {
   "cell_type": "code",
   "execution_count": 265,
   "metadata": {},
   "outputs": [
    {
     "name": "stdout",
     "output_type": "stream",
     "text": [
      "year    2017  2018  All\n",
      "arrest                 \n",
      "False      3     2    5\n",
      "All        3     2    5\n"
     ]
    }
   ],
   "source": [
    "#Number of Motor Vehicule Theft incidents and  arrests by week in ward43\n",
    "tab14_mvt_w=pd.crosstab(index=df_w_w34[mvt_filter_w43w].arrest,columns=df_w_w34[mvt_filter_w43w].year, margins=True)\n",
    "print(tab14_mvt_w)"
   ]
  },
  {
   "cell_type": "code",
   "execution_count": 267,
   "metadata": {},
   "outputs": [
    {
     "name": "stdout",
     "output_type": "stream",
     "text": [
      "year    2017  2018  All\n",
      "arrest                 \n",
      "False    122   121  243\n",
      "True      18    15   33\n",
      "All      140   136  276\n"
     ]
    }
   ],
   "source": [
    "#Number of Robbery incidents and  arrests by year in ward43\n",
    "tab14_rob_y=pd.crosstab(index=df_ward43[rob_filter_w43y].arrest,columns=df_ward43[rob_filter_w43y].year, margins=True)\n",
    "print(tab14_rob_y)"
   ]
  },
  {
   "cell_type": "code",
   "execution_count": 268,
   "metadata": {},
   "outputs": [
    {
     "name": "stdout",
     "output_type": "stream",
     "text": [
      "year    2017  2018  All\n",
      "arrest                 \n",
      "False     14     8   22\n",
      "True       3     1    4\n",
      "All       17     9   26\n"
     ]
    }
   ],
   "source": [
    "#Number of Robbery incidents and  arrests by month in ward43\n",
    "tab14_rob_m=pd.crosstab(index=df_m_w34[rob_filter_w43m].arrest,columns=df_m_w34[rob_filter_w43m].year, margins=True)\n",
    "print(tab14_rob_m)"
   ]
  },
  {
   "cell_type": "code",
   "execution_count": 269,
   "metadata": {},
   "outputs": [
    {
     "name": "stdout",
     "output_type": "stream",
     "text": [
      "year    2017  2018  All\n",
      "arrest                 \n",
      "False      2     3    5\n",
      "True       0     1    1\n",
      "All        2     4    6\n"
     ]
    }
   ],
   "source": [
    "#Number of Robbery incidents and  arrests by week in ward43\n",
    "tab14_rob_w=pd.crosstab(index=df_w_w34[rob_filter_w43w].arrest,columns=df_w_w34[rob_filter_w43w].year, margins=True)\n",
    "print(tab14_rob_w)"
   ]
  },
  {
   "cell_type": "raw",
   "metadata": {},
   "source": [
    "ANS A: In general the affirmations are wrong, for example in the last week the robbery duplicates and the motor vehicule theft increase but not in the percent that the news show. Also, all other statistics presented are wrong in general the crime has increased in 7%, but the text says that has rose in 10%. Basically the whole text is fake news."
   ]
  },
  {
   "cell_type": "markdown",
   "metadata": {},
   "source": [
    "ANS B: As the statistics are wrong in the sign of the change of type for the most of the different categories implies that the conclusion are missleading."
   ]
  },
  {
   "cell_type": "markdown",
   "metadata": {},
   "source": [
    "### Q3-p3"
   ]
  },
  {
   "cell_type": "markdown",
   "metadata": {},
   "source": [
    "1- we see that the most of the violent crime are concentrated in low income neighborhoods, that implies that are necessary to create and design especific programs to deal with this issue. \n",
    "2- Richer and poorest do different crimes, for example we see that the Deceptive Practice crime it's commited in high income sectors of the cities but sex offence or homicide are commited in low income neigborhood. Then it's necessary  to have a police force that have specialized units to deal with this different types of crime. Also, this would imply work with the communities.\n",
    "3- As we see that the arrest rate of different varies acording the differnt type of crime, we don't have access to conviction statistics, but it will be important to improve the arrest rate of different crimes that are violent.\n",
    "4- Crimes are concentrated in certain neighborhoods that means that we can focus the effort to diminish them if the efforts are concentrated in them.\n",
    "5-"
   ]
  },
  {
   "cell_type": "markdown",
   "metadata": {},
   "source": [
    "### Q3-p4"
   ]
  },
  {
   "cell_type": "markdown",
   "metadata": {},
   "source": [
    "This analysis dont incorpore more geografical variables provided by the census that would help to understand in which circunstance the different crimes are commited, but with "
   ]
  },
  {
   "cell_type": "markdown",
   "metadata": {},
   "source": [
    "## Q4"
   ]
  },
  {
   "cell_type": "markdown",
   "metadata": {},
   "source": [
    "### Q4-p1"
   ]
  },
  {
   "cell_type": "code",
   "execution_count": 289,
   "metadata": {},
   "outputs": [],
   "source": [
    "cord = cg.onelineaddress('2111 S Michigan Ave, Chicago, IL')\n",
    "tract = cord[0]['geographies']['Census Tracts'][0]['TRACT']\n",
    "filter_tract = (crime_with_blocks['tractce10'] == tract)"
   ]
  },
  {
   "cell_type": "code",
   "execution_count": 291,
   "metadata": {},
   "outputs": [],
   "source": [
    "df_crime_q4p1 = crime_with_blocks[filter_tract]"
   ]
  },
  {
   "cell_type": "code",
   "execution_count": 309,
   "metadata": {},
   "outputs": [
    {
     "data": {
      "text/html": [
       "<div>\n",
       "<style scoped>\n",
       "    .dataframe tbody tr th:only-of-type {\n",
       "        vertical-align: middle;\n",
       "    }\n",
       "\n",
       "    .dataframe tbody tr th {\n",
       "        vertical-align: top;\n",
       "    }\n",
       "\n",
       "    .dataframe thead th {\n",
       "        text-align: right;\n",
       "    }\n",
       "</style>\n",
       "<table border=\"1\" class=\"dataframe\">\n",
       "  <thead>\n",
       "    <tr style=\"text-align: right;\">\n",
       "      <th>col_0</th>\n",
       "      <th>Total</th>\n",
       "      <th>All</th>\n",
       "    </tr>\n",
       "    <tr>\n",
       "      <th>primary_type</th>\n",
       "      <th></th>\n",
       "      <th></th>\n",
       "    </tr>\n",
       "  </thead>\n",
       "  <tbody>\n",
       "    <tr>\n",
       "      <th>ARSON</th>\n",
       "      <td>0.001171</td>\n",
       "      <td>0.001171</td>\n",
       "    </tr>\n",
       "    <tr>\n",
       "      <th>ASSAULT</th>\n",
       "      <td>0.064793</td>\n",
       "      <td>0.064793</td>\n",
       "    </tr>\n",
       "    <tr>\n",
       "      <th>BATTERY</th>\n",
       "      <td>0.153396</td>\n",
       "      <td>0.153396</td>\n",
       "    </tr>\n",
       "    <tr>\n",
       "      <th>BURGLARY</th>\n",
       "      <td>0.024590</td>\n",
       "      <td>0.024590</td>\n",
       "    </tr>\n",
       "    <tr>\n",
       "      <th>CONCEALED CARRY LICENSE VIOLATION</th>\n",
       "      <td>0.000390</td>\n",
       "      <td>0.000390</td>\n",
       "    </tr>\n",
       "    <tr>\n",
       "      <th>CRIM SEXUAL ASSAULT</th>\n",
       "      <td>0.005855</td>\n",
       "      <td>0.005855</td>\n",
       "    </tr>\n",
       "    <tr>\n",
       "      <th>CRIMINAL DAMAGE</th>\n",
       "      <td>0.079625</td>\n",
       "      <td>0.079625</td>\n",
       "    </tr>\n",
       "    <tr>\n",
       "      <th>CRIMINAL TRESPASS</th>\n",
       "      <td>0.040203</td>\n",
       "      <td>0.040203</td>\n",
       "    </tr>\n",
       "    <tr>\n",
       "      <th>DECEPTIVE PRACTICE</th>\n",
       "      <td>0.154567</td>\n",
       "      <td>0.154567</td>\n",
       "    </tr>\n",
       "    <tr>\n",
       "      <th>INTERFERENCE WITH PUBLIC OFFICER</th>\n",
       "      <td>0.002732</td>\n",
       "      <td>0.002732</td>\n",
       "    </tr>\n",
       "    <tr>\n",
       "      <th>INTIMIDATION</th>\n",
       "      <td>0.000781</td>\n",
       "      <td>0.000781</td>\n",
       "    </tr>\n",
       "    <tr>\n",
       "      <th>LIQUOR LAW VIOLATION</th>\n",
       "      <td>0.001171</td>\n",
       "      <td>0.001171</td>\n",
       "    </tr>\n",
       "    <tr>\n",
       "      <th>MOTOR VEHICLE THEFT</th>\n",
       "      <td>0.040593</td>\n",
       "      <td>0.040593</td>\n",
       "    </tr>\n",
       "    <tr>\n",
       "      <th>NARCOTICS</th>\n",
       "      <td>0.005074</td>\n",
       "      <td>0.005074</td>\n",
       "    </tr>\n",
       "    <tr>\n",
       "      <th>NON-CRIMINAL</th>\n",
       "      <td>0.000781</td>\n",
       "      <td>0.000781</td>\n",
       "    </tr>\n",
       "    <tr>\n",
       "      <th>OBSCENITY</th>\n",
       "      <td>0.001171</td>\n",
       "      <td>0.001171</td>\n",
       "    </tr>\n",
       "    <tr>\n",
       "      <th>OFFENSE INVOLVING CHILDREN</th>\n",
       "      <td>0.003903</td>\n",
       "      <td>0.003903</td>\n",
       "    </tr>\n",
       "    <tr>\n",
       "      <th>OTHER OFFENSE</th>\n",
       "      <td>0.053474</td>\n",
       "      <td>0.053474</td>\n",
       "    </tr>\n",
       "    <tr>\n",
       "      <th>PUBLIC PEACE VIOLATION</th>\n",
       "      <td>0.001561</td>\n",
       "      <td>0.001561</td>\n",
       "    </tr>\n",
       "    <tr>\n",
       "      <th>ROBBERY</th>\n",
       "      <td>0.039032</td>\n",
       "      <td>0.039032</td>\n",
       "    </tr>\n",
       "    <tr>\n",
       "      <th>SEX OFFENSE</th>\n",
       "      <td>0.007026</td>\n",
       "      <td>0.007026</td>\n",
       "    </tr>\n",
       "    <tr>\n",
       "      <th>STALKING</th>\n",
       "      <td>0.000781</td>\n",
       "      <td>0.000781</td>\n",
       "    </tr>\n",
       "    <tr>\n",
       "      <th>THEFT</th>\n",
       "      <td>0.311475</td>\n",
       "      <td>0.311475</td>\n",
       "    </tr>\n",
       "    <tr>\n",
       "      <th>WEAPONS VIOLATION</th>\n",
       "      <td>0.005855</td>\n",
       "      <td>0.005855</td>\n",
       "    </tr>\n",
       "    <tr>\n",
       "      <th>All</th>\n",
       "      <td>1.000000</td>\n",
       "      <td>1.000000</td>\n",
       "    </tr>\n",
       "  </tbody>\n",
       "</table>\n",
       "</div>"
      ],
      "text/plain": [
       "col_0                                 Total       All\n",
       "primary_type                                         \n",
       "ARSON                              0.001171  0.001171\n",
       "ASSAULT                            0.064793  0.064793\n",
       "BATTERY                            0.153396  0.153396\n",
       "BURGLARY                           0.024590  0.024590\n",
       "CONCEALED CARRY LICENSE VIOLATION  0.000390  0.000390\n",
       "CRIM SEXUAL ASSAULT                0.005855  0.005855\n",
       "CRIMINAL DAMAGE                    0.079625  0.079625\n",
       "CRIMINAL TRESPASS                  0.040203  0.040203\n",
       "DECEPTIVE PRACTICE                 0.154567  0.154567\n",
       "INTERFERENCE WITH PUBLIC OFFICER   0.002732  0.002732\n",
       "INTIMIDATION                       0.000781  0.000781\n",
       "LIQUOR LAW VIOLATION               0.001171  0.001171\n",
       "MOTOR VEHICLE THEFT                0.040593  0.040593\n",
       "NARCOTICS                          0.005074  0.005074\n",
       "NON-CRIMINAL                       0.000781  0.000781\n",
       "OBSCENITY                          0.001171  0.001171\n",
       "OFFENSE INVOLVING CHILDREN         0.003903  0.003903\n",
       "OTHER OFFENSE                      0.053474  0.053474\n",
       "PUBLIC PEACE VIOLATION             0.001561  0.001561\n",
       "ROBBERY                            0.039032  0.039032\n",
       "SEX OFFENSE                        0.007026  0.007026\n",
       "STALKING                           0.000781  0.000781\n",
       "THEFT                              0.311475  0.311475\n",
       "WEAPONS VIOLATION                  0.005855  0.005855\n",
       "All                                1.000000  1.000000"
      ]
     },
     "execution_count": 309,
     "metadata": {},
     "output_type": "execute_result"
    }
   ],
   "source": [
    "#Number of arrest both years in the tract of the direction\n",
    "tab15=pd.crosstab(index=df_crime_q4p1[\"primary_type\"], columns=['Total'], margins=True)\n",
    "#% of crime in the tract\n",
    "tab15/tab15.loc['All']"
   ]
  },
  {
   "cell_type": "markdown",
   "metadata": {},
   "source": [
    "ANS: It would be  31% the theft probability"
   ]
  },
  {
   "cell_type": "markdown",
   "metadata": {},
   "source": [
    "### Q4-p2"
   ]
  },
  {
   "cell_type": "code",
   "execution_count": 349,
   "metadata": {},
   "outputs": [],
   "source": [
    "df_crime_q4p2 = crime_with_blocks[crime_with_blocks['primary_type'] == 'THEFT']\n",
    "n_theft = len(df_crime_q4p2)\n",
    "theft_uptown = len(df_crime_q4p2[df_crime_q4p2['area_num_1'] == '3'])\n",
    "p_thef_uptown = theft_uptown/n_theft\n",
    "theft_gp = len(df_crime_q4p2[df_crime_q4p2['area_num_1'] == '26']) + len(df_crime_q4p2[df_crime_q4p2['area_num_1'] == '27'])\n",
    "p_thef_gp = theft_gp/n_theft"
   ]
  },
  {
   "cell_type": "code",
   "execution_count": 351,
   "metadata": {},
   "outputs": [
    {
     "data": {
      "text/plain": [
       "0.019446386900599497"
      ]
     },
     "execution_count": 351,
     "metadata": {},
     "output_type": "execute_result"
    }
   ],
   "source": [
    "p_thef_gp"
   ]
  },
  {
   "cell_type": "code",
   "execution_count": 352,
   "metadata": {},
   "outputs": [
    {
     "data": {
      "text/plain": [
       "0.015124967589355165"
      ]
     },
     "execution_count": 352,
     "metadata": {},
     "output_type": "execute_result"
    }
   ],
   "source": [
    "p_thef_uptown"
   ]
  },
  {
   "cell_type": "markdown",
   "metadata": {},
   "source": [
    "ANS: it's most likely that would be from Garfield Park, because the probability is 1.9% instead uptown is 1.5%."
   ]
  },
  {
   "cell_type": "markdown",
   "metadata": {},
   "source": [
    "### Q4-p3"
   ]
  },
  {
   "cell_type": "markdown",
   "metadata": {},
   "source": [
    "As there are 160 calls for battery from garfield park and 100 from uptown, implies that the probabilities are 16% and 10% respectively. This means that is more likely to came from garfield park by 6%."
   ]
  },
  {
   "cell_type": "code",
   "execution_count": null,
   "metadata": {},
   "outputs": [],
   "source": []
  }
 ],
 "metadata": {
  "kernelspec": {
   "display_name": "Python 3",
   "language": "python",
   "name": "python3"
  },
  "language_info": {
   "codemirror_mode": {
    "name": "ipython",
    "version": 3
   },
   "file_extension": ".py",
   "mimetype": "text/x-python",
   "name": "python",
   "nbconvert_exporter": "python",
   "pygments_lexer": "ipython3",
   "version": "3.7.1"
  }
 },
 "nbformat": 4,
 "nbformat_minor": 2
}
