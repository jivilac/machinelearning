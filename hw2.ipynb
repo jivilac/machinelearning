{
 "cells": [
  {
   "cell_type": "code",
   "execution_count": 1,
   "metadata": {},
   "outputs": [],
   "source": [
    "import read_data as rd\n",
    "import explore_data as ed\n",
    "import clean_data as cd\n",
    "import create_features as cf\n",
    "import build_models as bm\n",
    "import numpy as np\n",
    "import pandas as pd\n",
    "from sklearn.linear_model import LogisticRegression\n",
    "from sklearn import metrics\n",
    "from sklearn.model_selection import train_test_split\n",
    "\n",
    "\n",
    "#Importing data and l\n",
    "data = rd.read_data_csv(\"credit-data.csv\")\n",
    "data_id = 'PersonID'\n",
    "y='SeriousDlqin2yrs'\n",
    "float_columns = ['RevolvingUtilizationOfUnsecuredLines', 'age', 'NumberOfTime30-59DaysPastDueNotWorse', 'MonthlyIncome', 'DebtRatio', ]\n",
    "cat_columns =['SeriousDlqin2yrs', 'zipcode', 'NumberOfOpenCreditLinesAndLoans', 'NumberOfTimes90DaysLate', 'NumberRealEstateLoansOrLines', 'NumberOfTime60-89DaysPastDueNotWorse', 'NumberOfDependents']\n",
    "cols_to_transform = ['NumberOfOpenCreditLinesAndLoans', 'NumberOfTimes90DaysLate', 'NumberRealEstateLoansOrLines', 'NumberOfTime60-89DaysPastDueNotWorse']\n",
    "\n",
    "\n",
    "\n"
   ]
  },
  {
   "cell_type": "markdown",
   "metadata": {},
   "source": [
    "## Exploring Data"
   ]
  },
  {
   "cell_type": "code",
   "execution_count": 2,
   "metadata": {},
   "outputs": [
    {
     "data": {
      "text/html": [
       "<div>\n",
       "<style scoped>\n",
       "    .dataframe tbody tr th:only-of-type {\n",
       "        vertical-align: middle;\n",
       "    }\n",
       "\n",
       "    .dataframe tbody tr th {\n",
       "        vertical-align: top;\n",
       "    }\n",
       "\n",
       "    .dataframe thead th {\n",
       "        text-align: right;\n",
       "    }\n",
       "</style>\n",
       "<table border=\"1\" class=\"dataframe\">\n",
       "  <thead>\n",
       "    <tr style=\"text-align: right;\">\n",
       "      <th></th>\n",
       "      <th>PersonID</th>\n",
       "      <th>SeriousDlqin2yrs</th>\n",
       "      <th>RevolvingUtilizationOfUnsecuredLines</th>\n",
       "      <th>age</th>\n",
       "      <th>zipcode</th>\n",
       "      <th>NumberOfTime30-59DaysPastDueNotWorse</th>\n",
       "      <th>DebtRatio</th>\n",
       "      <th>MonthlyIncome</th>\n",
       "      <th>NumberOfOpenCreditLinesAndLoans</th>\n",
       "      <th>NumberOfTimes90DaysLate</th>\n",
       "      <th>NumberRealEstateLoansOrLines</th>\n",
       "      <th>NumberOfTime60-89DaysPastDueNotWorse</th>\n",
       "      <th>NumberOfDependents</th>\n",
       "    </tr>\n",
       "  </thead>\n",
       "  <tbody>\n",
       "    <tr>\n",
       "      <th>count</th>\n",
       "      <td>41016.000000</td>\n",
       "      <td>41016.000000</td>\n",
       "      <td>41016.000000</td>\n",
       "      <td>41016.000000</td>\n",
       "      <td>41016.000000</td>\n",
       "      <td>41016.000000</td>\n",
       "      <td>41016.000000</td>\n",
       "      <td>3.304200e+04</td>\n",
       "      <td>41016.000000</td>\n",
       "      <td>41016.000000</td>\n",
       "      <td>41016.000000</td>\n",
       "      <td>41016.000000</td>\n",
       "      <td>39979.000000</td>\n",
       "    </tr>\n",
       "    <tr>\n",
       "      <th>mean</th>\n",
       "      <td>115800.154598</td>\n",
       "      <td>0.161400</td>\n",
       "      <td>6.375870</td>\n",
       "      <td>51.683489</td>\n",
       "      <td>60623.824166</td>\n",
       "      <td>0.589233</td>\n",
       "      <td>331.458137</td>\n",
       "      <td>6.578996e+03</td>\n",
       "      <td>8.403477</td>\n",
       "      <td>0.419592</td>\n",
       "      <td>1.008801</td>\n",
       "      <td>0.371587</td>\n",
       "      <td>0.773231</td>\n",
       "    </tr>\n",
       "    <tr>\n",
       "      <th>std</th>\n",
       "      <td>28112.723511</td>\n",
       "      <td>0.367904</td>\n",
       "      <td>221.618950</td>\n",
       "      <td>14.746880</td>\n",
       "      <td>11.984357</td>\n",
       "      <td>5.205628</td>\n",
       "      <td>1296.109695</td>\n",
       "      <td>1.344683e+04</td>\n",
       "      <td>5.207324</td>\n",
       "      <td>5.190382</td>\n",
       "      <td>1.153826</td>\n",
       "      <td>5.169641</td>\n",
       "      <td>1.121269</td>\n",
       "    </tr>\n",
       "    <tr>\n",
       "      <th>min</th>\n",
       "      <td>22.000000</td>\n",
       "      <td>0.000000</td>\n",
       "      <td>0.000000</td>\n",
       "      <td>21.000000</td>\n",
       "      <td>60601.000000</td>\n",
       "      <td>0.000000</td>\n",
       "      <td>0.000000</td>\n",
       "      <td>0.000000e+00</td>\n",
       "      <td>0.000000</td>\n",
       "      <td>0.000000</td>\n",
       "      <td>0.000000</td>\n",
       "      <td>0.000000</td>\n",
       "      <td>0.000000</td>\n",
       "    </tr>\n",
       "    <tr>\n",
       "      <th>1%</th>\n",
       "      <td>10034.050000</td>\n",
       "      <td>0.000000</td>\n",
       "      <td>0.000000</td>\n",
       "      <td>24.000000</td>\n",
       "      <td>60601.000000</td>\n",
       "      <td>0.000000</td>\n",
       "      <td>0.000000</td>\n",
       "      <td>0.000000e+00</td>\n",
       "      <td>0.000000</td>\n",
       "      <td>0.000000</td>\n",
       "      <td>0.000000</td>\n",
       "      <td>0.000000</td>\n",
       "      <td>0.000000</td>\n",
       "    </tr>\n",
       "    <tr>\n",
       "      <th>20%</th>\n",
       "      <td>103939.000000</td>\n",
       "      <td>0.000000</td>\n",
       "      <td>0.022025</td>\n",
       "      <td>38.000000</td>\n",
       "      <td>60618.000000</td>\n",
       "      <td>0.000000</td>\n",
       "      <td>0.135104</td>\n",
       "      <td>2.983000e+03</td>\n",
       "      <td>4.000000</td>\n",
       "      <td>0.000000</td>\n",
       "      <td>0.000000</td>\n",
       "      <td>0.000000</td>\n",
       "      <td>0.000000</td>\n",
       "    </tr>\n",
       "    <tr>\n",
       "      <th>40%</th>\n",
       "      <td>114590.000000</td>\n",
       "      <td>0.000000</td>\n",
       "      <td>0.098894</td>\n",
       "      <td>47.000000</td>\n",
       "      <td>60625.000000</td>\n",
       "      <td>0.000000</td>\n",
       "      <td>0.288791</td>\n",
       "      <td>4.500000e+03</td>\n",
       "      <td>6.000000</td>\n",
       "      <td>0.000000</td>\n",
       "      <td>1.000000</td>\n",
       "      <td>0.000000</td>\n",
       "      <td>0.000000</td>\n",
       "    </tr>\n",
       "    <tr>\n",
       "      <th>50%</th>\n",
       "      <td>119901.500000</td>\n",
       "      <td>0.000000</td>\n",
       "      <td>0.189730</td>\n",
       "      <td>51.000000</td>\n",
       "      <td>60625.000000</td>\n",
       "      <td>0.000000</td>\n",
       "      <td>0.369736</td>\n",
       "      <td>5.250000e+03</td>\n",
       "      <td>8.000000</td>\n",
       "      <td>0.000000</td>\n",
       "      <td>1.000000</td>\n",
       "      <td>0.000000</td>\n",
       "      <td>0.000000</td>\n",
       "    </tr>\n",
       "    <tr>\n",
       "      <th>60%</th>\n",
       "      <td>125378.000000</td>\n",
       "      <td>0.000000</td>\n",
       "      <td>0.334872</td>\n",
       "      <td>55.000000</td>\n",
       "      <td>60625.000000</td>\n",
       "      <td>0.000000</td>\n",
       "      <td>0.473741</td>\n",
       "      <td>6.200000e+03</td>\n",
       "      <td>9.000000</td>\n",
       "      <td>0.000000</td>\n",
       "      <td>1.000000</td>\n",
       "      <td>0.000000</td>\n",
       "      <td>1.000000</td>\n",
       "    </tr>\n",
       "    <tr>\n",
       "      <th>80%</th>\n",
       "      <td>137785.000000</td>\n",
       "      <td>0.000000</td>\n",
       "      <td>0.810027</td>\n",
       "      <td>64.000000</td>\n",
       "      <td>60637.000000</td>\n",
       "      <td>0.000000</td>\n",
       "      <td>2.353688</td>\n",
       "      <td>9.000000e+03</td>\n",
       "      <td>12.000000</td>\n",
       "      <td>0.000000</td>\n",
       "      <td>2.000000</td>\n",
       "      <td>0.000000</td>\n",
       "      <td>2.000000</td>\n",
       "    </tr>\n",
       "    <tr>\n",
       "      <th>99%</th>\n",
       "      <td>149396.850000</td>\n",
       "      <td>1.000000</td>\n",
       "      <td>1.194705</td>\n",
       "      <td>87.000000</td>\n",
       "      <td>60644.000000</td>\n",
       "      <td>4.000000</td>\n",
       "      <td>4856.850000</td>\n",
       "      <td>2.500000e+04</td>\n",
       "      <td>25.000000</td>\n",
       "      <td>4.000000</td>\n",
       "      <td>5.000000</td>\n",
       "      <td>2.000000</td>\n",
       "      <td>4.000000</td>\n",
       "    </tr>\n",
       "    <tr>\n",
       "      <th>max</th>\n",
       "      <td>149999.000000</td>\n",
       "      <td>1.000000</td>\n",
       "      <td>22000.000000</td>\n",
       "      <td>109.000000</td>\n",
       "      <td>60644.000000</td>\n",
       "      <td>98.000000</td>\n",
       "      <td>106885.000000</td>\n",
       "      <td>1.794060e+06</td>\n",
       "      <td>56.000000</td>\n",
       "      <td>98.000000</td>\n",
       "      <td>32.000000</td>\n",
       "      <td>98.000000</td>\n",
       "      <td>13.000000</td>\n",
       "    </tr>\n",
       "  </tbody>\n",
       "</table>\n",
       "</div>"
      ],
      "text/plain": [
       "            PersonID  SeriousDlqin2yrs  RevolvingUtilizationOfUnsecuredLines  \\\n",
       "count   41016.000000      41016.000000                          41016.000000   \n",
       "mean   115800.154598          0.161400                              6.375870   \n",
       "std     28112.723511          0.367904                            221.618950   \n",
       "min        22.000000          0.000000                              0.000000   \n",
       "1%      10034.050000          0.000000                              0.000000   \n",
       "20%    103939.000000          0.000000                              0.022025   \n",
       "40%    114590.000000          0.000000                              0.098894   \n",
       "50%    119901.500000          0.000000                              0.189730   \n",
       "60%    125378.000000          0.000000                              0.334872   \n",
       "80%    137785.000000          0.000000                              0.810027   \n",
       "99%    149396.850000          1.000000                              1.194705   \n",
       "max    149999.000000          1.000000                          22000.000000   \n",
       "\n",
       "                age       zipcode  NumberOfTime30-59DaysPastDueNotWorse  \\\n",
       "count  41016.000000  41016.000000                          41016.000000   \n",
       "mean      51.683489  60623.824166                              0.589233   \n",
       "std       14.746880     11.984357                              5.205628   \n",
       "min       21.000000  60601.000000                              0.000000   \n",
       "1%        24.000000  60601.000000                              0.000000   \n",
       "20%       38.000000  60618.000000                              0.000000   \n",
       "40%       47.000000  60625.000000                              0.000000   \n",
       "50%       51.000000  60625.000000                              0.000000   \n",
       "60%       55.000000  60625.000000                              0.000000   \n",
       "80%       64.000000  60637.000000                              0.000000   \n",
       "99%       87.000000  60644.000000                              4.000000   \n",
       "max      109.000000  60644.000000                             98.000000   \n",
       "\n",
       "           DebtRatio  MonthlyIncome  NumberOfOpenCreditLinesAndLoans  \\\n",
       "count   41016.000000   3.304200e+04                     41016.000000   \n",
       "mean      331.458137   6.578996e+03                         8.403477   \n",
       "std      1296.109695   1.344683e+04                         5.207324   \n",
       "min         0.000000   0.000000e+00                         0.000000   \n",
       "1%          0.000000   0.000000e+00                         0.000000   \n",
       "20%         0.135104   2.983000e+03                         4.000000   \n",
       "40%         0.288791   4.500000e+03                         6.000000   \n",
       "50%         0.369736   5.250000e+03                         8.000000   \n",
       "60%         0.473741   6.200000e+03                         9.000000   \n",
       "80%         2.353688   9.000000e+03                        12.000000   \n",
       "99%      4856.850000   2.500000e+04                        25.000000   \n",
       "max    106885.000000   1.794060e+06                        56.000000   \n",
       "\n",
       "       NumberOfTimes90DaysLate  NumberRealEstateLoansOrLines  \\\n",
       "count             41016.000000                  41016.000000   \n",
       "mean                  0.419592                      1.008801   \n",
       "std                   5.190382                      1.153826   \n",
       "min                   0.000000                      0.000000   \n",
       "1%                    0.000000                      0.000000   \n",
       "20%                   0.000000                      0.000000   \n",
       "40%                   0.000000                      1.000000   \n",
       "50%                   0.000000                      1.000000   \n",
       "60%                   0.000000                      1.000000   \n",
       "80%                   0.000000                      2.000000   \n",
       "99%                   4.000000                      5.000000   \n",
       "max                  98.000000                     32.000000   \n",
       "\n",
       "       NumberOfTime60-89DaysPastDueNotWorse  NumberOfDependents  \n",
       "count                          41016.000000        39979.000000  \n",
       "mean                               0.371587            0.773231  \n",
       "std                                5.169641            1.121269  \n",
       "min                                0.000000            0.000000  \n",
       "1%                                 0.000000            0.000000  \n",
       "20%                                0.000000            0.000000  \n",
       "40%                                0.000000            0.000000  \n",
       "50%                                0.000000            0.000000  \n",
       "60%                                0.000000            1.000000  \n",
       "80%                                0.000000            2.000000  \n",
       "99%                                2.000000            4.000000  \n",
       "max                               98.000000           13.000000  "
      ]
     },
     "execution_count": 2,
     "metadata": {},
     "output_type": "execute_result"
    }
   ],
   "source": [
    "#Describing data \n",
    "ed.describe_data(data,[.01, .20, .40, .60, .80, .99])\n"
   ]
  },
  {
   "cell_type": "code",
   "execution_count": 3,
   "metadata": {},
   "outputs": [
    {
     "name": "stdout",
     "output_type": "stream",
     "text": [
      "Your selected dataframe has 13 columns.\n",
      "There are 2 columns that have missing values.\n"
     ]
    },
    {
     "data": {
      "text/html": [
       "<div>\n",
       "<style scoped>\n",
       "    .dataframe tbody tr th:only-of-type {\n",
       "        vertical-align: middle;\n",
       "    }\n",
       "\n",
       "    .dataframe tbody tr th {\n",
       "        vertical-align: top;\n",
       "    }\n",
       "\n",
       "    .dataframe thead th {\n",
       "        text-align: right;\n",
       "    }\n",
       "</style>\n",
       "<table border=\"1\" class=\"dataframe\">\n",
       "  <thead>\n",
       "    <tr style=\"text-align: right;\">\n",
       "      <th></th>\n",
       "      <th>Nan Val</th>\n",
       "      <th>% of Total Values</th>\n",
       "    </tr>\n",
       "  </thead>\n",
       "  <tbody>\n",
       "    <tr>\n",
       "      <th>MonthlyIncome</th>\n",
       "      <td>7974</td>\n",
       "      <td>19.4</td>\n",
       "    </tr>\n",
       "    <tr>\n",
       "      <th>NumberOfDependents</th>\n",
       "      <td>1037</td>\n",
       "      <td>2.5</td>\n",
       "    </tr>\n",
       "  </tbody>\n",
       "</table>\n",
       "</div>"
      ],
      "text/plain": [
       "                    Nan Val  % of Total Values\n",
       "MonthlyIncome          7974               19.4\n",
       "NumberOfDependents     1037                2.5"
      ]
     },
     "execution_count": 3,
     "metadata": {},
     "output_type": "execute_result"
    }
   ],
   "source": [
    "#missing\n",
    "ed.missing_values_table(data)\n"
   ]
  },
  {
   "cell_type": "code",
   "execution_count": 34,
   "metadata": {},
   "outputs": [
    {
     "data": {
      "text/html": [
       "<div>\n",
       "<style scoped>\n",
       "    .dataframe tbody tr th:only-of-type {\n",
       "        vertical-align: middle;\n",
       "    }\n",
       "\n",
       "    .dataframe tbody tr th {\n",
       "        vertical-align: top;\n",
       "    }\n",
       "\n",
       "    .dataframe thead th {\n",
       "        text-align: right;\n",
       "    }\n",
       "</style>\n",
       "<table border=\"1\" class=\"dataframe\">\n",
       "  <thead>\n",
       "    <tr style=\"text-align: right;\">\n",
       "      <th></th>\n",
       "      <th>PersonID</th>\n",
       "      <th>SeriousDlqin2yrs</th>\n",
       "      <th>RevolvingUtilizationOfUnsecuredLines</th>\n",
       "      <th>age</th>\n",
       "      <th>zipcode</th>\n",
       "      <th>NumberOfTime30-59DaysPastDueNotWorse</th>\n",
       "      <th>DebtRatio</th>\n",
       "      <th>MonthlyIncome</th>\n",
       "      <th>NumberOfOpenCreditLinesAndLoans</th>\n",
       "      <th>NumberOfTimes90DaysLate</th>\n",
       "      <th>NumberRealEstateLoansOrLines</th>\n",
       "      <th>NumberOfTime60-89DaysPastDueNotWorse</th>\n",
       "      <th>NumberOfDependents</th>\n",
       "      <th>missing_dependants</th>\n",
       "      <th>missing_income</th>\n",
       "    </tr>\n",
       "  </thead>\n",
       "  <tbody>\n",
       "    <tr>\n",
       "      <th>PersonID</th>\n",
       "      <td>1.000000</td>\n",
       "      <td>-0.622739</td>\n",
       "      <td>0.004499</td>\n",
       "      <td>0.108533</td>\n",
       "      <td>-0.021010</td>\n",
       "      <td>-0.082598</td>\n",
       "      <td>0.006864</td>\n",
       "      <td>0.019755</td>\n",
       "      <td>0.022669</td>\n",
       "      <td>-0.076856</td>\n",
       "      <td>0.004341</td>\n",
       "      <td>-0.065353</td>\n",
       "      <td>-0.030364</td>\n",
       "      <td>-0.012680</td>\n",
       "      <td>-0.017695</td>\n",
       "    </tr>\n",
       "    <tr>\n",
       "      <th>SeriousDlqin2yrs</th>\n",
       "      <td>-0.622739</td>\n",
       "      <td>1.000000</td>\n",
       "      <td>-0.004586</td>\n",
       "      <td>-0.173728</td>\n",
       "      <td>-0.045051</td>\n",
       "      <td>0.149334</td>\n",
       "      <td>-0.013502</td>\n",
       "      <td>-0.032810</td>\n",
       "      <td>-0.039898</td>\n",
       "      <td>0.139609</td>\n",
       "      <td>-0.010641</td>\n",
       "      <td>0.121886</td>\n",
       "      <td>0.065708</td>\n",
       "      <td>0.019576</td>\n",
       "      <td>0.032655</td>\n",
       "    </tr>\n",
       "    <tr>\n",
       "      <th>RevolvingUtilizationOfUnsecuredLines</th>\n",
       "      <td>0.004499</td>\n",
       "      <td>-0.004586</td>\n",
       "      <td>1.000000</td>\n",
       "      <td>-0.008003</td>\n",
       "      <td>0.006009</td>\n",
       "      <td>-0.001999</td>\n",
       "      <td>0.022250</td>\n",
       "      <td>0.005832</td>\n",
       "      <td>-0.014590</td>\n",
       "      <td>-0.001686</td>\n",
       "      <td>0.004763</td>\n",
       "      <td>-0.001413</td>\n",
       "      <td>0.005342</td>\n",
       "      <td>-0.000360</td>\n",
       "      <td>-0.006140</td>\n",
       "    </tr>\n",
       "    <tr>\n",
       "      <th>age</th>\n",
       "      <td>0.108533</td>\n",
       "      <td>-0.173728</td>\n",
       "      <td>-0.008003</td>\n",
       "      <td>1.000000</td>\n",
       "      <td>0.005408</td>\n",
       "      <td>-0.068696</td>\n",
       "      <td>0.038828</td>\n",
       "      <td>0.048138</td>\n",
       "      <td>0.159866</td>\n",
       "      <td>-0.069036</td>\n",
       "      <td>0.049168</td>\n",
       "      <td>-0.063622</td>\n",
       "      <td>-0.211002</td>\n",
       "      <td>-0.076663</td>\n",
       "      <td>-0.132035</td>\n",
       "    </tr>\n",
       "    <tr>\n",
       "      <th>zipcode</th>\n",
       "      <td>-0.021010</td>\n",
       "      <td>-0.045051</td>\n",
       "      <td>0.006009</td>\n",
       "      <td>0.005408</td>\n",
       "      <td>1.000000</td>\n",
       "      <td>-0.002424</td>\n",
       "      <td>0.002088</td>\n",
       "      <td>-0.004980</td>\n",
       "      <td>-0.009214</td>\n",
       "      <td>-0.001487</td>\n",
       "      <td>0.003141</td>\n",
       "      <td>-0.001198</td>\n",
       "      <td>-0.001744</td>\n",
       "      <td>-0.000380</td>\n",
       "      <td>-0.003918</td>\n",
       "    </tr>\n",
       "    <tr>\n",
       "      <th>NumberOfTime30-59DaysPastDueNotWorse</th>\n",
       "      <td>-0.082598</td>\n",
       "      <td>0.149334</td>\n",
       "      <td>-0.001999</td>\n",
       "      <td>-0.068696</td>\n",
       "      <td>-0.002424</td>\n",
       "      <td>1.000000</td>\n",
       "      <td>-0.011620</td>\n",
       "      <td>-0.015224</td>\n",
       "      <td>-0.070704</td>\n",
       "      <td>0.984465</td>\n",
       "      <td>-0.037863</td>\n",
       "      <td>0.988530</td>\n",
       "      <td>-0.007840</td>\n",
       "      <td>-0.016528</td>\n",
       "      <td>-0.029119</td>\n",
       "    </tr>\n",
       "    <tr>\n",
       "      <th>DebtRatio</th>\n",
       "      <td>0.006864</td>\n",
       "      <td>-0.013502</td>\n",
       "      <td>0.022250</td>\n",
       "      <td>0.038828</td>\n",
       "      <td>0.002088</td>\n",
       "      <td>-0.011620</td>\n",
       "      <td>1.000000</td>\n",
       "      <td>-0.022988</td>\n",
       "      <td>0.082791</td>\n",
       "      <td>-0.014790</td>\n",
       "      <td>0.177858</td>\n",
       "      <td>-0.013290</td>\n",
       "      <td>-0.070558</td>\n",
       "      <td>-0.097730</td>\n",
       "      <td>-0.482440</td>\n",
       "    </tr>\n",
       "    <tr>\n",
       "      <th>MonthlyIncome</th>\n",
       "      <td>0.019755</td>\n",
       "      <td>-0.032810</td>\n",
       "      <td>0.005832</td>\n",
       "      <td>0.048138</td>\n",
       "      <td>-0.004980</td>\n",
       "      <td>-0.015224</td>\n",
       "      <td>-0.022988</td>\n",
       "      <td>1.000000</td>\n",
       "      <td>0.107100</td>\n",
       "      <td>-0.017954</td>\n",
       "      <td>0.127313</td>\n",
       "      <td>-0.015336</td>\n",
       "      <td>0.060528</td>\n",
       "      <td>NaN</td>\n",
       "      <td>NaN</td>\n",
       "    </tr>\n",
       "    <tr>\n",
       "      <th>NumberOfOpenCreditLinesAndLoans</th>\n",
       "      <td>0.022669</td>\n",
       "      <td>-0.039898</td>\n",
       "      <td>-0.014590</td>\n",
       "      <td>0.159866</td>\n",
       "      <td>-0.009214</td>\n",
       "      <td>-0.070704</td>\n",
       "      <td>0.082791</td>\n",
       "      <td>0.107100</td>\n",
       "      <td>1.000000</td>\n",
       "      <td>-0.098176</td>\n",
       "      <td>0.442776</td>\n",
       "      <td>-0.087154</td>\n",
       "      <td>0.060218</td>\n",
       "      <td>0.085581</td>\n",
       "      <td>0.117036</td>\n",
       "    </tr>\n",
       "    <tr>\n",
       "      <th>NumberOfTimes90DaysLate</th>\n",
       "      <td>-0.076856</td>\n",
       "      <td>0.139609</td>\n",
       "      <td>-0.001686</td>\n",
       "      <td>-0.069036</td>\n",
       "      <td>-0.001487</td>\n",
       "      <td>0.984465</td>\n",
       "      <td>-0.014790</td>\n",
       "      <td>-0.017954</td>\n",
       "      <td>-0.098176</td>\n",
       "      <td>1.000000</td>\n",
       "      <td>-0.054661</td>\n",
       "      <td>0.992143</td>\n",
       "      <td>-0.015737</td>\n",
       "      <td>-0.019356</td>\n",
       "      <td>-0.036904</td>\n",
       "    </tr>\n",
       "    <tr>\n",
       "      <th>NumberRealEstateLoansOrLines</th>\n",
       "      <td>0.004341</td>\n",
       "      <td>-0.010641</td>\n",
       "      <td>0.004763</td>\n",
       "      <td>0.049168</td>\n",
       "      <td>0.003141</td>\n",
       "      <td>-0.037863</td>\n",
       "      <td>0.177858</td>\n",
       "      <td>0.127313</td>\n",
       "      <td>0.442776</td>\n",
       "      <td>-0.054661</td>\n",
       "      <td>1.000000</td>\n",
       "      <td>-0.047996</td>\n",
       "      <td>0.114880</td>\n",
       "      <td>0.057897</td>\n",
       "      <td>0.068675</td>\n",
       "    </tr>\n",
       "    <tr>\n",
       "      <th>NumberOfTime60-89DaysPastDueNotWorse</th>\n",
       "      <td>-0.065353</td>\n",
       "      <td>0.121886</td>\n",
       "      <td>-0.001413</td>\n",
       "      <td>-0.063622</td>\n",
       "      <td>-0.001198</td>\n",
       "      <td>0.988530</td>\n",
       "      <td>-0.013290</td>\n",
       "      <td>-0.015336</td>\n",
       "      <td>-0.087154</td>\n",
       "      <td>0.992143</td>\n",
       "      <td>-0.047996</td>\n",
       "      <td>1.000000</td>\n",
       "      <td>-0.016493</td>\n",
       "      <td>-0.020058</td>\n",
       "      <td>-0.036192</td>\n",
       "    </tr>\n",
       "    <tr>\n",
       "      <th>NumberOfDependents</th>\n",
       "      <td>-0.030364</td>\n",
       "      <td>0.065708</td>\n",
       "      <td>0.005342</td>\n",
       "      <td>-0.211002</td>\n",
       "      <td>-0.001744</td>\n",
       "      <td>-0.007840</td>\n",
       "      <td>-0.070558</td>\n",
       "      <td>0.060528</td>\n",
       "      <td>0.060218</td>\n",
       "      <td>-0.015737</td>\n",
       "      <td>0.114880</td>\n",
       "      <td>-0.016493</td>\n",
       "      <td>1.000000</td>\n",
       "      <td>NaN</td>\n",
       "      <td>0.187912</td>\n",
       "    </tr>\n",
       "    <tr>\n",
       "      <th>missing_dependants</th>\n",
       "      <td>-0.012680</td>\n",
       "      <td>0.019576</td>\n",
       "      <td>-0.000360</td>\n",
       "      <td>-0.076663</td>\n",
       "      <td>-0.000380</td>\n",
       "      <td>-0.016528</td>\n",
       "      <td>-0.097730</td>\n",
       "      <td>NaN</td>\n",
       "      <td>0.085581</td>\n",
       "      <td>-0.019356</td>\n",
       "      <td>0.057897</td>\n",
       "      <td>-0.020058</td>\n",
       "      <td>NaN</td>\n",
       "      <td>1.000000</td>\n",
       "      <td>0.327845</td>\n",
       "    </tr>\n",
       "    <tr>\n",
       "      <th>missing_income</th>\n",
       "      <td>-0.017695</td>\n",
       "      <td>0.032655</td>\n",
       "      <td>-0.006140</td>\n",
       "      <td>-0.132035</td>\n",
       "      <td>-0.003918</td>\n",
       "      <td>-0.029119</td>\n",
       "      <td>-0.482440</td>\n",
       "      <td>NaN</td>\n",
       "      <td>0.117036</td>\n",
       "      <td>-0.036904</td>\n",
       "      <td>0.068675</td>\n",
       "      <td>-0.036192</td>\n",
       "      <td>0.187912</td>\n",
       "      <td>0.327845</td>\n",
       "      <td>1.000000</td>\n",
       "    </tr>\n",
       "  </tbody>\n",
       "</table>\n",
       "</div>"
      ],
      "text/plain": [
       "                                      PersonID  SeriousDlqin2yrs  \\\n",
       "PersonID                              1.000000         -0.622739   \n",
       "SeriousDlqin2yrs                     -0.622739          1.000000   \n",
       "RevolvingUtilizationOfUnsecuredLines  0.004499         -0.004586   \n",
       "age                                   0.108533         -0.173728   \n",
       "zipcode                              -0.021010         -0.045051   \n",
       "NumberOfTime30-59DaysPastDueNotWorse -0.082598          0.149334   \n",
       "DebtRatio                             0.006864         -0.013502   \n",
       "MonthlyIncome                         0.019755         -0.032810   \n",
       "NumberOfOpenCreditLinesAndLoans       0.022669         -0.039898   \n",
       "NumberOfTimes90DaysLate              -0.076856          0.139609   \n",
       "NumberRealEstateLoansOrLines          0.004341         -0.010641   \n",
       "NumberOfTime60-89DaysPastDueNotWorse -0.065353          0.121886   \n",
       "NumberOfDependents                   -0.030364          0.065708   \n",
       "missing_dependants                   -0.012680          0.019576   \n",
       "missing_income                       -0.017695          0.032655   \n",
       "\n",
       "                                      RevolvingUtilizationOfUnsecuredLines  \\\n",
       "PersonID                                                          0.004499   \n",
       "SeriousDlqin2yrs                                                 -0.004586   \n",
       "RevolvingUtilizationOfUnsecuredLines                              1.000000   \n",
       "age                                                              -0.008003   \n",
       "zipcode                                                           0.006009   \n",
       "NumberOfTime30-59DaysPastDueNotWorse                             -0.001999   \n",
       "DebtRatio                                                         0.022250   \n",
       "MonthlyIncome                                                     0.005832   \n",
       "NumberOfOpenCreditLinesAndLoans                                  -0.014590   \n",
       "NumberOfTimes90DaysLate                                          -0.001686   \n",
       "NumberRealEstateLoansOrLines                                      0.004763   \n",
       "NumberOfTime60-89DaysPastDueNotWorse                             -0.001413   \n",
       "NumberOfDependents                                                0.005342   \n",
       "missing_dependants                                               -0.000360   \n",
       "missing_income                                                   -0.006140   \n",
       "\n",
       "                                           age   zipcode  \\\n",
       "PersonID                              0.108533 -0.021010   \n",
       "SeriousDlqin2yrs                     -0.173728 -0.045051   \n",
       "RevolvingUtilizationOfUnsecuredLines -0.008003  0.006009   \n",
       "age                                   1.000000  0.005408   \n",
       "zipcode                               0.005408  1.000000   \n",
       "NumberOfTime30-59DaysPastDueNotWorse -0.068696 -0.002424   \n",
       "DebtRatio                             0.038828  0.002088   \n",
       "MonthlyIncome                         0.048138 -0.004980   \n",
       "NumberOfOpenCreditLinesAndLoans       0.159866 -0.009214   \n",
       "NumberOfTimes90DaysLate              -0.069036 -0.001487   \n",
       "NumberRealEstateLoansOrLines          0.049168  0.003141   \n",
       "NumberOfTime60-89DaysPastDueNotWorse -0.063622 -0.001198   \n",
       "NumberOfDependents                   -0.211002 -0.001744   \n",
       "missing_dependants                   -0.076663 -0.000380   \n",
       "missing_income                       -0.132035 -0.003918   \n",
       "\n",
       "                                      NumberOfTime30-59DaysPastDueNotWorse  \\\n",
       "PersonID                                                         -0.082598   \n",
       "SeriousDlqin2yrs                                                  0.149334   \n",
       "RevolvingUtilizationOfUnsecuredLines                             -0.001999   \n",
       "age                                                              -0.068696   \n",
       "zipcode                                                          -0.002424   \n",
       "NumberOfTime30-59DaysPastDueNotWorse                              1.000000   \n",
       "DebtRatio                                                        -0.011620   \n",
       "MonthlyIncome                                                    -0.015224   \n",
       "NumberOfOpenCreditLinesAndLoans                                  -0.070704   \n",
       "NumberOfTimes90DaysLate                                           0.984465   \n",
       "NumberRealEstateLoansOrLines                                     -0.037863   \n",
       "NumberOfTime60-89DaysPastDueNotWorse                              0.988530   \n",
       "NumberOfDependents                                               -0.007840   \n",
       "missing_dependants                                               -0.016528   \n",
       "missing_income                                                   -0.029119   \n",
       "\n",
       "                                      DebtRatio  MonthlyIncome  \\\n",
       "PersonID                               0.006864       0.019755   \n",
       "SeriousDlqin2yrs                      -0.013502      -0.032810   \n",
       "RevolvingUtilizationOfUnsecuredLines   0.022250       0.005832   \n",
       "age                                    0.038828       0.048138   \n",
       "zipcode                                0.002088      -0.004980   \n",
       "NumberOfTime30-59DaysPastDueNotWorse  -0.011620      -0.015224   \n",
       "DebtRatio                              1.000000      -0.022988   \n",
       "MonthlyIncome                         -0.022988       1.000000   \n",
       "NumberOfOpenCreditLinesAndLoans        0.082791       0.107100   \n",
       "NumberOfTimes90DaysLate               -0.014790      -0.017954   \n",
       "NumberRealEstateLoansOrLines           0.177858       0.127313   \n",
       "NumberOfTime60-89DaysPastDueNotWorse  -0.013290      -0.015336   \n",
       "NumberOfDependents                    -0.070558       0.060528   \n",
       "missing_dependants                    -0.097730            NaN   \n",
       "missing_income                        -0.482440            NaN   \n",
       "\n",
       "                                      NumberOfOpenCreditLinesAndLoans  \\\n",
       "PersonID                                                     0.022669   \n",
       "SeriousDlqin2yrs                                            -0.039898   \n",
       "RevolvingUtilizationOfUnsecuredLines                        -0.014590   \n",
       "age                                                          0.159866   \n",
       "zipcode                                                     -0.009214   \n",
       "NumberOfTime30-59DaysPastDueNotWorse                        -0.070704   \n",
       "DebtRatio                                                    0.082791   \n",
       "MonthlyIncome                                                0.107100   \n",
       "NumberOfOpenCreditLinesAndLoans                              1.000000   \n",
       "NumberOfTimes90DaysLate                                     -0.098176   \n",
       "NumberRealEstateLoansOrLines                                 0.442776   \n",
       "NumberOfTime60-89DaysPastDueNotWorse                        -0.087154   \n",
       "NumberOfDependents                                           0.060218   \n",
       "missing_dependants                                           0.085581   \n",
       "missing_income                                               0.117036   \n",
       "\n",
       "                                      NumberOfTimes90DaysLate  \\\n",
       "PersonID                                            -0.076856   \n",
       "SeriousDlqin2yrs                                     0.139609   \n",
       "RevolvingUtilizationOfUnsecuredLines                -0.001686   \n",
       "age                                                 -0.069036   \n",
       "zipcode                                             -0.001487   \n",
       "NumberOfTime30-59DaysPastDueNotWorse                 0.984465   \n",
       "DebtRatio                                           -0.014790   \n",
       "MonthlyIncome                                       -0.017954   \n",
       "NumberOfOpenCreditLinesAndLoans                     -0.098176   \n",
       "NumberOfTimes90DaysLate                              1.000000   \n",
       "NumberRealEstateLoansOrLines                        -0.054661   \n",
       "NumberOfTime60-89DaysPastDueNotWorse                 0.992143   \n",
       "NumberOfDependents                                  -0.015737   \n",
       "missing_dependants                                  -0.019356   \n",
       "missing_income                                      -0.036904   \n",
       "\n",
       "                                      NumberRealEstateLoansOrLines  \\\n",
       "PersonID                                                  0.004341   \n",
       "SeriousDlqin2yrs                                         -0.010641   \n",
       "RevolvingUtilizationOfUnsecuredLines                      0.004763   \n",
       "age                                                       0.049168   \n",
       "zipcode                                                   0.003141   \n",
       "NumberOfTime30-59DaysPastDueNotWorse                     -0.037863   \n",
       "DebtRatio                                                 0.177858   \n",
       "MonthlyIncome                                             0.127313   \n",
       "NumberOfOpenCreditLinesAndLoans                           0.442776   \n",
       "NumberOfTimes90DaysLate                                  -0.054661   \n",
       "NumberRealEstateLoansOrLines                              1.000000   \n",
       "NumberOfTime60-89DaysPastDueNotWorse                     -0.047996   \n",
       "NumberOfDependents                                        0.114880   \n",
       "missing_dependants                                        0.057897   \n",
       "missing_income                                            0.068675   \n",
       "\n",
       "                                      NumberOfTime60-89DaysPastDueNotWorse  \\\n",
       "PersonID                                                         -0.065353   \n",
       "SeriousDlqin2yrs                                                  0.121886   \n",
       "RevolvingUtilizationOfUnsecuredLines                             -0.001413   \n",
       "age                                                              -0.063622   \n",
       "zipcode                                                          -0.001198   \n",
       "NumberOfTime30-59DaysPastDueNotWorse                              0.988530   \n",
       "DebtRatio                                                        -0.013290   \n",
       "MonthlyIncome                                                    -0.015336   \n",
       "NumberOfOpenCreditLinesAndLoans                                  -0.087154   \n",
       "NumberOfTimes90DaysLate                                           0.992143   \n",
       "NumberRealEstateLoansOrLines                                     -0.047996   \n",
       "NumberOfTime60-89DaysPastDueNotWorse                              1.000000   \n",
       "NumberOfDependents                                               -0.016493   \n",
       "missing_dependants                                               -0.020058   \n",
       "missing_income                                                   -0.036192   \n",
       "\n",
       "                                      NumberOfDependents  missing_dependants  \\\n",
       "PersonID                                       -0.030364           -0.012680   \n",
       "SeriousDlqin2yrs                                0.065708            0.019576   \n",
       "RevolvingUtilizationOfUnsecuredLines            0.005342           -0.000360   \n",
       "age                                            -0.211002           -0.076663   \n",
       "zipcode                                        -0.001744           -0.000380   \n",
       "NumberOfTime30-59DaysPastDueNotWorse           -0.007840           -0.016528   \n",
       "DebtRatio                                      -0.070558           -0.097730   \n",
       "MonthlyIncome                                   0.060528                 NaN   \n",
       "NumberOfOpenCreditLinesAndLoans                 0.060218            0.085581   \n",
       "NumberOfTimes90DaysLate                        -0.015737           -0.019356   \n",
       "NumberRealEstateLoansOrLines                    0.114880            0.057897   \n",
       "NumberOfTime60-89DaysPastDueNotWorse           -0.016493           -0.020058   \n",
       "NumberOfDependents                              1.000000                 NaN   \n",
       "missing_dependants                                   NaN            1.000000   \n",
       "missing_income                                  0.187912            0.327845   \n",
       "\n",
       "                                      missing_income  \n",
       "PersonID                                   -0.017695  \n",
       "SeriousDlqin2yrs                            0.032655  \n",
       "RevolvingUtilizationOfUnsecuredLines       -0.006140  \n",
       "age                                        -0.132035  \n",
       "zipcode                                    -0.003918  \n",
       "NumberOfTime30-59DaysPastDueNotWorse       -0.029119  \n",
       "DebtRatio                                  -0.482440  \n",
       "MonthlyIncome                                    NaN  \n",
       "NumberOfOpenCreditLinesAndLoans             0.117036  \n",
       "NumberOfTimes90DaysLate                    -0.036904  \n",
       "NumberRealEstateLoansOrLines                0.068675  \n",
       "NumberOfTime60-89DaysPastDueNotWorse       -0.036192  \n",
       "NumberOfDependents                          0.187912  \n",
       "missing_dependants                          0.327845  \n",
       "missing_income                              1.000000  "
      ]
     },
     "execution_count": 34,
     "metadata": {},
     "output_type": "execute_result"
    }
   ],
   "source": [
    "#correlation\n",
    "ed.correlation(data)\n"
   ]
  },
  {
   "cell_type": "code",
   "execution_count": 33,
   "metadata": {},
   "outputs": [
    {
     "data": {
      "image/png": "[encoded data removed]",
      "text/plain": [
       "<Figure size 432x288 with 2 Axes>"
      ]
     },
     "metadata": {},
     "output_type": "display_data"
    }
   ],
   "source": [
    "ed.correlation_graph(data)"
   ]
  },
  {
   "cell_type": "code",
   "execution_count": 5,
   "metadata": {},
   "outputs": [
    {
     "data": {
      "text/plain": [
       "{'SeriousDlqin2yrs': SeriousDlqin2yrs\n",
       " 0    34396\n",
       " 1     6620\n",
       " Name: PersonID, dtype: int64, 'zipcode': zipcode\n",
       " 60601     6427\n",
       " 60618     6332\n",
       " 60625    12904\n",
       " 60629     6459\n",
       " 60637     6354\n",
       " 60644     2540\n",
       " Name: PersonID, dtype: int64, 'NumberOfOpenCreditLinesAndLoans': NumberOfOpenCreditLinesAndLoans\n",
       " 0      658\n",
       " 1     1326\n",
       " 2     1874\n",
       " 3     2537\n",
       " 4     3184\n",
       " 5     3484\n",
       " 6     3623\n",
       " 7     3565\n",
       " 8     3340\n",
       " 9     3103\n",
       " 10    2568\n",
       " 11    2249\n",
       " 12    1947\n",
       " 13    1518\n",
       " 14    1233\n",
       " 15    1008\n",
       " 16     835\n",
       " 17     636\n",
       " 18     483\n",
       " 19     416\n",
       " 20     343\n",
       " 21     228\n",
       " 22     177\n",
       " 23     153\n",
       " 24     115\n",
       " 25      91\n",
       " 26      68\n",
       " 27      56\n",
       " 28      38\n",
       " 29      31\n",
       " 30      23\n",
       " 31      16\n",
       " 32      18\n",
       " 33      15\n",
       " 34      14\n",
       " 35       9\n",
       " 36       5\n",
       " 37       2\n",
       " 38       4\n",
       " 39       4\n",
       " 40       2\n",
       " 42       2\n",
       " 43       4\n",
       " 45       3\n",
       " 48       1\n",
       " 49       2\n",
       " 50       1\n",
       " 51       1\n",
       " 52       2\n",
       " 56       1\n",
       " Name: PersonID, dtype: int64, 'NumberOfTimes90DaysLate': NumberOfTimes90DaysLate\n",
       " 0     37586\n",
       " 1      1978\n",
       " 2       695\n",
       " 3       329\n",
       " 4       150\n",
       " 5        63\n",
       " 6        41\n",
       " 7        24\n",
       " 8        11\n",
       " 9        11\n",
       " 10        4\n",
       " 11        2\n",
       " 12        2\n",
       " 13        3\n",
       " 14        1\n",
       " 15        1\n",
       " 17        1\n",
       " 96        2\n",
       " 98      112\n",
       " Name: PersonID, dtype: int64, 'NumberRealEstateLoansOrLines': NumberRealEstateLoansOrLines\n",
       " 0     15814\n",
       " 1     14067\n",
       " 2      8403\n",
       " 3      1660\n",
       " 4       603\n",
       " 5       214\n",
       " 6       101\n",
       " 7        55\n",
       " 8        24\n",
       " 9        28\n",
       " 10       12\n",
       " 11        8\n",
       " 12        9\n",
       " 13        7\n",
       " 14        2\n",
       " 15        3\n",
       " 16        1\n",
       " 17        1\n",
       " 18        1\n",
       " 19        1\n",
       " 25        1\n",
       " 32        1\n",
       " Name: PersonID, dtype: int64, 'NumberOfTime60-89DaysPastDueNotWorse': NumberOfTime60-89DaysPastDueNotWorse\n",
       " 0     37988\n",
       " 1      2159\n",
       " 2       501\n",
       " 3       163\n",
       " 4        59\n",
       " 5        17\n",
       " 6         8\n",
       " 7         5\n",
       " 8         1\n",
       " 11        1\n",
       " 96        2\n",
       " 98      112\n",
       " Name: PersonID, dtype: int64, 'NumberOfDependents': NumberOfDependents\n",
       " 0.0     23503\n",
       " 1.0      7211\n",
       " 2.0      5539\n",
       " 3.0      2666\n",
       " 4.0       786\n",
       " 5.0       201\n",
       " 6.0        51\n",
       " 7.0        12\n",
       " 8.0         7\n",
       " 9.0         2\n",
       " 13.0        1\n",
       " Name: PersonID, dtype: int64}"
      ]
     },
     "execution_count": 5,
     "metadata": {},
     "output_type": "execute_result"
    }
   ],
   "source": [
    "fre_tables = ed.freq_tables(data, cat_columns, data_id)\n",
    "fre_tables"
   ]
  },
  {
   "cell_type": "code",
   "execution_count": 6,
   "metadata": {},
   "outputs": [
    {
     "data": {
      "image/png": "[encoded data removed]",
      "text/plain": [
       "<Figure size 432x288 with 1 Axes>"
      ]
     },
     "metadata": {
      "needs_background": "light"
     },
     "output_type": "display_data"
    }
   ],
   "source": [
    "#Y values\n",
    "data[y].value_counts()\n",
    "ed.graph_dummy(y,data)\n",
    "\n",
    "\n",
    "\n"
   ]
  },
  {
   "cell_type": "markdown",
   "metadata": {},
   "source": [
    "## Cleaning Data"
   ]
  },
  {
   "cell_type": "code",
   "execution_count": 7,
   "metadata": {},
   "outputs": [
    {
     "data": {
      "text/html": [
       "<div>\n",
       "<style scoped>\n",
       "    .dataframe tbody tr th:only-of-type {\n",
       "        vertical-align: middle;\n",
       "    }\n",
       "\n",
       "    .dataframe tbody tr th {\n",
       "        vertical-align: top;\n",
       "    }\n",
       "\n",
       "    .dataframe thead th {\n",
       "        text-align: right;\n",
       "    }\n",
       "</style>\n",
       "<table border=\"1\" class=\"dataframe\">\n",
       "  <thead>\n",
       "    <tr style=\"text-align: right;\">\n",
       "      <th></th>\n",
       "      <th>count</th>\n",
       "      <th>mean</th>\n",
       "      <th>std</th>\n",
       "      <th>min</th>\n",
       "      <th>25%</th>\n",
       "      <th>50%</th>\n",
       "      <th>75%</th>\n",
       "      <th>max</th>\n",
       "    </tr>\n",
       "    <tr>\n",
       "      <th>missing_income</th>\n",
       "      <th></th>\n",
       "      <th></th>\n",
       "      <th></th>\n",
       "      <th></th>\n",
       "      <th></th>\n",
       "      <th></th>\n",
       "      <th></th>\n",
       "      <th></th>\n",
       "    </tr>\n",
       "  </thead>\n",
       "  <tbody>\n",
       "    <tr>\n",
       "      <th>False</th>\n",
       "      <td>7974.0</td>\n",
       "      <td>1604.300100</td>\n",
       "      <td>2356.503190</td>\n",
       "      <td>0.0</td>\n",
       "      <td>118.250000</td>\n",
       "      <td>1109.000000</td>\n",
       "      <td>2314.500000</td>\n",
       "      <td>106885.0</td>\n",
       "    </tr>\n",
       "    <tr>\n",
       "      <th>True</th>\n",
       "      <td>32650.0</td>\n",
       "      <td>4.741714</td>\n",
       "      <td>97.696926</td>\n",
       "      <td>0.0</td>\n",
       "      <td>0.143952</td>\n",
       "      <td>0.295505</td>\n",
       "      <td>0.483414</td>\n",
       "      <td>5774.5</td>\n",
       "    </tr>\n",
       "  </tbody>\n",
       "</table>\n",
       "</div>"
      ],
      "text/plain": [
       "                  count         mean          std  min         25%  \\\n",
       "missing_income                                                       \n",
       "False            7974.0  1604.300100  2356.503190  0.0  118.250000   \n",
       "True            32650.0     4.741714    97.696926  0.0    0.143952   \n",
       "\n",
       "                        50%          75%       max  \n",
       "missing_income                                      \n",
       "False           1109.000000  2314.500000  106885.0  \n",
       "True               0.295505     0.483414    5774.5  "
      ]
     },
     "execution_count": 7,
     "metadata": {},
     "output_type": "execute_result"
    }
   ],
   "source": [
    "#Replacing missing data by the mean\n",
    "data['missing_dependants'] = data['NumberOfDependents'].notna()\n",
    "data['missing_income'] = data['MonthlyIncome'].notna()\n",
    "data_clean = cd.replace_missing(data)\n",
    "\n",
    "#comment: there is a issue with debt ratio data when the income is 0 or null this provokes that the debt ratio are to high\n",
    "data_clean = data_clean[data_clean['MonthlyIncome'] != 0]\n",
    "data_Ratio = data_clean.groupby(data['missing_income'])['DebtRatio'].describe()\n",
    "data_Ratio\n"
   ]
  },
  {
   "cell_type": "markdown",
   "metadata": {},
   "source": [
    "Then we can drop this observation because this will generate bias even if we replace for mean. Actually we have two option first we run the model only with 32k observation or we run the whole model without the debt ratio. Also, we drop the observation of the variable Number of Times 60-90 days pas due not worse, because they are equal for the set of variables days past due not worse in general. \n"
   ]
  },
  {
   "cell_type": "code",
   "execution_count": 8,
   "metadata": {},
   "outputs": [],
   "source": [
    "data_clean = data_clean[data_clean['missing_income'] != False]\n",
    "data_clean = data_clean[data_clean['NumberOfTime60-89DaysPastDueNotWorse'] != 98]\n",
    "data_clean = data_clean[data_clean['NumberOfTime60-89DaysPastDueNotWorse'] != 96]"
   ]
  },
  {
   "cell_type": "markdown",
   "metadata": {},
   "source": [
    "## Creating features"
   ]
  },
  {
   "cell_type": "code",
   "execution_count": 9,
   "metadata": {},
   "outputs": [
    {
     "name": "stderr",
     "output_type": "stream",
     "text": [
      "/anaconda3/lib/python3.7/site-packages/scipy/stats/stats.py:1713: FutureWarning: Using a non-tuple sequence for multidimensional indexing is deprecated; use `arr[tuple(seq)]` instead of `arr[seq]`. In the future this will be interpreted as an array index, `arr[np.array(seq)]`, which will result either in an error or a different result.\n",
      "  return np.add.reduce(sorted[indexer] * weights, axis=axis) / sumval\n"
     ]
    },
    {
     "data": {
      "text/plain": [
       "6     2888\n",
       "7     2871\n",
       "8     2702\n",
       "5     2701\n",
       "9     2569\n",
       "4     2347\n",
       "10    2151\n",
       "11    1881\n",
       "3     1853\n",
       "12    1665\n",
       "13    1297\n",
       "2     1297\n",
       "14    1045\n",
       "15     867\n",
       "1      849\n",
       "16     727\n",
       "17     542\n",
       "18     407\n",
       "0      349\n",
       "19     347\n",
       "20     294\n",
       "21     198\n",
       "22     156\n",
       "23     135\n",
       "24      94\n",
       "25      79\n",
       "26      59\n",
       "27      50\n",
       "28      34\n",
       "29      27\n",
       "30      19\n",
       "32      18\n",
       "31      13\n",
       "34      12\n",
       "33      11\n",
       "35       8\n",
       "36       5\n",
       "39       4\n",
       "38       3\n",
       "37       2\n",
       "45       2\n",
       "40       2\n",
       "42       2\n",
       "49       2\n",
       "43       2\n",
       "52       2\n",
       "51       1\n",
       "48       1\n",
       "50       1\n",
       "56       1\n",
       "Name: NumberOfOpenCreditLinesAndLoans, dtype: int64"
      ]
     },
     "execution_count": 9,
     "metadata": {},
     "output_type": "execute_result"
    },
    {
     "data": {
      "image/png": "[encoded data removed]",
      "text/plain": [
       "<Figure size 432x288 with 1 Axes>"
      ]
     },
     "metadata": {},
     "output_type": "display_data"
    }
   ],
   "source": [
    "ed.histogram(data_clean.NumberOfOpenCreditLinesAndLoans)\n",
    "data_clean['NumberOfOpenCreditLinesAndLoans'].value_counts()"
   ]
  },
  {
   "cell_type": "code",
   "execution_count": 10,
   "metadata": {},
   "outputs": [
    {
     "data": {
      "text/plain": [
       "<matplotlib.axes._subplots.AxesSubplot at 0x1a20748a20>"
      ]
     },
     "execution_count": 10,
     "metadata": {},
     "output_type": "execute_result"
    },
    {
     "data": {
      "image/png": "[encoded data removed]",
      "text/plain": [
       "<Figure size 432x288 with 1 Axes>"
      ]
     },
     "metadata": {},
     "output_type": "display_data"
    }
   ],
   "source": [
    "# NumberOfTimes90DaysLate\n",
    "ed.histogram(data_clean.NumberOfTimes90DaysLate)\n"
   ]
  },
  {
   "cell_type": "code",
   "execution_count": 11,
   "metadata": {},
   "outputs": [
    {
     "data": {
      "text/plain": [
       "0     29910\n",
       "1      1620\n",
       "2       553\n",
       "3       264\n",
       "4       121\n",
       "5        49\n",
       "6        28\n",
       "7        18\n",
       "9         9\n",
       "8         7\n",
       "10        4\n",
       "13        3\n",
       "12        2\n",
       "14        1\n",
       "11        1\n",
       "17        1\n",
       "15        1\n",
       "Name: NumberOfTimes90DaysLate, dtype: int64"
      ]
     },
     "execution_count": 11,
     "metadata": {},
     "output_type": "execute_result"
    }
   ],
   "source": [
    "data_clean.NumberOfTimes90DaysLate.value_counts()\n"
   ]
  },
  {
   "cell_type": "code",
   "execution_count": 12,
   "metadata": {},
   "outputs": [
    {
     "data": {
      "text/plain": [
       "count    32592.000000\n",
       "mean         0.148441\n",
       "std          0.649389\n",
       "min          0.000000\n",
       "25%          0.000000\n",
       "50%          0.000000\n",
       "75%          0.000000\n",
       "max         17.000000\n",
       "Name: NumberOfTimes90DaysLate, dtype: float64"
      ]
     },
     "execution_count": 12,
     "metadata": {},
     "output_type": "execute_result"
    }
   ],
   "source": [
    "data_clean.NumberOfTimes90DaysLate.describe()\n"
   ]
  },
  {
   "cell_type": "markdown",
   "metadata": {},
   "source": [
    "We can see that the values that are greater than zero concetrate in a small distribution of values, then we use a dummy for only postive values."
   ]
  },
  {
   "cell_type": "code",
   "execution_count": 13,
   "metadata": {},
   "outputs": [],
   "source": [
    "data_clean['d_90DaysLate'] = np.where(data_clean['NumberOfTimes90DaysLate']>1, 1, 0)\n"
   ]
  },
  {
   "cell_type": "code",
   "execution_count": 14,
   "metadata": {},
   "outputs": [
    {
     "data": {
      "text/plain": [
       "<matplotlib.axes._subplots.AxesSubplot at 0x1a1e3ef5f8>"
      ]
     },
     "execution_count": 14,
     "metadata": {},
     "output_type": "execute_result"
    },
    {
     "data": {
      "image/png": "[encoded data removed]",
      "text/plain": [
       "<Figure size 432x288 with 1 Axes>"
      ]
     },
     "metadata": {},
     "output_type": "display_data"
    }
   ],
   "source": [
    "#NumberRealEstateLoansOrLines\n",
    "ed.histogram(data_clean.NumberRealEstateLoansOrLines)\n"
   ]
  },
  {
   "cell_type": "code",
   "execution_count": 15,
   "metadata": {},
   "outputs": [
    {
     "data": {
      "text/plain": [
       "0     11977\n",
       "1     11177\n",
       "2      7102\n",
       "3      1434\n",
       "4       504\n",
       "5       179\n",
       "6        89\n",
       "7        48\n",
       "9        23\n",
       "8        18\n",
       "10        9\n",
       "12        9\n",
       "13        7\n",
       "11        6\n",
       "15        3\n",
       "14        2\n",
       "25        1\n",
       "19        1\n",
       "17        1\n",
       "32        1\n",
       "16        1\n",
       "Name: NumberRealEstateLoansOrLines, dtype: int64"
      ]
     },
     "execution_count": 15,
     "metadata": {},
     "output_type": "execute_result"
    }
   ],
   "source": [
    "data_clean['NumberRealEstateLoansOrLines'].value_counts()\n"
   ]
  },
  {
   "cell_type": "markdown",
   "metadata": {},
   "source": [
    "We notice that most of the observation are concentrated in the values 0,1,2 then we create three dummies for the values 1, 2 and greater than 2"
   ]
  },
  {
   "cell_type": "code",
   "execution_count": 16,
   "metadata": {},
   "outputs": [],
   "source": [
    "data_clean['d_nrealstates1'] = np.where(data_clean['NumberRealEstateLoansOrLines'] == 1, 1, 0)\n",
    "data_clean['d_nrealstates2'] = np.where(data_clean['NumberRealEstateLoansOrLines'] == 2, 1, 0)\n",
    "data_clean['d_nrealstates3'] = np.where(data_clean['NumberRealEstateLoansOrLines'] > 2, 1, 0)\n"
   ]
  },
  {
   "cell_type": "code",
   "execution_count": 17,
   "metadata": {},
   "outputs": [
    {
     "data": {
      "text/plain": [
       "<matplotlib.axes._subplots.AxesSubplot at 0x1a207c3588>"
      ]
     },
     "execution_count": 17,
     "metadata": {},
     "output_type": "execute_result"
    },
    {
     "data": {
      "image/png": "[encoded data removed]",
      "text/plain": [
       "<Figure size 432x288 with 1 Axes>"
      ]
     },
     "metadata": {},
     "output_type": "display_data"
    }
   ],
   "source": [
    "#NumberOfTime60-89DaysPastDueNotWorse\n",
    "ed.histogram(data_clean['NumberOfTime60-89DaysPastDueNotWorse'])\n"
   ]
  },
  {
   "cell_type": "code",
   "execution_count": 18,
   "metadata": {},
   "outputs": [
    {
     "data": {
      "text/plain": [
       "0     30186\n",
       "1      1792\n",
       "2       411\n",
       "3       130\n",
       "4        47\n",
       "5        13\n",
       "6         8\n",
       "7         3\n",
       "11        1\n",
       "8         1\n",
       "Name: NumberOfTime60-89DaysPastDueNotWorse, dtype: int64"
      ]
     },
     "execution_count": 18,
     "metadata": {},
     "output_type": "execute_result"
    }
   ],
   "source": [
    "data_clean['NumberOfTime60-89DaysPastDueNotWorse'].value_counts()\n"
   ]
  },
  {
   "cell_type": "code",
   "execution_count": 19,
   "metadata": {
    "scrolled": true
   },
   "outputs": [
    {
     "data": {
      "text/plain": [
       "count    32592.000000\n",
       "mean         0.102633\n",
       "std          0.427625\n",
       "min          0.000000\n",
       "25%          0.000000\n",
       "50%          0.000000\n",
       "75%          0.000000\n",
       "max         11.000000\n",
       "Name: NumberOfTime60-89DaysPastDueNotWorse, dtype: float64"
      ]
     },
     "execution_count": 19,
     "metadata": {},
     "output_type": "execute_result"
    }
   ],
   "source": [
    "data_clean['NumberOfTime60-89DaysPastDueNotWorse'].describe()\n"
   ]
  },
  {
   "cell_type": "markdown",
   "metadata": {},
   "source": [
    "we see that also its concentrate in a small values that are positive then we select only a dummy for the observation that are positive."
   ]
  },
  {
   "cell_type": "code",
   "execution_count": 20,
   "metadata": {},
   "outputs": [],
   "source": [
    "data_clean['d_60-89DaysPastDueNotWorse'] = np.where(data_clean['NumberOfTime60-89DaysPastDueNotWorse']>1, 1, 0)\n"
   ]
  },
  {
   "cell_type": "code",
   "execution_count": 21,
   "metadata": {},
   "outputs": [
    {
     "data": {
      "text/plain": [
       "<matplotlib.axes._subplots.AxesSubplot at 0x1a2029ebe0>"
      ]
     },
     "execution_count": 21,
     "metadata": {},
     "output_type": "execute_result"
    },
    {
     "data": {
      "image/png": "[encoded data removed]",
      "text/plain": [
       "<Figure size 432x288 with 1 Axes>"
      ]
     },
     "metadata": {},
     "output_type": "display_data"
    }
   ],
   "source": [
    "#NumberOfTime30-59DaysPastDueNotWorse\n",
    "ed.histogram(data_clean['NumberOfTime30-59DaysPastDueNotWorse'])\n",
    "\n"
   ]
  },
  {
   "cell_type": "code",
   "execution_count": 22,
   "metadata": {},
   "outputs": [
    {
     "data": {
      "text/plain": [
       "0     25994\n",
       "1      4108\n",
       "2      1421\n",
       "3       583\n",
       "4       262\n",
       "5       123\n",
       "6        57\n",
       "7        23\n",
       "8        10\n",
       "9         7\n",
       "10        3\n",
       "12        1\n",
       "Name: NumberOfTime30-59DaysPastDueNotWorse, dtype: int64"
      ]
     },
     "execution_count": 22,
     "metadata": {},
     "output_type": "execute_result"
    }
   ],
   "source": [
    "data_clean['NumberOfTime30-59DaysPastDueNotWorse'].value_counts()\n"
   ]
  },
  {
   "cell_type": "code",
   "execution_count": 23,
   "metadata": {},
   "outputs": [
    {
     "data": {
      "text/plain": [
       "count    32592.000000\n",
       "mean         0.339040\n",
       "std          0.847154\n",
       "min          0.000000\n",
       "25%          0.000000\n",
       "50%          0.000000\n",
       "75%          0.000000\n",
       "max         12.000000\n",
       "Name: NumberOfTime30-59DaysPastDueNotWorse, dtype: float64"
      ]
     },
     "execution_count": 23,
     "metadata": {},
     "output_type": "execute_result"
    }
   ],
   "source": [
    "data_clean['NumberOfTime30-59DaysPastDueNotWorse'].describe()"
   ]
  },
  {
   "cell_type": "markdown",
   "metadata": {},
   "source": [
    "As we see, the values of thos variable concentrate in 0,1 2 and 3. Then we generate three dummies variables"
   ]
  },
  {
   "cell_type": "code",
   "execution_count": 24,
   "metadata": {},
   "outputs": [],
   "source": [
    "data_clean['d_Time30-59_1'] = np.where(data_clean['NumberRealEstateLoansOrLines'] == 1, 1, 0)\n",
    "data_clean['d_Time30-59_2'] = np.where(data_clean['NumberRealEstateLoansOrLines'] == 2, 1, 0)\n",
    "data_clean['d_Time30-59_3'] = np.where(data_clean['NumberRealEstateLoansOrLines'] > 2, 1, 0)"
   ]
  },
  {
   "cell_type": "markdown",
   "metadata": {},
   "source": [
    "Now generate the dummy for every zipcode."
   ]
  },
  {
   "cell_type": "code",
   "execution_count": 25,
   "metadata": {},
   "outputs": [],
   "source": [
    "df_zipcode= pd.get_dummies(data_clean['zipcode'])"
   ]
  },
  {
   "cell_type": "code",
   "execution_count": 26,
   "metadata": {},
   "outputs": [],
   "source": [
    "#features\n",
    "X_col = float_columns.copy()\n",
    "X_col.append('NumberOfOpenCreditLinesAndLoans')\n",
    "X_col.append('d_90DaysLate')\n",
    "X_col.append('d_nrealstates1')\n",
    "X_col.append('d_nrealstates2')\n",
    "X_col.append('d_nrealstates3')\n",
    "X_col.append('d_60-89DaysPastDueNotWorse')\n",
    "X_col.append('d_Time30-59_1')\n",
    "X_col.append('d_Time30-59_2')\n",
    "X_col.append('d_Time30-59_3')\n"
   ]
  },
  {
   "cell_type": "code",
   "execution_count": 27,
   "metadata": {},
   "outputs": [],
   "source": [
    "X = data_clean[X_col]\n",
    "X = X.join(df_zipcode)\n",
    "Y=data_clean['SeriousDlqin2yrs']"
   ]
  },
  {
   "cell_type": "code",
   "execution_count": 28,
   "metadata": {},
   "outputs": [],
   "source": [
    "X_train, X_test, y_train, y_test = bm.gen_train_test_data(X,Y,.3)"
   ]
  },
  {
   "cell_type": "markdown",
   "metadata": {},
   "source": [
    "## Training the model"
   ]
  },
  {
   "cell_type": "code",
   "execution_count": 29,
   "metadata": {},
   "outputs": [
    {
     "name": "stderr",
     "output_type": "stream",
     "text": [
      "/anaconda3/lib/python3.7/site-packages/sklearn/linear_model/logistic.py:433: FutureWarning: Default solver will be changed to 'lbfgs' in 0.22. Specify a solver to silence this warning.\n",
      "  FutureWarning)\n"
     ]
    },
    {
     "data": {
      "text/plain": [
       "LogisticRegression(C=1.0, class_weight=None, dual=False, fit_intercept=True,\n",
       "          intercept_scaling=1, max_iter=100, multi_class='warn',\n",
       "          n_jobs=None, penalty='l2', random_state=None, solver='warn',\n",
       "          tol=0.0001, verbose=0, warm_start=False)"
      ]
     },
     "execution_count": 29,
     "metadata": {},
     "output_type": "execute_result"
    }
   ],
   "source": [
    "logreg = LogisticRegression()\n",
    "logreg.fit(X_train, y_train)"
   ]
  },
  {
   "cell_type": "code",
   "execution_count": 30,
   "metadata": {},
   "outputs": [
    {
     "name": "stdout",
     "output_type": "stream",
     "text": [
      "Accuracy of logistic regression classifier on test set: 0.85\n",
      "              precision    recall  f1-score   support\n",
      "\n",
      "           0       0.86      0.98      0.92      8118\n",
      "           1       0.70      0.21      0.33      1660\n",
      "\n",
      "   micro avg       0.85      0.85      0.85      9778\n",
      "   macro avg       0.78      0.60      0.62      9778\n",
      "weighted avg       0.83      0.85      0.82      9778\n",
      "\n"
     ]
    },
    {
     "data": {
      "text/plain": [
       "array([[7964,  154],\n",
       "       [1307,  353]])"
      ]
     },
     "execution_count": 30,
     "metadata": {},
     "output_type": "execute_result"
    }
   ],
   "source": [
    "bm.predict_result(X_test, y_test, logreg)"
   ]
  },
  {
   "cell_type": "markdown",
   "metadata": {},
   "source": [
    "In general we see that the model fit 85% of the cases in the test data, which is not a bad result."
   ]
  },
  {
   "cell_type": "code",
   "execution_count": 32,
   "metadata": {},
   "outputs": [
    {
     "data": {
      "image/png": "[encoded data removed]",
      "text/plain": [
       "<Figure size 432x288 with 1 Axes>"
      ]
     },
     "metadata": {},
     "output_type": "display_data"
    }
   ],
   "source": [
    "bm.auc_roc_graph(X_test, y_test, logreg)"
   ]
  },
  {
   "cell_type": "code",
   "execution_count": null,
   "metadata": {},
   "outputs": [],
   "source": []
  }
 ],
 "metadata": {
  "kernelspec": {
   "display_name": "Python 3",
   "language": "python",
   "name": "python3"
  },
  "language_info": {
   "codemirror_mode": {
    "name": "ipython",
    "version": 3
   },
   "file_extension": ".py",
   "mimetype": "text/x-python",
   "name": "python",
   "nbconvert_exporter": "python",
   "pygments_lexer": "ipython3",
   "version": "3.7.1"
  }
 },
 "nbformat": 4,
 "nbformat_minor": 2
}
