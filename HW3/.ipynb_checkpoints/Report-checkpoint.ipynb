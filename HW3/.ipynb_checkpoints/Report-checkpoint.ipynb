{
 "cells": [
  {
   "cell_type": "markdown",
   "metadata": {},
   "source": [
    "# Report"
   ]
  },
  {
   "cell_type": "code",
   "execution_count": 6,
   "metadata": {},
   "outputs": [],
   "source": [
    "import csv\n",
    "import pandas as pd\n",
    "import numpy as np\n",
    "import matplotlib.pyplot as plt\n",
    "import build_models as bm"
   ]
  },
  {
   "cell_type": "code",
   "execution_count": 48,
   "metadata": {},
   "outputs": [],
   "source": [
    "precision = pd.read_csv('Data/precision.csv')\n",
    "roc = pd.read_csv('Data/auc_roc.csv')"
   ]
  },
  {
   "cell_type": "markdown",
   "metadata": {},
   "source": [
    "## Analizing Precision"
   ]
  },
  {
   "cell_type": "code",
   "execution_count": 49,
   "metadata": {},
   "outputs": [],
   "source": [
    "precision['Time and Model'] = precision['test_data'] + '_' + precision['model_type']"
   ]
  },
  {
   "cell_type": "code",
   "execution_count": 20,
   "metadata": {},
   "outputs": [
    {
     "data": {
      "text/html": [
       "<div>\n",
       "<style scoped>\n",
       "    .dataframe tbody tr th:only-of-type {\n",
       "        vertical-align: middle;\n",
       "    }\n",
       "\n",
       "    .dataframe tbody tr th {\n",
       "        vertical-align: top;\n",
       "    }\n",
       "\n",
       "    .dataframe thead th {\n",
       "        text-align: right;\n",
       "    }\n",
       "</style>\n",
       "<table border=\"1\" class=\"dataframe\">\n",
       "  <thead>\n",
       "    <tr style=\"text-align: right;\">\n",
       "      <th></th>\n",
       "      <th>Unnamed: 0</th>\n",
       "      <th>test_data</th>\n",
       "      <th>model_type</th>\n",
       "      <th>p_at_1</th>\n",
       "      <th>p_at_2</th>\n",
       "      <th>p_at_5</th>\n",
       "      <th>p_at_10</th>\n",
       "      <th>p_at_20</th>\n",
       "      <th>p_at_30</th>\n",
       "      <th>p_at_50</th>\n",
       "      <th>p_at_70</th>\n",
       "      <th>p_at_100</th>\n",
       "      <th>new</th>\n",
       "    </tr>\n",
       "  </thead>\n",
       "  <tbody>\n",
       "    <tr>\n",
       "      <th>0</th>\n",
       "      <td>0</td>\n",
       "      <td>test1</td>\n",
       "      <td>RF</td>\n",
       "      <td>0.409639</td>\n",
       "      <td>0.385542</td>\n",
       "      <td>0.356856</td>\n",
       "      <td>0.362069</td>\n",
       "      <td>0.357386</td>\n",
       "      <td>0.351416</td>\n",
       "      <td>0.327080</td>\n",
       "      <td>0.300160</td>\n",
       "      <td>0.249028</td>\n",
       "      <td>test1_RF</td>\n",
       "    </tr>\n",
       "    <tr>\n",
       "      <th>1</th>\n",
       "      <td>1</td>\n",
       "      <td>test1</td>\n",
       "      <td>LR</td>\n",
       "      <td>0.465863</td>\n",
       "      <td>0.427711</td>\n",
       "      <td>0.394547</td>\n",
       "      <td>0.382919</td>\n",
       "      <td>0.358589</td>\n",
       "      <td>0.350214</td>\n",
       "      <td>0.318663</td>\n",
       "      <td>0.292430</td>\n",
       "      <td>0.249028</td>\n",
       "      <td>test1_LR</td>\n",
       "    </tr>\n",
       "    <tr>\n",
       "      <th>2</th>\n",
       "      <td>2</td>\n",
       "      <td>test1</td>\n",
       "      <td>SVM</td>\n",
       "      <td>0.188755</td>\n",
       "      <td>0.337349</td>\n",
       "      <td>0.335204</td>\n",
       "      <td>0.352446</td>\n",
       "      <td>0.361796</td>\n",
       "      <td>0.359433</td>\n",
       "      <td>0.333734</td>\n",
       "      <td>0.304398</td>\n",
       "      <td>0.249028</td>\n",
       "      <td>test1_SVM</td>\n",
       "    </tr>\n",
       "    <tr>\n",
       "      <th>3</th>\n",
       "      <td>3</td>\n",
       "      <td>test1</td>\n",
       "      <td>DT</td>\n",
       "      <td>0.152610</td>\n",
       "      <td>0.253012</td>\n",
       "      <td>0.275862</td>\n",
       "      <td>0.339214</td>\n",
       "      <td>0.232311</td>\n",
       "      <td>0.329236</td>\n",
       "      <td>0.335257</td>\n",
       "      <td>0.293862</td>\n",
       "      <td>0.249028</td>\n",
       "      <td>test1_DT</td>\n",
       "    </tr>\n",
       "    <tr>\n",
       "      <th>4</th>\n",
       "      <td>4</td>\n",
       "      <td>test1</td>\n",
       "      <td>KNN</td>\n",
       "      <td>0.212851</td>\n",
       "      <td>0.305221</td>\n",
       "      <td>0.374499</td>\n",
       "      <td>0.362069</td>\n",
       "      <td>0.323913</td>\n",
       "      <td>0.269508</td>\n",
       "      <td>0.357143</td>\n",
       "      <td>0.255096</td>\n",
       "      <td>0.249028</td>\n",
       "      <td>test1_KNN</td>\n",
       "    </tr>\n",
       "    <tr>\n",
       "      <th>5</th>\n",
       "      <td>5</td>\n",
       "      <td>test1</td>\n",
       "      <td>SGD</td>\n",
       "      <td>0.425703</td>\n",
       "      <td>0.399598</td>\n",
       "      <td>0.354451</td>\n",
       "      <td>0.344026</td>\n",
       "      <td>0.329525</td>\n",
       "      <td>0.320684</td>\n",
       "      <td>0.302629</td>\n",
       "      <td>0.286475</td>\n",
       "      <td>0.249028</td>\n",
       "      <td>test1_SGD</td>\n",
       "    </tr>\n",
       "    <tr>\n",
       "      <th>6</th>\n",
       "      <td>6</td>\n",
       "      <td>test1</td>\n",
       "      <td>AB</td>\n",
       "      <td>0.000000</td>\n",
       "      <td>0.000000</td>\n",
       "      <td>0.000000</td>\n",
       "      <td>0.000000</td>\n",
       "      <td>0.000000</td>\n",
       "      <td>0.166221</td>\n",
       "      <td>0.406926</td>\n",
       "      <td>0.290712</td>\n",
       "      <td>0.249028</td>\n",
       "      <td>test1_AB</td>\n",
       "    </tr>\n",
       "    <tr>\n",
       "      <th>7</th>\n",
       "      <td>0</td>\n",
       "      <td>test2</td>\n",
       "      <td>RF</td>\n",
       "      <td>0.607692</td>\n",
       "      <td>0.573077</td>\n",
       "      <td>0.536098</td>\n",
       "      <td>0.514198</td>\n",
       "      <td>0.507675</td>\n",
       "      <td>0.475569</td>\n",
       "      <td>0.424866</td>\n",
       "      <td>0.389212</td>\n",
       "      <td>0.326836</td>\n",
       "      <td>test2_RF</td>\n",
       "    </tr>\n",
       "    <tr>\n",
       "      <th>8</th>\n",
       "      <td>1</td>\n",
       "      <td>test2</td>\n",
       "      <td>LR</td>\n",
       "      <td>0.592308</td>\n",
       "      <td>0.584615</td>\n",
       "      <td>0.563748</td>\n",
       "      <td>0.534152</td>\n",
       "      <td>0.487337</td>\n",
       "      <td>0.445127</td>\n",
       "      <td>0.411051</td>\n",
       "      <td>0.376932</td>\n",
       "      <td>0.326836</td>\n",
       "      <td>test2_LR</td>\n",
       "    </tr>\n",
       "    <tr>\n",
       "      <th>9</th>\n",
       "      <td>2</td>\n",
       "      <td>test2</td>\n",
       "      <td>SVM</td>\n",
       "      <td>0.576923</td>\n",
       "      <td>0.603846</td>\n",
       "      <td>0.582181</td>\n",
       "      <td>0.534152</td>\n",
       "      <td>0.509210</td>\n",
       "      <td>0.478895</td>\n",
       "      <td>0.429163</td>\n",
       "      <td>0.389541</td>\n",
       "      <td>0.326836</td>\n",
       "      <td>test2_SVM</td>\n",
       "    </tr>\n",
       "    <tr>\n",
       "      <th>10</th>\n",
       "      <td>3</td>\n",
       "      <td>test2</td>\n",
       "      <td>DT</td>\n",
       "      <td>0.253846</td>\n",
       "      <td>0.400000</td>\n",
       "      <td>0.453149</td>\n",
       "      <td>0.454336</td>\n",
       "      <td>0.493093</td>\n",
       "      <td>0.446406</td>\n",
       "      <td>0.437759</td>\n",
       "      <td>0.376603</td>\n",
       "      <td>0.326836</td>\n",
       "      <td>test2_DT</td>\n",
       "    </tr>\n",
       "    <tr>\n",
       "      <th>11</th>\n",
       "      <td>4</td>\n",
       "      <td>test2</td>\n",
       "      <td>KNN</td>\n",
       "      <td>0.407692</td>\n",
       "      <td>0.396154</td>\n",
       "      <td>0.279570</td>\n",
       "      <td>0.364543</td>\n",
       "      <td>0.396009</td>\n",
       "      <td>0.384241</td>\n",
       "      <td>0.425787</td>\n",
       "      <td>0.355443</td>\n",
       "      <td>0.326836</td>\n",
       "      <td>test2_KNN</td>\n",
       "    </tr>\n",
       "    <tr>\n",
       "      <th>12</th>\n",
       "      <td>5</td>\n",
       "      <td>test2</td>\n",
       "      <td>SGD</td>\n",
       "      <td>0.569231</td>\n",
       "      <td>0.557692</td>\n",
       "      <td>0.542243</td>\n",
       "      <td>0.501919</td>\n",
       "      <td>0.464697</td>\n",
       "      <td>0.437708</td>\n",
       "      <td>0.401842</td>\n",
       "      <td>0.373643</td>\n",
       "      <td>0.326836</td>\n",
       "      <td>test2_SGD</td>\n",
       "    </tr>\n",
       "    <tr>\n",
       "      <th>13</th>\n",
       "      <td>6</td>\n",
       "      <td>test2</td>\n",
       "      <td>AB</td>\n",
       "      <td>0.000000</td>\n",
       "      <td>0.000000</td>\n",
       "      <td>0.000000</td>\n",
       "      <td>0.064467</td>\n",
       "      <td>0.032617</td>\n",
       "      <td>0.188539</td>\n",
       "      <td>0.512970</td>\n",
       "      <td>0.366517</td>\n",
       "      <td>0.326836</td>\n",
       "      <td>test2_AB</td>\n",
       "    </tr>\n",
       "    <tr>\n",
       "      <th>14</th>\n",
       "      <td>0</td>\n",
       "      <td>test3</td>\n",
       "      <td>RF</td>\n",
       "      <td>0.541033</td>\n",
       "      <td>0.515933</td>\n",
       "      <td>0.495446</td>\n",
       "      <td>0.461305</td>\n",
       "      <td>0.431259</td>\n",
       "      <td>0.416953</td>\n",
       "      <td>0.379317</td>\n",
       "      <td>0.340920</td>\n",
       "      <td>0.277023</td>\n",
       "      <td>test3_RF</td>\n",
       "    </tr>\n",
       "    <tr>\n",
       "      <th>15</th>\n",
       "      <td>1</td>\n",
       "      <td>test3</td>\n",
       "      <td>LR</td>\n",
       "      <td>0.525836</td>\n",
       "      <td>0.485584</td>\n",
       "      <td>0.476624</td>\n",
       "      <td>0.454021</td>\n",
       "      <td>0.440212</td>\n",
       "      <td>0.413818</td>\n",
       "      <td>0.374158</td>\n",
       "      <td>0.332900</td>\n",
       "      <td>0.277023</td>\n",
       "      <td>test3_LR</td>\n",
       "    </tr>\n",
       "    <tr>\n",
       "      <th>16</th>\n",
       "      <td>2</td>\n",
       "      <td>test3</td>\n",
       "      <td>SVM</td>\n",
       "      <td>0.507599</td>\n",
       "      <td>0.449165</td>\n",
       "      <td>0.440801</td>\n",
       "      <td>0.423369</td>\n",
       "      <td>0.402428</td>\n",
       "      <td>0.395812</td>\n",
       "      <td>0.366329</td>\n",
       "      <td>0.332856</td>\n",
       "      <td>0.277023</td>\n",
       "      <td>test3_SVM</td>\n",
       "    </tr>\n",
       "    <tr>\n",
       "      <th>17</th>\n",
       "      <td>3</td>\n",
       "      <td>test3</td>\n",
       "      <td>DT</td>\n",
       "      <td>0.334347</td>\n",
       "      <td>0.367223</td>\n",
       "      <td>0.406800</td>\n",
       "      <td>0.325038</td>\n",
       "      <td>0.420637</td>\n",
       "      <td>0.363544</td>\n",
       "      <td>0.377617</td>\n",
       "      <td>0.342741</td>\n",
       "      <td>0.277023</td>\n",
       "      <td>test3_DT</td>\n",
       "    </tr>\n",
       "    <tr>\n",
       "      <th>18</th>\n",
       "      <td>4</td>\n",
       "      <td>test3</td>\n",
       "      <td>KNN</td>\n",
       "      <td>0.419453</td>\n",
       "      <td>0.216995</td>\n",
       "      <td>0.341834</td>\n",
       "      <td>0.393930</td>\n",
       "      <td>0.356146</td>\n",
       "      <td>0.283128</td>\n",
       "      <td>0.399466</td>\n",
       "      <td>0.304331</td>\n",
       "      <td>0.277023</td>\n",
       "      <td>test3_KNN</td>\n",
       "    </tr>\n",
       "    <tr>\n",
       "      <th>19</th>\n",
       "      <td>5</td>\n",
       "      <td>test3</td>\n",
       "      <td>SGD</td>\n",
       "      <td>0.534954</td>\n",
       "      <td>0.503794</td>\n",
       "      <td>0.474196</td>\n",
       "      <td>0.454325</td>\n",
       "      <td>0.435205</td>\n",
       "      <td>0.415031</td>\n",
       "      <td>0.369363</td>\n",
       "      <td>0.332119</td>\n",
       "      <td>0.277023</td>\n",
       "      <td>test3_SGD</td>\n",
       "    </tr>\n",
       "    <tr>\n",
       "      <th>20</th>\n",
       "      <td>6</td>\n",
       "      <td>test3</td>\n",
       "      <td>AB</td>\n",
       "      <td>0.000000</td>\n",
       "      <td>0.000000</td>\n",
       "      <td>0.000000</td>\n",
       "      <td>0.000000</td>\n",
       "      <td>0.000000</td>\n",
       "      <td>0.166498</td>\n",
       "      <td>0.485100</td>\n",
       "      <td>0.346512</td>\n",
       "      <td>0.277023</td>\n",
       "      <td>test3_AB</td>\n",
       "    </tr>\n",
       "  </tbody>\n",
       "</table>\n",
       "</div>"
      ],
      "text/plain": [
       "    Unnamed: 0 test_data model_type    p_at_1    p_at_2    p_at_5   p_at_10  \\\n",
       "0            0     test1         RF  0.409639  0.385542  0.356856  0.362069   \n",
       "1            1     test1         LR  0.465863  0.427711  0.394547  0.382919   \n",
       "2            2     test1        SVM  0.188755  0.337349  0.335204  0.352446   \n",
       "3            3     test1         DT  0.152610  0.253012  0.275862  0.339214   \n",
       "4            4     test1        KNN  0.212851  0.305221  0.374499  0.362069   \n",
       "5            5     test1        SGD  0.425703  0.399598  0.354451  0.344026   \n",
       "6            6     test1         AB  0.000000  0.000000  0.000000  0.000000   \n",
       "7            0     test2         RF  0.607692  0.573077  0.536098  0.514198   \n",
       "8            1     test2         LR  0.592308  0.584615  0.563748  0.534152   \n",
       "9            2     test2        SVM  0.576923  0.603846  0.582181  0.534152   \n",
       "10           3     test2         DT  0.253846  0.400000  0.453149  0.454336   \n",
       "11           4     test2        KNN  0.407692  0.396154  0.279570  0.364543   \n",
       "12           5     test2        SGD  0.569231  0.557692  0.542243  0.501919   \n",
       "13           6     test2         AB  0.000000  0.000000  0.000000  0.064467   \n",
       "14           0     test3         RF  0.541033  0.515933  0.495446  0.461305   \n",
       "15           1     test3         LR  0.525836  0.485584  0.476624  0.454021   \n",
       "16           2     test3        SVM  0.507599  0.449165  0.440801  0.423369   \n",
       "17           3     test3         DT  0.334347  0.367223  0.406800  0.325038   \n",
       "18           4     test3        KNN  0.419453  0.216995  0.341834  0.393930   \n",
       "19           5     test3        SGD  0.534954  0.503794  0.474196  0.454325   \n",
       "20           6     test3         AB  0.000000  0.000000  0.000000  0.000000   \n",
       "\n",
       "     p_at_20   p_at_30   p_at_50   p_at_70  p_at_100        new  \n",
       "0   0.357386  0.351416  0.327080  0.300160  0.249028   test1_RF  \n",
       "1   0.358589  0.350214  0.318663  0.292430  0.249028   test1_LR  \n",
       "2   0.361796  0.359433  0.333734  0.304398  0.249028  test1_SVM  \n",
       "3   0.232311  0.329236  0.335257  0.293862  0.249028   test1_DT  \n",
       "4   0.323913  0.269508  0.357143  0.255096  0.249028  test1_KNN  \n",
       "5   0.329525  0.320684  0.302629  0.286475  0.249028  test1_SGD  \n",
       "6   0.000000  0.166221  0.406926  0.290712  0.249028   test1_AB  \n",
       "7   0.507675  0.475569  0.424866  0.389212  0.326836   test2_RF  \n",
       "8   0.487337  0.445127  0.411051  0.376932  0.326836   test2_LR  \n",
       "9   0.509210  0.478895  0.429163  0.389541  0.326836  test2_SVM  \n",
       "10  0.493093  0.446406  0.437759  0.376603  0.326836   test2_DT  \n",
       "11  0.396009  0.384241  0.425787  0.355443  0.326836  test2_KNN  \n",
       "12  0.464697  0.437708  0.401842  0.373643  0.326836  test2_SGD  \n",
       "13  0.032617  0.188539  0.512970  0.366517  0.326836   test2_AB  \n",
       "14  0.431259  0.416953  0.379317  0.340920  0.277023   test3_RF  \n",
       "15  0.440212  0.413818  0.374158  0.332900  0.277023   test3_LR  \n",
       "16  0.402428  0.395812  0.366329  0.332856  0.277023  test3_SVM  \n",
       "17  0.420637  0.363544  0.377617  0.342741  0.277023   test3_DT  \n",
       "18  0.356146  0.283128  0.399466  0.304331  0.277023  test3_KNN  \n",
       "19  0.435205  0.415031  0.369363  0.332119  0.277023  test3_SGD  \n",
       "20  0.000000  0.166498  0.485100  0.346512  0.277023   test3_AB  "
      ]
     },
     "execution_count": 20,
     "metadata": {},
     "output_type": "execute_result"
    }
   ],
   "source": [
    "precision"
   ]
  },
  {
   "cell_type": "markdown",
   "metadata": {},
   "source": [
    "Before of analyze the result, we need to explain that test1 is the first rolling window period, test2, is the second and test3 is the third. The first one starts in "
   ]
  },
  {
   "cell_type": "code",
   "execution_count": 30,
   "metadata": {},
   "outputs": [
    {
     "data": {
      "image/png": "[encoded data removed]",
      "text/plain": [
       "<Figure size 432x288 with 1 Axes>"
      ]
     },
     "metadata": {
      "needs_background": "light"
     },
     "output_type": "display_data"
    },
    {
     "data": {
      "text/plain": [
       "<Figure size 7200x7200 with 0 Axes>"
      ]
     },
     "metadata": {},
     "output_type": "display_data"
    }
   ],
   "source": [
    "precision_test1 = precision[(precision['test_data'] == 'test1')]\n",
    "plt.bar(precision_test1.model_type, precision_test1.p_at_5)\n",
    "plt.figure(figsize=(100,100))\n",
    "plt.show()"
   ]
  },
  {
   "cell_type": "code",
   "execution_count": 31,
   "metadata": {},
   "outputs": [
    {
     "data": {
      "image/png": "[encoded data removed]",
      "text/plain": [
       "<Figure size 432x288 with 1 Axes>"
      ]
     },
     "metadata": {
      "needs_background": "light"
     },
     "output_type": "display_data"
    },
    {
     "data": {
      "text/plain": [
       "<Figure size 7200x7200 with 0 Axes>"
      ]
     },
     "metadata": {},
     "output_type": "display_data"
    }
   ],
   "source": [
    "precision_test2 = precision[(precision['test_data'] == 'test2')]\n",
    "plt.bar(precision_test2.model_type, precision_test2.p_at_5)\n",
    "plt.figure(figsize=(100,100))\n",
    "plt.show()"
   ]
  },
  {
   "cell_type": "code",
   "execution_count": 34,
   "metadata": {},
   "outputs": [
    {
     "data": {
      "image/png": "[encoded data removed]",
      "text/plain": [
       "<Figure size 432x288 with 1 Axes>"
      ]
     },
     "metadata": {
      "needs_background": "light"
     },
     "output_type": "display_data"
    },
    {
     "data": {
      "text/plain": [
       "<Figure size 7200x7200 with 0 Axes>"
      ]
     },
     "metadata": {},
     "output_type": "display_data"
    }
   ],
   "source": [
    "precision_test3 = precision[(precision['test_data'] == 'test3')]\n",
    "plt.bar(precision_test3.model_type, precision_test3.p_at_5)\n",
    "plt.figure(figsize=(100,100))\n",
    "plt.show()"
   ]
  },
  {
   "cell_type": "markdown",
   "metadata": {},
   "source": [
    "If we see the graph of the different precision results with a threshold of 5%. We find that the model that maximize the result depend in the data set 1 is the LR, RF and SVM models. For the test set 2, we find that SVM, LR and RF models. Finally for the third set we find that RF, LR and SVM."
   ]
  },
  {
   "cell_type": "code",
   "execution_count": 38,
   "metadata": {},
   "outputs": [
    {
     "data": {
      "text/plain": [
       "model_type\n",
       "AB     0.000000\n",
       "DT     0.378604\n",
       "KNN    0.331968\n",
       "LR     0.478306\n",
       "RF     0.462800\n",
       "SGD    0.456963\n",
       "SVM    0.452729\n",
       "Name: p_at_5, dtype: float64"
      ]
     },
     "execution_count": 38,
     "metadata": {},
     "output_type": "execute_result"
    }
   ],
   "source": [
    "precision.groupby('model_type').mean()['p_at_5']"
   ]
  },
  {
   "cell_type": "markdown",
   "metadata": {},
   "source": [
    "If we take the mean of three experiments we find that the logistic regression have the highest values, followed by the Random Forest."
   ]
  },
  {
   "cell_type": "markdown",
   "metadata": {},
   "source": [
    "## Analyzing ROC"
   ]
  },
  {
   "cell_type": "code",
   "execution_count": 33,
   "metadata": {},
   "outputs": [
    {
     "data": {
      "text/html": [
       "<div>\n",
       "<style scoped>\n",
       "    .dataframe tbody tr th:only-of-type {\n",
       "        vertical-align: middle;\n",
       "    }\n",
       "\n",
       "    .dataframe tbody tr th {\n",
       "        vertical-align: top;\n",
       "    }\n",
       "\n",
       "    .dataframe thead th {\n",
       "        text-align: right;\n",
       "    }\n",
       "</style>\n",
       "<table border=\"1\" class=\"dataframe\">\n",
       "  <thead>\n",
       "    <tr style=\"text-align: right;\">\n",
       "      <th></th>\n",
       "      <th>test_data</th>\n",
       "      <th>model_type</th>\n",
       "      <th>clf</th>\n",
       "      <th>auc-roc</th>\n",
       "    </tr>\n",
       "  </thead>\n",
       "  <tbody>\n",
       "    <tr>\n",
       "      <th>0</th>\n",
       "      <td>test1</td>\n",
       "      <td>RF</td>\n",
       "      <td>(DecisionTreeClassifier(class_weight=None, cri...</td>\n",
       "      <td>0.639654</td>\n",
       "    </tr>\n",
       "    <tr>\n",
       "      <th>1</th>\n",
       "      <td>test1</td>\n",
       "      <td>LR</td>\n",
       "      <td>LogisticRegression(C=0.1, class_weight=None, d...</td>\n",
       "      <td>0.628519</td>\n",
       "    </tr>\n",
       "    <tr>\n",
       "      <th>2</th>\n",
       "      <td>test1</td>\n",
       "      <td>SVM</td>\n",
       "      <td>SVC(C=1, cache_size=200, class_weight=None, co...</td>\n",
       "      <td>0.648937</td>\n",
       "    </tr>\n",
       "    <tr>\n",
       "      <th>3</th>\n",
       "      <td>test1</td>\n",
       "      <td>DT</td>\n",
       "      <td>DecisionTreeClassifier(class_weight=None, crit...</td>\n",
       "      <td>0.626578</td>\n",
       "    </tr>\n",
       "    <tr>\n",
       "      <th>4</th>\n",
       "      <td>test1</td>\n",
       "      <td>KNN</td>\n",
       "      <td>KNeighborsClassifier(algorithm='auto', leaf_si...</td>\n",
       "      <td>0.598111</td>\n",
       "    </tr>\n",
       "    <tr>\n",
       "      <th>5</th>\n",
       "      <td>test1</td>\n",
       "      <td>SGD</td>\n",
       "      <td>SGDClassifier(alpha=0.0001, average=False, cla...</td>\n",
       "      <td>0.600593</td>\n",
       "    </tr>\n",
       "    <tr>\n",
       "      <th>6</th>\n",
       "      <td>test1</td>\n",
       "      <td>AB</td>\n",
       "      <td>(DecisionTreeClassifier(class_weight=None, cri...</td>\n",
       "      <td>0.599895</td>\n",
       "    </tr>\n",
       "    <tr>\n",
       "      <th>7</th>\n",
       "      <td>test2</td>\n",
       "      <td>RF</td>\n",
       "      <td>(DecisionTreeClassifier(class_weight=None, cri...</td>\n",
       "      <td>0.657300</td>\n",
       "    </tr>\n",
       "    <tr>\n",
       "      <th>8</th>\n",
       "      <td>test2</td>\n",
       "      <td>LR</td>\n",
       "      <td>LogisticRegression(C=0.1, class_weight=None, d...</td>\n",
       "      <td>0.633536</td>\n",
       "    </tr>\n",
       "    <tr>\n",
       "      <th>9</th>\n",
       "      <td>test2</td>\n",
       "      <td>SVM</td>\n",
       "      <td>SVC(C=1, cache_size=200, class_weight=None, co...</td>\n",
       "      <td>0.659624</td>\n",
       "    </tr>\n",
       "    <tr>\n",
       "      <th>10</th>\n",
       "      <td>test2</td>\n",
       "      <td>DT</td>\n",
       "      <td>DecisionTreeClassifier(class_weight=None, crit...</td>\n",
       "      <td>0.656576</td>\n",
       "    </tr>\n",
       "    <tr>\n",
       "      <th>11</th>\n",
       "      <td>test2</td>\n",
       "      <td>KNN</td>\n",
       "      <td>KNeighborsClassifier(algorithm='auto', leaf_si...</td>\n",
       "      <td>0.592328</td>\n",
       "    </tr>\n",
       "    <tr>\n",
       "      <th>12</th>\n",
       "      <td>test2</td>\n",
       "      <td>SGD</td>\n",
       "      <td>SGDClassifier(alpha=0.0001, average=False, cla...</td>\n",
       "      <td>0.621176</td>\n",
       "    </tr>\n",
       "    <tr>\n",
       "      <th>13</th>\n",
       "      <td>test2</td>\n",
       "      <td>AB</td>\n",
       "      <td>(DecisionTreeClassifier(class_weight=None, cri...</td>\n",
       "      <td>0.614077</td>\n",
       "    </tr>\n",
       "    <tr>\n",
       "      <th>14</th>\n",
       "      <td>test3</td>\n",
       "      <td>RF</td>\n",
       "      <td>(DecisionTreeClassifier(class_weight=None, cri...</td>\n",
       "      <td>0.672584</td>\n",
       "    </tr>\n",
       "    <tr>\n",
       "      <th>15</th>\n",
       "      <td>test3</td>\n",
       "      <td>LR</td>\n",
       "      <td>LogisticRegression(C=0.1, class_weight=None, d...</td>\n",
       "      <td>0.660012</td>\n",
       "    </tr>\n",
       "    <tr>\n",
       "      <th>16</th>\n",
       "      <td>test3</td>\n",
       "      <td>SVM</td>\n",
       "      <td>SVC(C=1, cache_size=200, class_weight=None, co...</td>\n",
       "      <td>0.646384</td>\n",
       "    </tr>\n",
       "    <tr>\n",
       "      <th>17</th>\n",
       "      <td>test3</td>\n",
       "      <td>DT</td>\n",
       "      <td>DecisionTreeClassifier(class_weight=None, crit...</td>\n",
       "      <td>0.665992</td>\n",
       "    </tr>\n",
       "    <tr>\n",
       "      <th>18</th>\n",
       "      <td>test3</td>\n",
       "      <td>KNN</td>\n",
       "      <td>KNeighborsClassifier(algorithm='auto', leaf_si...</td>\n",
       "      <td>0.622719</td>\n",
       "    </tr>\n",
       "    <tr>\n",
       "      <th>19</th>\n",
       "      <td>test3</td>\n",
       "      <td>SGD</td>\n",
       "      <td>SGDClassifier(alpha=0.0001, average=False, cla...</td>\n",
       "      <td>0.656475</td>\n",
       "    </tr>\n",
       "    <tr>\n",
       "      <th>20</th>\n",
       "      <td>test3</td>\n",
       "      <td>AB</td>\n",
       "      <td>(DecisionTreeClassifier(class_weight=None, cri...</td>\n",
       "      <td>0.614990</td>\n",
       "    </tr>\n",
       "  </tbody>\n",
       "</table>\n",
       "</div>"
      ],
      "text/plain": [
       "   test_data model_type                                                clf  \\\n",
       "0      test1         RF  (DecisionTreeClassifier(class_weight=None, cri...   \n",
       "1      test1         LR  LogisticRegression(C=0.1, class_weight=None, d...   \n",
       "2      test1        SVM  SVC(C=1, cache_size=200, class_weight=None, co...   \n",
       "3      test1         DT  DecisionTreeClassifier(class_weight=None, crit...   \n",
       "4      test1        KNN  KNeighborsClassifier(algorithm='auto', leaf_si...   \n",
       "5      test1        SGD  SGDClassifier(alpha=0.0001, average=False, cla...   \n",
       "6      test1         AB  (DecisionTreeClassifier(class_weight=None, cri...   \n",
       "7      test2         RF  (DecisionTreeClassifier(class_weight=None, cri...   \n",
       "8      test2         LR  LogisticRegression(C=0.1, class_weight=None, d...   \n",
       "9      test2        SVM  SVC(C=1, cache_size=200, class_weight=None, co...   \n",
       "10     test2         DT  DecisionTreeClassifier(class_weight=None, crit...   \n",
       "11     test2        KNN  KNeighborsClassifier(algorithm='auto', leaf_si...   \n",
       "12     test2        SGD  SGDClassifier(alpha=0.0001, average=False, cla...   \n",
       "13     test2         AB  (DecisionTreeClassifier(class_weight=None, cri...   \n",
       "14     test3         RF  (DecisionTreeClassifier(class_weight=None, cri...   \n",
       "15     test3         LR  LogisticRegression(C=0.1, class_weight=None, d...   \n",
       "16     test3        SVM  SVC(C=1, cache_size=200, class_weight=None, co...   \n",
       "17     test3         DT  DecisionTreeClassifier(class_weight=None, crit...   \n",
       "18     test3        KNN  KNeighborsClassifier(algorithm='auto', leaf_si...   \n",
       "19     test3        SGD  SGDClassifier(alpha=0.0001, average=False, cla...   \n",
       "20     test3         AB  (DecisionTreeClassifier(class_weight=None, cri...   \n",
       "\n",
       "     auc-roc  \n",
       "0   0.639654  \n",
       "1   0.628519  \n",
       "2   0.648937  \n",
       "3   0.626578  \n",
       "4   0.598111  \n",
       "5   0.600593  \n",
       "6   0.599895  \n",
       "7   0.657300  \n",
       "8   0.633536  \n",
       "9   0.659624  \n",
       "10  0.656576  \n",
       "11  0.592328  \n",
       "12  0.621176  \n",
       "13  0.614077  \n",
       "14  0.672584  \n",
       "15  0.660012  \n",
       "16  0.646384  \n",
       "17  0.665992  \n",
       "18  0.622719  \n",
       "19  0.656475  \n",
       "20  0.614990  "
      ]
     },
     "execution_count": 33,
     "metadata": {},
     "output_type": "execute_result"
    }
   ],
   "source": [
    "roc"
   ]
  },
  {
   "cell_type": "code",
   "execution_count": 42,
   "metadata": {},
   "outputs": [
    {
     "data": {
      "image/png": "[encoded data removed]",
      "text/plain": [
       "<Figure size 432x288 with 1 Axes>"
      ]
     },
     "metadata": {
      "needs_background": "light"
     },
     "output_type": "display_data"
    },
    {
     "data": {
      "text/plain": [
       "<Figure size 7200x7200 with 0 Axes>"
      ]
     },
     "metadata": {},
     "output_type": "display_data"
    }
   ],
   "source": [
    "roc_test1 = roc[(roc['test_data'] == 'test1')]\n",
    "plt.bar(roc_test1.model_type, roc_test1['auc-roc'])\n",
    "plt.figure(figsize=(100,100))\n",
    "plt.show()"
   ]
  },
  {
   "cell_type": "code",
   "execution_count": 46,
   "metadata": {},
   "outputs": [
    {
     "data": {
      "image/png": "[encoded data removed]",
      "text/plain": [
       "<Figure size 432x288 with 1 Axes>"
      ]
     },
     "metadata": {
      "needs_background": "light"
     },
     "output_type": "display_data"
    },
    {
     "data": {
      "text/plain": [
       "<Figure size 7200x7200 with 0 Axes>"
      ]
     },
     "metadata": {},
     "output_type": "display_data"
    }
   ],
   "source": [
    "roc_test2 = roc[(roc['test_data'] == 'test2')]\n",
    "plt.bar(roc_test2.model_type, roc_test2['auc-roc'])\n",
    "plt.figure(figsize=(100,100))\n",
    "plt.show()"
   ]
  },
  {
   "cell_type": "code",
   "execution_count": 47,
   "metadata": {},
   "outputs": [
    {
     "data": {
      "image/png": "[encoded data removed]",
      "text/plain": [
       "<Figure size 432x288 with 1 Axes>"
      ]
     },
     "metadata": {
      "needs_background": "light"
     },
     "output_type": "display_data"
    },
    {
     "data": {
      "text/plain": [
       "<Figure size 7200x7200 with 0 Axes>"
      ]
     },
     "metadata": {},
     "output_type": "display_data"
    }
   ],
   "source": [
    "roc_test3 = roc[(roc['test_data'] == 'test3')]\n",
    "plt.bar(roc_test3.model_type, roc_test2['auc-roc'])\n",
    "plt.figure(figsize=(100,100))\n",
    "plt.show()"
   ]
  },
  {
   "cell_type": "code",
   "execution_count": 45,
   "metadata": {},
   "outputs": [
    {
     "data": {
      "text/plain": [
       "model_type\n",
       "AB     0.609654\n",
       "DT     0.649715\n",
       "KNN    0.604386\n",
       "LR     0.640689\n",
       "RF     0.656513\n",
       "SGD    0.626081\n",
       "SVM    0.651648\n",
       "Name: auc-roc, dtype: float64"
      ]
     },
     "execution_count": 45,
     "metadata": {},
     "output_type": "execute_result"
    }
   ],
   "source": [
    "roc.groupby('model_type').mean()['auc-roc']"
   ]
  },
  {
   "cell_type": "markdown",
   "metadata": {},
   "source": [
    "Taking into account the auc-roc, we find that in average the random forest have a better result that the other models."
   ]
  },
  {
   "cell_type": "markdown",
   "metadata": {},
   "source": [
    "Then as RF and LR have the better results now we select them to analyze the project."
   ]
  },
  {
   "cell_type": "markdown",
   "metadata": {},
   "source": [
    "# Conclusions"
   ]
  },
  {
   "cell_type": "markdown",
   "metadata": {},
   "source": [
    "At this levels of precision i will not deploy the model, because at a 50% precision for the RF means that only 50% of where labeled as positive only 50% where correctly assigned. Meaning, that we requiere to create probably better features so to improve the precision.  In other hand if we analyze the result of recall we saw that we have a low recall level at 5% for RF and LR are around 8%, this means that for all with efectivily get there funding before 60 days, 8% where really getting it. All this elements comes to support the conclusion of not deploy the model because the average probability is if we see recall at 100% in the third test sample. We found that on overall araoun 27% of the projects get their funding before 60 days."
   ]
  }
 ],
 "metadata": {
  "kernelspec": {
   "display_name": "Python 3",
   "language": "python",
   "name": "python3"
  },
  "language_info": {
   "codemirror_mode": {
    "name": "ipython",
    "version": 3
   },
   "file_extension": ".py",
   "mimetype": "text/x-python",
   "name": "python",
   "nbconvert_exporter": "python",
   "pygments_lexer": "ipython3",
   "version": "3.7.1"
  }
 },
 "nbformat": 4,
 "nbformat_minor": 2
}
